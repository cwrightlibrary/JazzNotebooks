{
 "cells": [
  {
   "cell_type": "code",
   "execution_count": 58,
   "metadata": {},
   "outputs": [],
   "source": [
    "from music21 import *\n",
    "\n",
    "def tab(notes):\n",
    "    s = stream.Score()\n",
    "    p = stream.Part()\n",
    "    c = clef.TabClef()\n",
    "    l = layout.StaffLayout()\n",
    "    l.staffLines = 6\n",
    "\n",
    "    # get info\n",
    "    info_start = 5\n",
    "\n",
    "    for i in range(info_start, len(notes)):\n",
    "        if notes[i : i + 5] == \"INFO \":\n",
    "            info_end = i\n",
    "\n",
    "    info = list(filter(lambda x: len(x) > 0, notes[info_start:info_end].split(\" \")))\n",
    "    \n",
    "    t = meter.TimeSignature(info[2])\n",
    "    \n",
    "    p.append(t)\n",
    "    p.append(c)\n",
    "    p.append(l)\n",
    "    \n",
    "    g = instrument.AcousticGuitar()\n",
    "    p.append(g)\n",
    "    \n",
    "    notes = notes[info_end + 5 :].split(\" \")\n",
    "    for n in notes:\n",
    "        if n[0] == \"!\":\n",
    "            p.append(harmony.ChordSymbol(n[1:]))\n",
    "        else:\n",
    "            is_chord, is_tie = False, \"none\"\n",
    "            if \"(\" in n:\n",
    "                is_chord = True\n",
    "                note_name = n.replace(\"(\", \"\").replace(\")\", \"\").split(\",\")\n",
    "                if \"t\" in note_name[-1]:\n",
    "                    note_length = note_name[-1][-2:]\n",
    "                    note_name[-1] = note_name[-1][:-2]\n",
    "                else:\n",
    "                    note_length = note_name[-1][-1]\n",
    "                    note_name[-1] = note_name[-1][:-1]\n",
    "            else:\n",
    "                if \"{\" in n:\n",
    "                    is_tie = \"start\"\n",
    "                if \"}\" in n:\n",
    "                    is_tie = \"stop\"\n",
    "                if n[-1] == \"t\":\n",
    "                    note_name = n[:-2].replace(\"{\", \"\").replace(\"}\", \"\")\n",
    "                    note_length = n[-2:]\n",
    "                else:\n",
    "                    note_name = n[:-1].replace(\"{\", \"\").replace(\"}\", \"\")\n",
    "                    note_length = n[-1:]\n",
    "            lengths = [[\"w\", 4], [\"h\", 2], [\"d\", 3], [\"q\", 1], [\"u\", 1.5], [\"e\", 0.5], [\"s\", 0.25]]\n",
    "            for l in lengths:\n",
    "                if isinstance(note_length, str):\n",
    "                    if l[0] in note_length:\n",
    "                        if \"t\" in note_length:\n",
    "                            note_length = l[1] * 0.333333333\n",
    "                        else:\n",
    "                            note_length = l[1]\n",
    "            if isinstance(note_name, list):\n",
    "                add_n = chord.Chord(note_name, quarterLength=note_length)\n",
    "            else:\n",
    "                if note_name.lower() == \"r\":\n",
    "                    add_n = note.Rest(quarterLength=note_length)\n",
    "                else:\n",
    "                    add_n = note.Note(note_name, quarterLength=note_length)\n",
    "            if is_tie != \"none\":\n",
    "                add_n.tie = tie.Tie(is_tie)\n",
    "            \n",
    "            p.append(add_n)\n",
    "    \n",
    "    s.append(p)\n",
    "    s.makeNotation()\n",
    "    \n",
    "    s.show()"
   ]
  },
  {
   "cell_type": "code",
   "execution_count": 59,
   "metadata": {},
   "outputs": [
    {
     "data": {
      "image/png": "[encoded data removed]",
      "text/plain": [
       "<IPython.core.display.Image object>"
      ]
     },
     "metadata": {
      "image/png": {
       "height": 84,
       "width": 321
      }
     },
     "output_type": "display_data"
    }
   ],
   "source": [
    "notes = \"INFO guitar c 6/4 INFO e2q a2q d3q g3q b3q e4q\"\n",
    "\n",
    "tab(notes)"
   ]
  },
  {
   "cell_type": "code",
   "execution_count": 60,
   "metadata": {},
   "outputs": [
    {
     "data": {
      "image/png": "[encoded data removed]",
      "text/plain": [
       "<IPython.core.display.Image object>"
      ]
     },
     "metadata": {
      "image/png": {
       "height": 79,
       "width": 167
      }
     },
     "output_type": "display_data"
    }
   ],
   "source": [
    "notes = \"INFO guitar c 4/4 INFO !c (c3,e3,g3,c4,e4)w\"\n",
    "\n",
    "tab(notes)"
   ]
  }
 ],
 "metadata": {
  "kernelspec": {
   "display_name": ".venv",
   "language": "python",
   "name": "python3"
  },
  "language_info": {
   "codemirror_mode": {
    "name": "ipython",
    "version": 3
   },
   "file_extension": ".py",
   "mimetype": "text/x-python",
   "name": "python",
   "nbconvert_exporter": "python",
   "pygments_lexer": "ipython3",
   "version": "3.12.4"
  }
 },
 "nbformat": 4,
 "nbformat_minor": 2
}
