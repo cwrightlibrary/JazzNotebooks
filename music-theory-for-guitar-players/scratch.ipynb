{
 "cells": [
  {
   "cell_type": "code",
   "execution_count": 1,
   "metadata": {},
   "outputs": [
    {
     "data": {
      "image/svg+xml": [
       "<svg xmlns=\"http://www.w3.org/2000/svg\" xmlns:xlink=\"http://www.w3.org/1999/xlink\" width=\"200\" height=\"200\" viewBox=\"0 0 200 200\">\n",
       "<defs>\n",
       "</defs>\n",
       "<rect x=\"50\" y=\"50\" width=\"100\" height=\"100\" fill=\"blue\"/>\n",
       "</svg>"
      ],
      "text/plain": [
       "<IPython.core.display.SVG object>"
      ]
     },
     "metadata": {},
     "output_type": "display_data"
    }
   ],
   "source": [
    "# Import necessary libraries\n",
    "import drawsvg as dwg\n",
    "from IPython.display import SVG, display\n",
    "\n",
    "# Create a DrawSVG Drawing object\n",
    "drawing = dwg.Drawing(width=200, height=200)\n",
    "\n",
    "# Define the square parameters\n",
    "square_size = 100\n",
    "square_position = 50\n",
    "square_color = 'blue'\n",
    "\n",
    "# Add a square to the drawing\n",
    "# drawing.append(dwg.Rectangle(\n",
    "#     insert=square_position,\n",
    "#     size=(square_size, square_size),\n",
    "#     fill=square_color\n",
    "# ))\n",
    "drawing.append(dwg.Rectangle(square_position, square_position, square_size, square_size, fill=square_color))\n",
    "\n",
    "# Convert the drawing to SVG string\n",
    "svg_data = drawing.as_svg()\n",
    "\n",
    "# Display the SVG in the notebook\n",
    "display(SVG(data=svg_data))\n"
   ]
  },
  {
   "cell_type": "code",
   "execution_count": 14,
   "metadata": {},
   "outputs": [
    {
     "name": "stdout",
     "output_type": "stream",
     "text": [
      "<music21.layout.SystemLayout>\n",
      "<music21.layout.StaffLayout distance None, staffNumber None, staffSize None, staffLines 6>\n",
      "<music21.clef.TabClef>\n",
      "<music21.key.KeySignature of no sharps or flats>\n",
      "<music21.meter.TimeSignature 4/4>\n",
      "<music21.note.Note F>\n",
      "<music21.note.Note C>\n",
      "<music21.note.Note F>\n",
      "<music21.note.Note A>\n"
     ]
    }
   ],
   "source": [
    "from music21 import *\n",
    "\n",
    "s = converter.parse(\"test.musicxml\")\n",
    "\n",
    "for item in s.parts[0][1]:\n",
    "    print(item)\n",
    "\n",
    "# for item in s.parts[0]:\n",
    "#     print(item)\n",
    "#     if \"measure\" in str(item).lower():\n",
    "#         for sub in item:\n",
    "#             if \"note\" in str(sub).lower():\n",
    "#                 print(sub.fullName)\n",
    "# s.show()\n"
   ]
  },
  {
   "cell_type": "code",
   "execution_count": 3,
   "metadata": {},
   "outputs": [
    {
     "data": {
      "image/png": "[encoded data removed]",
      "text/plain": [
       "<IPython.core.display.Image object>"
      ]
     },
     "metadata": {
      "image/png": {
       "height": 84,
       "width": 321
      }
     },
     "output_type": "display_data"
    }
   ],
   "source": [
    "from music21 import *\n",
    "\n",
    "s = stream.Score()\n",
    "p = stream.Part()\n",
    "c = clef.TabClef()\n",
    "l = layout.StaffLayout()\n",
    "l.staffLines = 6\n",
    "t = meter.TimeSignature(\"6/4\")\n",
    "\n",
    "p.append(t)\n",
    "p.append(c)\n",
    "p.append(l)\n",
    "\n",
    "g = instrument.AcousticGuitar()\n",
    "p.append(g)\n",
    "\n",
    "en = note.Note(\"E2\", quarterLength=1)\n",
    "an = note.Note(\"A2\", quarterLength=1)\n",
    "dn = note.Note(\"D3\", quarterLength=1)\n",
    "gn = note.Note(\"G3\", quarterLength=1)\n",
    "bn = note.Note(\"B3\", quarterLength=1)\n",
    "hen = note.Note(\"E4\", quarterLength=1)\n",
    "\n",
    "p.append(en)\n",
    "p.append(an)\n",
    "p.append(dn)\n",
    "p.append(gn)\n",
    "p.append(bn)\n",
    "p.append(hen)\n",
    "\n",
    "s.append(p)\n",
    "\n",
    "s.makeNotation()\n",
    "\n",
    "s.show()"
   ]
  },
  {
   "cell_type": "code",
   "execution_count": 4,
   "metadata": {},
   "outputs": [
    {
     "name": "stdout",
     "output_type": "stream",
     "text": [
      "fig. 5\n"
     ]
    },
    {
     "data": {
      "image/png": "[encoded data removed]",
      "text/plain": [
       "<IPython.core.display.Image object>"
      ]
     },
     "metadata": {
      "image/png": {
       "height": 108,
       "width": 200
      }
     },
     "output_type": "display_data"
    }
   ],
   "source": [
    "s = stream.Score()\n",
    "p = stream.Part()\n",
    "c = clef.TabClef()\n",
    "l = layout.StaffLayout()\n",
    "l.staffLines = 6\n",
    "t = meter.TimeSignature(\"6/4\")\n",
    "\n",
    "p.append(t)\n",
    "p.append(c)\n",
    "p.append(l)\n",
    "\n",
    "g = instrument.AcousticGuitar()\n",
    "p.append(g)\n",
    "\n",
    "cn = note.Note(\"C3\", quarterLength=2)\n",
    "csn = note.Note(\"C#3\", quarterLength=2)\n",
    "\n",
    "cc = harmony.ChordSymbol(\"C\")\n",
    "csc = harmony.ChordSymbol(\"C#\")\n",
    "\n",
    "p.append(cc)\n",
    "p.append(cn)\n",
    "p.append(csc)\n",
    "p.append(csn)\n",
    "\n",
    "s.append(p)\n",
    "\n",
    "s.makeNotation()\n",
    "\n",
    "print(\"fig. 5\")\n",
    "s.show()"
   ]
  },
  {
   "cell_type": "code",
   "execution_count": 5,
   "metadata": {},
   "outputs": [
    {
     "name": "stdout",
     "output_type": "stream",
     "text": [
      "fig. 8\n"
     ]
    },
    {
     "data": {
      "image/png": "[encoded data removed]",
      "text/plain": [
       "<IPython.core.display.Image object>"
      ]
     },
     "metadata": {
      "image/png": {
       "height": 107,
       "width": 161
      }
     },
     "output_type": "display_data"
    }
   ],
   "source": [
    "s = stream.Score()\n",
    "p = stream.Part()\n",
    "c = clef.TabClef()\n",
    "l = layout.StaffLayout()\n",
    "l.staffLines = 6\n",
    "t = meter.TimeSignature(\"6/4\")\n",
    "\n",
    "p.append(t)\n",
    "p.append(c)\n",
    "p.append(l)\n",
    "\n",
    "g = instrument.AcousticGuitar()\n",
    "p.append(g)\n",
    "\n",
    "cc = chord.Chord([\"C3\", \"E3\", \"G3\", \"C4\", \"E4\"])\n",
    "cn = harmony.ChordSymbol(\"C\")\n",
    "\n",
    "p.append(cn)\n",
    "p.append(cc)\n",
    "\n",
    "s.append(p)\n",
    "\n",
    "s.makeNotation()\n",
    "\n",
    "print(\"fig. 8\")\n",
    "s.show()"
   ]
  }
 ],
 "metadata": {
  "kernelspec": {
   "display_name": "Python 3",
   "language": "python",
   "name": "python3"
  },
  "language_info": {
   "codemirror_mode": {
    "name": "ipython",
    "version": 3
   },
   "file_extension": ".py",
   "mimetype": "text/x-python",
   "name": "python",
   "nbconvert_exporter": "python",
   "pygments_lexer": "ipython3",
   "version": "3.12.4"
  }
 },
 "nbformat": 4,
 "nbformat_minor": 2
}
