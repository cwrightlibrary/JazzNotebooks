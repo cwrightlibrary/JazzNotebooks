{
 "cells": [
  {
   "cell_type": "code",
   "execution_count": 1,
   "metadata": {},
   "outputs": [
    {
     "data": {
      "image/svg+xml": [
       "<svg xmlns=\"http://www.w3.org/2000/svg\" xmlns:xlink=\"http://www.w3.org/1999/xlink\" width=\"200\" height=\"200\" viewBox=\"0 0 200 200\">\n",
       "<defs>\n",
       "</defs>\n",
       "<rect x=\"50\" y=\"50\" width=\"100\" height=\"100\" fill=\"blue\"/>\n",
       "</svg>"
      ],
      "text/plain": [
       "<IPython.core.display.SVG object>"
      ]
     },
     "metadata": {},
     "output_type": "display_data"
    }
   ],
   "source": [
    "# Import necessary libraries\n",
    "import drawsvg as dwg\n",
    "from IPython.display import SVG, display\n",
    "\n",
    "# Create a DrawSVG Drawing object\n",
    "drawing = dwg.Drawing(width=200, height=200)\n",
    "\n",
    "# Define the square parameters\n",
    "square_size = 100\n",
    "square_position = 50\n",
    "square_color = 'blue'\n",
    "\n",
    "# Add a square to the drawing\n",
    "# drawing.append(dwg.Rectangle(\n",
    "#     insert=square_position,\n",
    "#     size=(square_size, square_size),\n",
    "#     fill=square_color\n",
    "# ))\n",
    "drawing.append(dwg.Rectangle(square_position, square_position, square_size, square_size, fill=square_color))\n",
    "\n",
    "# Convert the drawing to SVG string\n",
    "svg_data = drawing.as_svg()\n",
    "\n",
    "# Display the SVG in the notebook\n",
    "display(SVG(data=svg_data))\n"
   ]
  },
  {
   "cell_type": "code",
   "execution_count": 43,
   "metadata": {},
   "outputs": [
    {
     "name": "stdout",
     "output_type": "stream",
     "text": [
      "<music21.layout.ScoreLayout>\n"
     ]
    }
   ],
   "source": [
    "from music21 import *\n",
    "\n",
    "s = converter.parse(\"test.musicxml\")\n",
    "\n",
    "for item in s:\n",
    "    if \"layout\" in str(item).lower():\n",
    "        print(item.)\n",
    "\n",
    "# for item in s.parts[0]:\n",
    "#     print(item)\n",
    "#     if \"measure\" in str(item).lower():\n",
    "#         for sub in item:\n",
    "#             if \"note\" in str(sub).lower():\n",
    "#                 print(sub.fullName)\n",
    "# s.show()\n"
   ]
  },
  {
   "cell_type": "code",
   "execution_count": 36,
   "metadata": {},
   "outputs": [
    {
     "data": {
      "image/png": "[encoded data removed]",
      "text/plain": [
       "<IPython.core.display.Image object>"
      ]
     },
     "metadata": {
      "image/png": {
       "height": 69,
       "width": 249
      }
     },
     "output_type": "display_data"
    }
   ],
   "source": [
    "s = stream.Score()\n",
    "p = stream.Part()\n",
    "\n",
    "p.append(clef.TabClef())\n",
    "\n",
    "g = instrument.AcousticGuitar()\n",
    "p.append(g)\n",
    "\n",
    "n = note.Note(\"C4\", quarterLength=1)\n",
    "\n",
    "p.repeatAppend(n, 4)\n",
    "s.append(p)\n",
    "\n",
    "s.makeNotation()\n",
    "\n",
    "s.show()"
   ]
  }
 ],
 "metadata": {
  "kernelspec": {
   "display_name": "Python 3",
   "language": "python",
   "name": "python3"
  },
  "language_info": {
   "codemirror_mode": {
    "name": "ipython",
    "version": 3
   },
   "file_extension": ".py",
   "mimetype": "text/x-python",
   "name": "python",
   "nbconvert_exporter": "python",
   "pygments_lexer": "ipython3",
   "version": "3.11.4"
  }
 },
 "nbformat": 4,
 "nbformat_minor": 2
}
