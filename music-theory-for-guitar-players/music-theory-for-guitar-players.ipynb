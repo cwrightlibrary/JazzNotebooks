{
 "cells": [
  {
   "cell_type": "code",
   "execution_count": 1,
   "metadata": {},
   "outputs": [],
   "source": [
    "from music21 import *\n",
    "from IPython.display import Image\n",
    "\n",
    "\n",
    "def music(notes: str, midi: bool = False):\n",
    "    s = stream.Score()\n",
    "    part = stream.Part()\n",
    "\n",
    "    # get info\n",
    "    info_start = 5\n",
    "\n",
    "    for i in range(info_start, len(notes)):\n",
    "        if notes[i : i + 5] == \"INFO \":\n",
    "            info_end = i\n",
    "\n",
    "    info = list(filter(lambda x: len(x) > 0, notes[info_start:info_end].split(\" \")))\n",
    "\n",
    "    # set clef\n",
    "    if info[0].lower() == \"treble\":\n",
    "        s.append(instrument.AcousticGuitar())\n",
    "        part.append(clef.TrebleClef())\n",
    "    elif info[0].lower() == \"bass\":\n",
    "        part.append(clef.BassClef())\n",
    "    elif info[0].lower() == \"guitar\":\n",
    "        part.append(clef.Treble8vbClef())\n",
    "\n",
    "    # set key\n",
    "    keys = [\n",
    "        [\"cb\", -7],\n",
    "        [\"gb\", -6],\n",
    "        [\"db\", -5],\n",
    "        [\"ab\", -4],\n",
    "        [\"eb\", -3],\n",
    "        [\"bb\", -2],\n",
    "        [\"f\", -1],\n",
    "        [\"c\", 0],\n",
    "        [\"g\", 1],\n",
    "        [\"d\", 2],\n",
    "        [\"a\", 3],\n",
    "        [\"e\", 4],\n",
    "        [\"b\", 5],\n",
    "        [\"f#\", 6],\n",
    "        [\"c#\", 7],\n",
    "    ]\n",
    "    for k in keys:\n",
    "        if info[1].lower() == k[0]:\n",
    "            part.append(key.KeySignature(k[1]))\n",
    "\n",
    "    # set time signature\n",
    "    part.append(meter.TimeSignature(info[2]))\n",
    "\n",
    "    # add notes\n",
    "    notes = notes[info_end + 5 :].split(\" \")\n",
    "    add_notes = []\n",
    "    for n in notes:\n",
    "        # add chord name\n",
    "        if n[0] == \"!\":\n",
    "            add_notes.append(harmony.ChordSymbol(n[1:]))\n",
    "        # start next measure on a new line\n",
    "        elif n == \"^\":\n",
    "            add_notes.append(layout.SystemLayout(isNew=True))\n",
    "        else:\n",
    "            # set variables\n",
    "            is_chord, is_tie, is_col, lyric = False, \"none\", \"\", \"\"\n",
    "            # if the note is a chord\n",
    "            if \"(\" in n:\n",
    "                is_chord = True\n",
    "                note_name = n.replace(\"(\", \"\").replace(\")\", \"\").split(\",\")\n",
    "                if \"t\" in note_name[-1]:\n",
    "                    note_length = note_name[-1][-2:]\n",
    "                    note_name[-1] = note_name[-1][:-2]\n",
    "                else:\n",
    "                    note_length = note_name[-1][-1]\n",
    "                    note_name[-1] = note_name[-1][:-1]\n",
    "            else:\n",
    "                if \"{\" in n:\n",
    "                    is_tie = \"start\"\n",
    "                if \"}\" in n:\n",
    "                    is_tie = \"stop\"\n",
    "                if \"[\" in n:\n",
    "                    for i in range(len(n)):\n",
    "                        if n[i] == \"[\":\n",
    "                            lyric_start = i + 1\n",
    "                        if n[i] == \"]\":\n",
    "                            lyric_end = i\n",
    "                    lyric = n[lyric_start:lyric_end]\n",
    "                    n = n[:lyric_start - 1]\n",
    "                if n[-1] == \"t\":\n",
    "                    if n[0] == \"B\":\n",
    "                        is_col = \"#06538a\"\n",
    "                        note_name = n[1:-2].replace(\"{\", \"\").replace(\"}\", \"\")\n",
    "                    elif n[0] == \"R\":\n",
    "                        is_col = \"#8a062d\"\n",
    "                        note_name = n[1:-2].replace(\"{\", \"\").replace(\"}\", \"\")\n",
    "                    else:\n",
    "                        note_name = n[:-2].replace(\"{\", \"\").replace(\"}\", \"\")\n",
    "                    note_length = n[-2:]\n",
    "                else:\n",
    "                    if n[0] == \"B\":\n",
    "                        is_col = \"#06538a\"\n",
    "                        note_name = n[1:-1].replace(\"{\", \"\").replace(\"}\", \"\")\n",
    "                    elif n[0] == \"R\":\n",
    "                        is_col = \"#8a062d\"\n",
    "                        note_name = n[1:-1].replace(\"{\", \"\").replace(\"}\", \"\")\n",
    "                    else:\n",
    "                        note_name = n[:-1].replace(\"{\", \"\").replace(\"}\", \"\")\n",
    "                    note_length = n[-1:]\n",
    "            lengths = [[\"w\", 4], [\"h\", 2], [\"d\", 3], [\"q\", 1], [\"u\", 1.5], [\"e\", 0.5], [\"s\", 0.25]]\n",
    "            for l in lengths:\n",
    "                if isinstance(note_length, str):\n",
    "                    if l[0] in note_length:\n",
    "                        if \"t\" in note_length:\n",
    "                            note_length = l[1] * 0.333333333\n",
    "                        else:\n",
    "                            note_length = l[1]\n",
    "            if is_tie == \"none\":\n",
    "                if is_col == \"\":\n",
    "                    if lyric != \"\":\n",
    "                        add_notes.append([note_name, note_length, lyric])\n",
    "                    else:\n",
    "                        add_notes.append([note_name, note_length])\n",
    "                else:\n",
    "                    if lyric != \"\":\n",
    "                        add_notes.append([note_name, note_length, is_col, lyric])\n",
    "                    else:\n",
    "                        add_notes.append([note_name, note_length, is_col])\n",
    "            else:\n",
    "                if is_col == \"\":\n",
    "                    if lyric != \"\":\n",
    "                        add_notes.append([note_name, note_length, is_tie, lyric])\n",
    "                    else:\n",
    "                        add_notes.append([note_name, note_length, is_col, is_tie])\n",
    "                else:\n",
    "                    if lyric != \"\":\n",
    "                        add_notes.append([note_name, note_length, is_tie, is_col, lyric])\n",
    "                    else:\n",
    "                        add_notes.append([note_name, note_length, is_tie, is_col])\n",
    "\n",
    "    for n in add_notes:\n",
    "        if isinstance(n, list):\n",
    "            if isinstance(n[0], list):\n",
    "                add_n = chord.Chord(n[0], quarterLength=n[1])\n",
    "            else:\n",
    "                if n[0].lower() == \"r\":\n",
    "                    add_n = note.Rest(quarterLength=n[1])\n",
    "                elif n[0] in [\"slash\", \"s\"]:\n",
    "                    add_n = note.Unpitched()\n",
    "                    add_n.notehead = \"slash\"\n",
    "                    add_n.stemDirection = \"noStem\"\n",
    "                    add_n.volume.velocity = 0\n",
    "                else:\n",
    "                    add_n = note.Note(n[0], quarterLength=n[1])\n",
    "            if len(n) == 3:\n",
    "                if n[2] in [\"start\", \"stop\"]:\n",
    "                    add_n.tie = tie.Tie(n[2])\n",
    "                elif n[2] not in [\"#06538a\", \"#8a062d\"]:\n",
    "                    texp = expressions.TextExpression(n[2].replace(\"-\", \" \"))\n",
    "                    texp.style.fontsize = 10\n",
    "                    texp.style.fontFamily = \"Segoe UI\"\n",
    "                    texp.placement = \"below\"\n",
    "                    part.append(texp)\n",
    "                else:\n",
    "                    add_n.style.color = n[2]\n",
    "            if len(n) == 4:\n",
    "                # [note_name, note_length, is_col, lyric]\n",
    "                if n[2] in [\"start\", \"stop\"]:\n",
    "                    add_n.tie = tie.Tie(n[2])\n",
    "                else:\n",
    "                    add_n.style.color = n[2]\n",
    "                if n[3] not in [\"#06538a\", \"#8a062d\"]:\n",
    "                    texp = expressions.TextExpression(n[3].replace(\"-\", \" \"))\n",
    "                    texp.style.fontSize = 10\n",
    "                    texp.style.fontFamily = \"Segoe UI\"\n",
    "                    texp.placement = \"below\"\n",
    "                    part.append(texp)\n",
    "                else:\n",
    "                    add_n.style.color = n[3]\n",
    "            elif len(n) == 5:\n",
    "                add_n.tie = tie.Tie(n[2])\n",
    "                add_n.style.color = n[3]\n",
    "                texp = expressions.TextExpression(n[4].replace(\"-\", \"\"))\n",
    "                texp.style.fontSize = 10\n",
    "                texp.style.fontFamily = \"Segoe UI\"\n",
    "                texp.placement = \"below\"\n",
    "                part.append(texp)\n",
    "            part.append(add_n)\n",
    "        else:\n",
    "            part.append(n)\n",
    "\n",
    "    if info[0].lower() == \"guitar\":\n",
    "        part.makeNotation()\n",
    "\n",
    "    s.append(part)\n",
    "\n",
    "    if info[0].lower() == \"guitar\":\n",
    "        s.makeNotation()\n",
    "\n",
    "    swung_part = stream.Part()\n",
    "\n",
    "    if midi:\n",
    "        step = 0.0\n",
    "        for item in part:\n",
    "            if isinstance(item, note.Note) or isinstance(item, note.Rest):\n",
    "                if str(step)[-1] == \"9\":\n",
    "                    step = float(round(step))\n",
    "                elif str(step)[-1] == \"2\":\n",
    "                    step = float(round(step))\n",
    "                if isinstance(item, note.Note):\n",
    "                    new_note = note.Note(item.pitch)\n",
    "                    if item.tie:\n",
    "                        if \"start\" in str(item.tie):\n",
    "                            new_note.tie = tie.Tie(\"start\")\n",
    "                        if \"stop\" in str(item.tie):\n",
    "                            new_note.tie = tie.Tie(\"stop\")\n",
    "                        if \"continue\" in str(item.tie):\n",
    "                            new_note.tie = tie.Tie(\"continue\")\n",
    "                else:\n",
    "                    new_note = note.Rest()\n",
    "                if str(step)[-2:] == \".0\":\n",
    "                    if item.quarterLength == 0.5:\n",
    "                        new_note.quarterLength = 0.333333333 * 2\n",
    "                    elif item.quarterLength == 1.5:\n",
    "                        new_note.quarterLength = 1 + (0.333333333 * 2)\n",
    "                    elif str(item.quarterLength) == \"1/3\":\n",
    "                        new_note.quarterLength = 0.333333333\n",
    "                    else:\n",
    "                        new_note.quarterLength = item.quarterLength\n",
    "                elif str(step)[-2:] == \".5\":\n",
    "                    if item.quarterLength == 0.5:\n",
    "                        new_note.quarterLength = 0.333333333\n",
    "                    elif item.quarterLength == 1.5:\n",
    "                        new_note.quarterLength = 1 + 0.333333333\n",
    "                    else:\n",
    "                        new_note.quarterLength = item.quarterLength\n",
    "                if str(item.quarterLength) == \"1/3\":\n",
    "                    new_note.quarterLength = 0.333333333\n",
    "                swung_part.append(new_note)\n",
    "                step += item.quarterLength\n",
    "            else:\n",
    "                swung_part.append(item)\n",
    "        swung_s = stream.Stream()\n",
    "        guitar = instrument.Guitar()\n",
    "        swung_s.append(guitar)\n",
    "        swung_s.append(swung_part)\n",
    "        return swung_s.show(\"midi\")\n",
    "    else:\n",
    "        return Image(filename=s.write(\"musicxml.png\"))"
   ]
  },
  {
   "cell_type": "markdown",
   "metadata": {},
   "source": [
    "# Music Theory for Guitar Players\n",
    "\n",
    "by **Chris Wright**"
   ]
  },
  {
   "cell_type": "code",
   "execution_count": 2,
   "metadata": {},
   "outputs": [
    {
     "name": "stdout",
     "output_type": "stream",
     "text": [
      "fig. 1\n"
     ]
    },
    {
     "data": {
      "text/html": [
       "\n",
       "        <div id=\"midiPlayerDiv297\"></div>\n",
       "        <link rel=\"stylesheet\" href=\"https://cuthbertLab.github.io/music21j/css/m21.css\">\n",
       "        \n",
       "        <script\n",
       "        src=\"https://cdnjs.cloudflare.com/ajax/libs/require.js/2.3.6/require.min.js\"\n",
       "        ></script>\n",
       "    \n",
       "        <script>\n",
       "        function midiPlayerDiv297_play() {\n",
       "            const rq = require.config({\n",
       "                paths: {\n",
       "                    'music21': 'https://cuthbertLab.github.io/music21j/releases/music21.debug',\n",
       "                }\n",
       "            });\n",
       "            rq(['music21'], function(music21) {\n",
       "                mp = new music21.miditools.MidiPlayer();\n",
       "                mp.addPlayer(\"#midiPlayerDiv297\");\n",
       "                mp.base64Load(\"data:audio/midi;base64,TVRoZAAAAAYAAQACJ2BNVHJrAAAAGgD/UQMHoSAA/1kCAAAA/1gEBAIYCM5g/y8ATVRyawAAAsoA/wMAAOAAQM5ggCIAAIAmAACAKQAAgC0AAIA0AACQIloAkCZaAJApWgCQLVoAkDRaAJBMWoHsIIBMAACQSlrOYIBKAACALQAAgDEAAIA0AACANwAAgDwAAJAtWgCQMVoAkDRaAJA3WgCQPFoAkEhagewggEgAAJBGWs5ggEYAAIAmAACAKQAAgC0AAIAwAACAMwAAkCZaAJApWgCQLVoAkDBaAJAzWgCQRVqBnUCARQAAgDEAAIA1AACAOAAAgDsAAJAxWgCQNVoAkDhaAJA7WgCQRVrOYIBFAACQQ1rOYIBDAACAMAAAgDMAAIA3AACAOgAAkDBaAJAzWgCQN1oAkDpaAJBBWs5ggEEAAJBKWs5ggEoAAIApAACALQAAgDAAAIAzAACANgAAkClaAJAtWgCQMFoAkDNaAJA2WgCQSlqBnUCASgAAgC4AAIAyAACANQAAgDkAAJAuWgCQMloAkDVaAJA5WgCQQFqBgyCAQAAAkD5amiCAPgAAkD1atECAPQAAkD5amiCAPgAAkEFatECAQQAAkEVamiCARQAAgCEAAIAlAACAKAAAgCsAAIA1AACQIVoAkCVaAJAoWgCQK1oAkDVaAJBIWoHsIIBIAACQRVrOYIBFAACAJgAAgCkAAIAtAACALwAAgDMAAJAmWgCQKVoAkC1aAJAvWgCQM1oAkENagewggEMAAJBBWs5ggEEAAIAoAACALAAAgC8AAIAyAACANwAAkChaAJAsWgCQL1oAkDJaAJA3WgCQSFqB7CCASAAAkERazmCARAAAgC0AAIAwAACANAAAgDcAAIA6AACQLVoAkDBaAJA0WgCQN1oAkDpaAJBHWoHsIIBHAACQRVrOYIBFAACAJgAAgCkAAIAtAACAMAAAgDQAAJAmWgCQKVoAkC1aAJAwWgCQNFoAkE1agewggE0AAJBJWs5ggEkAzmD/LwA=\");\n",
       "            });\n",
       "        }\n",
       "        if (typeof require === 'undefined') {\n",
       "            setTimeout(midiPlayerDiv297_play, 2000);\n",
       "        } else {\n",
       "            midiPlayerDiv297_play();\n",
       "        }\n",
       "        </script>"
      ],
      "text/plain": [
       "<IPython.core.display.HTML object>"
      ]
     },
     "metadata": {},
     "output_type": "display_data"
    },
    {
     "data": {
      "image/png": "[encoded data removed]",
      "text/plain": [
       "<IPython.core.display.Image object>"
      ]
     },
     "execution_count": 2,
     "metadata": {},
     "output_type": "execute_result"
    }
   ],
   "source": [
    "notes = \"INFO treble c 4/4 INFO !b-maj7#11 e5d d5q !a7#9 c5d b-4q !dm7b9 a4{h !d-7 a4}q g4q !cm7 f4q d5{q !f7b9 d5}h ^ \"\n",
    "notes += \"!b-maj7 e4u d4e c#4e d4e f4e a4e !a7b13 c5d a4q !dm6b9 g4d f4q ^ \"\n",
    "notes += \"!e7#9 c5d g#4q !am7b9 b4d a4q !dm9 f5d c#5q\"\n",
    "\n",
    "print(\"fig. 1\")\n",
    "music(notes, True)\n",
    "music(notes)"
   ]
  },
  {
   "cell_type": "markdown",
   "metadata": {},
   "source": [
    "This book will be constructed over 4 parts:\n",
    "\n",
    "> 1. **Where Are Guitar Notes In Sheet Music?** First we'll break down the names of guitar notes, then we'll see where each note is on a sheet of music.\n",
    "> 2. **What Are Keys And Time Signatures?** In this section, we'll go over keys in music (and how they're easy to transpose to different keys) and time signatures (with some example songs in their signature).\n",
    "> 3. **How Do Scales Work?** I'm sure you know that minor and major scales sound different, but why is that and how do the minor and major scales relate? You'll also learn about two other minor scales (which can have a nice sound) and you'll be briefed on what modes are (even though, if you're not too deep into music theory, they're not wildly important).\n",
    "> 4. **How Are Chords Constructed?** Here, you'll learn what makes up a chord, how you can voice your chords, and you'll learn about the different symbols on music sheets that specify what chord to play.\n",
    "\n",
    "Hopefully, by the end of this book, you'll be able to pick up a lead sheet for a song and play it easily.\n",
    "\n",
    "Let's get started!"
   ]
  },
  {
   "cell_type": "markdown",
   "metadata": {},
   "source": [
    "## Where Are Guitar Notes In Sheet Music?\n",
    "\n",
    "### Guitar Strings to Sheet Music\n",
    "\n",
    "First things first. Let's find out what notes you're playing when you play your guitar.\n",
    "\n",
    "The bottom line in the tab is the lowest string on your guitar, the low E string. The top line is the high E string. You can see this below in **fig. 2**."
   ]
  },
  {
   "cell_type": "code",
   "execution_count": 3,
   "metadata": {},
   "outputs": [
    {
     "name": "stdout",
     "output_type": "stream",
     "text": [
      "fig. 2\n"
     ]
    },
    {
     "data": {
      "image/png": "[encoded data removed]",
      "text/plain": [
       "<IPython.core.display.Image object>"
      ]
     },
     "metadata": {
      "image/png": {
       "height": 107,
       "width": 362
      }
     },
     "output_type": "display_data"
    }
   ],
   "source": [
    "s = stream.Score()\n",
    "p = stream.Part()\n",
    "c = clef.TabClef()\n",
    "l = layout.StaffLayout()\n",
    "l.staffLines = 6\n",
    "t = meter.TimeSignature(\"6/4\")\n",
    "\n",
    "p.append(t)\n",
    "p.append(c)\n",
    "p.append(l)\n",
    "\n",
    "g = instrument.AcousticGuitar()\n",
    "p.append(g)\n",
    "\n",
    "en = note.Note(\"E2\", quarterLength=1)\n",
    "an = note.Note(\"A2\", quarterLength=1)\n",
    "dn = note.Note(\"D3\", quarterLength=1)\n",
    "gn = note.Note(\"G3\", quarterLength=1)\n",
    "bn = note.Note(\"B3\", quarterLength=1)\n",
    "hen = note.Note(\"E4\", quarterLength=1)\n",
    "\n",
    "ec = harmony.ChordSymbol(\"E\")\n",
    "ac = harmony.ChordSymbol(\"A\")\n",
    "dc = harmony.ChordSymbol(\"D\")\n",
    "gc = harmony.ChordSymbol(\"G\")\n",
    "bc = harmony.ChordSymbol(\"B\")\n",
    "hec = harmony.ChordSymbol(\"E\")\n",
    "\n",
    "p.append(ec)\n",
    "p.append(en)\n",
    "p.append(ac)\n",
    "p.append(an)\n",
    "p.append(dc)\n",
    "p.append(dn)\n",
    "p.append(gc)\n",
    "p.append(gn)\n",
    "p.append(bc)\n",
    "p.append(bn)\n",
    "p.append(hec)\n",
    "p.append(hen)\n",
    "\n",
    "s.append(p)\n",
    "\n",
    "s.makeNotation()\n",
    "\n",
    "print(\"fig. 2\")\n",
    "s.show()"
   ]
  },
  {
   "cell_type": "markdown",
   "metadata": {},
   "source": [
    "Next, let's look at where these notes fall in sheet music in **fig. 3**."
   ]
  },
  {
   "cell_type": "code",
   "execution_count": 4,
   "metadata": {},
   "outputs": [
    {
     "name": "stdout",
     "output_type": "stream",
     "text": [
      "fig. 3\n"
     ]
    },
    {
     "data": {
      "text/html": [
       "\n",
       "        <div id=\"midiPlayerDiv1038\"></div>\n",
       "        <link rel=\"stylesheet\" href=\"https://cuthbertLab.github.io/music21j/css/m21.css\">\n",
       "        \n",
       "        <script\n",
       "        src=\"https://cdnjs.cloudflare.com/ajax/libs/require.js/2.3.6/require.min.js\"\n",
       "        ></script>\n",
       "    \n",
       "        <script>\n",
       "        function midiPlayerDiv1038_play() {\n",
       "            const rq = require.config({\n",
       "                paths: {\n",
       "                    'music21': 'https://cuthbertLab.github.io/music21j/releases/music21.debug',\n",
       "                }\n",
       "            });\n",
       "            rq(['music21'], function(music21) {\n",
       "                mp = new music21.miditools.MidiPlayer();\n",
       "                mp.addPlayer(\"#midiPlayerDiv1038\");\n",
       "                mp.base64Load(\"data:audio/midi;base64,TVRoZAAAAAYAAQACJ2BNVHJrAAAAGgD/UQMHoSAA/1kCAAAA/1gEBgIYCM5g/y8ATVRyawAAAEQA/wMAAOAAQM5gkChazmCAKAAAkC1azmCALQAAkDJazmCAMgAAkDdazmCANwAAkDtazmCAOwAAkEBazmCAQADOYP8vAA==\");\n",
       "            });\n",
       "        }\n",
       "        if (typeof require === 'undefined') {\n",
       "            setTimeout(midiPlayerDiv1038_play, 2000);\n",
       "        } else {\n",
       "            midiPlayerDiv1038_play();\n",
       "        }\n",
       "        </script>"
      ],
      "text/plain": [
       "<IPython.core.display.HTML object>"
      ]
     },
     "metadata": {},
     "output_type": "display_data"
    },
    {
     "data": {
      "image/png": "[encoded data removed]",
      "text/plain": [
       "<IPython.core.display.Image object>"
      ]
     },
     "execution_count": 4,
     "metadata": {},
     "output_type": "execute_result"
    }
   ],
   "source": [
    "notes = \"INFO treble c 6/4 INFO e2q[E] a2q[A] d3q[D] g3q[G] b3q[B] e4q[e]\"\n",
    "\n",
    "print(\"fig. 3\")\n",
    "music(notes, True)\n",
    "music(notes)"
   ]
  },
  {
   "cell_type": "markdown",
   "metadata": {},
   "source": [
    "For simplicity sake, you could just look at these notes as relating here on the sheet (**fig. 4**)."
   ]
  },
  {
   "cell_type": "code",
   "execution_count": 5,
   "metadata": {},
   "outputs": [
    {
     "name": "stdout",
     "output_type": "stream",
     "text": [
      "fig. 4\n"
     ]
    },
    {
     "data": {
      "text/html": [
       "\n",
       "        <div id=\"midiPlayerDiv1255\"></div>\n",
       "        <link rel=\"stylesheet\" href=\"https://cuthbertLab.github.io/music21j/css/m21.css\">\n",
       "        \n",
       "        <script\n",
       "        src=\"https://cdnjs.cloudflare.com/ajax/libs/require.js/2.3.6/require.min.js\"\n",
       "        ></script>\n",
       "    \n",
       "        <script>\n",
       "        function midiPlayerDiv1255_play() {\n",
       "            const rq = require.config({\n",
       "                paths: {\n",
       "                    'music21': 'https://cuthbertLab.github.io/music21j/releases/music21.debug',\n",
       "                }\n",
       "            });\n",
       "            rq(['music21'], function(music21) {\n",
       "                mp = new music21.miditools.MidiPlayer();\n",
       "                mp.addPlayer(\"#midiPlayerDiv1255\");\n",
       "                mp.base64Load(\"data:audio/midi;base64,TVRoZAAAAAYAAQACJ2BNVHJrAAAAGgD/UQMHoSAA/1kCAAAA/1gEBgIYCM5g/y8ATVRyawAAAEQA/wMAAOAAQM5gkEBazmCAQAAAkEVazmCARQAAkEpazmCASgAAkE9azmCATwAAkFNazmCAUwAAkFhazmCAWADOYP8vAA==\");\n",
       "            });\n",
       "        }\n",
       "        if (typeof require === 'undefined') {\n",
       "            setTimeout(midiPlayerDiv1255_play, 2000);\n",
       "        } else {\n",
       "            midiPlayerDiv1255_play();\n",
       "        }\n",
       "        </script>"
      ],
      "text/plain": [
       "<IPython.core.display.HTML object>"
      ]
     },
     "metadata": {},
     "output_type": "display_data"
    },
    {
     "data": {
      "image/png": "[encoded data removed]",
      "text/plain": [
       "<IPython.core.display.Image object>"
      ]
     },
     "execution_count": 5,
     "metadata": {},
     "output_type": "execute_result"
    }
   ],
   "source": [
    "notes = \"INFO treble c 6/4 INFO e4q[E] a4q[A] d5q[D] g5q[G] b5q[B] e6q[e]\"\n",
    "\n",
    "print(\"fig. 4\")\n",
    "music(notes, True)\n",
    "music(notes)"
   ]
  },
  {
   "cell_type": "markdown",
   "metadata": {},
   "source": [
    "### Guitar Notes to Sheet Music\n",
    "\n",
    "When you play guitar, whenever you move up one fret you move up one **half-step**. So if you played a C note on your guitar and moved up one fret, you'd land on a C# note (**fig. 5**)."
   ]
  },
  {
   "cell_type": "code",
   "execution_count": 6,
   "metadata": {},
   "outputs": [
    {
     "name": "stdout",
     "output_type": "stream",
     "text": [
      "fig. 5\n"
     ]
    },
    {
     "data": {
      "image/png": "[encoded data removed]",
      "text/plain": [
       "<IPython.core.display.Image object>"
      ]
     },
     "metadata": {
      "image/png": {
       "height": 108,
       "width": 200
      }
     },
     "output_type": "display_data"
    }
   ],
   "source": [
    "s = stream.Score()\n",
    "p = stream.Part()\n",
    "c = clef.TabClef()\n",
    "l = layout.StaffLayout()\n",
    "l.staffLines = 6\n",
    "t = meter.TimeSignature(\"6/4\")\n",
    "\n",
    "p.append(t)\n",
    "p.append(c)\n",
    "p.append(l)\n",
    "\n",
    "g = instrument.AcousticGuitar()\n",
    "p.append(g)\n",
    "\n",
    "cn = note.Note(\"C3\", quarterLength=2)\n",
    "csn = note.Note(\"C#3\", quarterLength=2)\n",
    "\n",
    "cc = harmony.ChordSymbol(\"C\")\n",
    "csc = harmony.ChordSymbol(\"C#\")\n",
    "\n",
    "p.append(cc)\n",
    "p.append(cn)\n",
    "p.append(csc)\n",
    "p.append(csn)\n",
    "\n",
    "s.append(p)\n",
    "\n",
    "s.makeNotation()\n",
    "\n",
    "print(\"fig. 5\")\n",
    "s.show()"
   ]
  },
  {
   "cell_type": "markdown",
   "metadata": {},
   "source": [
    "Here's an equivalent in sheet music (**fig. 6**)."
   ]
  },
  {
   "cell_type": "code",
   "execution_count": 7,
   "metadata": {},
   "outputs": [
    {
     "name": "stdout",
     "output_type": "stream",
     "text": [
      "fig. 6\n"
     ]
    },
    {
     "data": {
      "image/png": "[encoded data removed]",
      "text/plain": [
       "<IPython.core.display.Image object>"
      ]
     },
     "execution_count": 7,
     "metadata": {},
     "output_type": "execute_result"
    }
   ],
   "source": [
    "notes = \"INFO treble c 4/4 INFO c5h c#5h\"\n",
    "\n",
    "print(\"fig. 6\")\n",
    "music(notes)"
   ]
  },
  {
   "cell_type": "markdown",
   "metadata": {},
   "source": [
    "### Notes From C to C in Sheet Music\n",
    "\n",
    "Below, I'll list out each note in sheet music (**fig. 7**). Every note listed in red is the same note; for example, a C♯ is the same as a D♭."
   ]
  },
  {
   "cell_type": "code",
   "execution_count": 8,
   "metadata": {},
   "outputs": [
    {
     "name": "stdout",
     "output_type": "stream",
     "text": [
      "fig. 7\n"
     ]
    },
    {
     "data": {
      "image/png": "[encoded data removed]",
      "text/plain": [
       "<IPython.core.display.Image object>"
      ]
     },
     "execution_count": 8,
     "metadata": {},
     "output_type": "execute_result"
    }
   ],
   "source": [
    "notes = \"INFO treble c 18/4 INFO c4q[C] Rc#4q[C♯] Rd-4q[D♭] d4q[D] Rd#4q[D♯] Re-4q[E♭] e4q[E] f4q[F] Rf#4q[F♯] Rg-4q[G♭] g4q[G] Rg#4q[G♯] Ra-4q[A♭] a4q[A] Ra#4q[A♯] Rb-4q[B♭] b4q[B] c5q[C]\"\n",
    "\n",
    "print(\"fig. 7\")\n",
    "music(notes)"
   ]
  },
  {
   "cell_type": "markdown",
   "metadata": {},
   "source": [
    "Sometimes you'll see an E♯ note (which is just an F), an F♭ (which is an E) note, a B♯ (which is a C), or a C♭ (which is a B). If you were to move up from a C note to a D note, this is a *full-step*, you're essentially moving up two frets (unless you're looking at E to F or B to C).\n",
    "\n",
    "### Guitar Chords to Sheet Music\n",
    "\n",
    "Next, let's look at how a guitar chord translates to sheet music. **fig. 8** and **fig. 9** are essentially the same thing. The first chord in **fig. 9** is exactly how you'd play it on guitar, the second chord is the triad of the C chord, without duplicate notes, how you'd traditionally see it in sheet music."
   ]
  },
  {
   "cell_type": "code",
   "execution_count": 9,
   "metadata": {},
   "outputs": [
    {
     "name": "stdout",
     "output_type": "stream",
     "text": [
      "fig. 2\n"
     ]
    },
    {
     "data": {
      "image/png": "[encoded data removed]",
      "text/plain": [
       "<IPython.core.display.Image object>"
      ]
     },
     "metadata": {
      "image/png": {
       "height": 107,
       "width": 161
      }
     },
     "output_type": "display_data"
    }
   ],
   "source": [
    "s = stream.Score()\n",
    "p = stream.Part()\n",
    "c = clef.TabClef()\n",
    "l = layout.StaffLayout()\n",
    "l.staffLines = 6\n",
    "t = meter.TimeSignature(\"6/4\")\n",
    "\n",
    "p.append(t)\n",
    "p.append(c)\n",
    "p.append(l)\n",
    "\n",
    "g = instrument.AcousticGuitar()\n",
    "p.append(g)\n",
    "\n",
    "cc = chord.Chord([\"C3\", \"E3\", \"G3\", \"C4\", \"E4\"])\n",
    "cn = harmony.ChordSymbol(\"C\")\n",
    "\n",
    "p.append(cn)\n",
    "p.append(cc)\n",
    "\n",
    "s.append(p)\n",
    "\n",
    "s.makeNotation()\n",
    "\n",
    "print(\"fig. 8\")\n",
    "s.show()"
   ]
  },
  {
   "cell_type": "code",
   "execution_count": 13,
   "metadata": {},
   "outputs": [
    {
     "name": "stdout",
     "output_type": "stream",
     "text": [
      "fig. 9\n"
     ]
    },
    {
     "data": {
      "image/png": "[encoded data removed]",
      "text/plain": [
       "<IPython.core.display.Image object>"
      ]
     },
     "execution_count": 13,
     "metadata": {},
     "output_type": "execute_result"
    }
   ],
   "source": [
    "notes = \"INFO treble c 4/4 INFO !c (c3,e3,g3,c4,e4)h !c (c4,e4,g4)h\"\n",
    "\n",
    "print(\"fig. 9\")\n",
    "music(notes)"
   ]
  },
  {
   "cell_type": "markdown",
   "metadata": {},
   "source": [
    "### Summary\n",
    "\n",
    "So (hopefully) now you can see how notes and chords transfer to sheet music. Next, let's look more into detail about sheet music notation."
   ]
  },
  {
   "cell_type": "markdown",
   "metadata": {},
   "source": [
    "## What Are Keys And Time Signatures?\n",
    "\n",
    "### Sheet Music 101\n",
    "\n",
    "Before we get into keys and time signatures, let's quickly go over the basics of a sheet (**fig. 10**)."
   ]
  },
  {
   "cell_type": "code",
   "execution_count": 47,
   "metadata": {},
   "outputs": [
    {
     "name": "stdout",
     "output_type": "stream",
     "text": [
      "fig. 10\n"
     ]
    },
    {
     "data": {
      "image/png": "[encoded data removed]",
      "text/plain": [
       "<IPython.core.display.Image object>"
      ]
     },
     "metadata": {
      "image/png": {
       "height": 49,
       "width": 674
      }
     },
     "output_type": "display_data"
    }
   ],
   "source": [
    "s = stream.Score()\n",
    "p = stream.Part()\n",
    "m = stream.Measure()\n",
    "m2 = stream.Measure()\n",
    "m3 = stream.Measure()\n",
    "m4 = stream.Measure()\n",
    "\n",
    "c = clef.TrebleClef()\n",
    "c2 = clef.BassClef()\n",
    "\n",
    "t = meter.TimeSignature(\"4/4\")\n",
    "t2 = meter.TimeSignature(\"3/4\")\n",
    "t3 = meter.TimeSignature(\"5/4\")\n",
    "\n",
    "k = key.KeySignature(-1)\n",
    "k2 = key.KeySignature(0)\n",
    "k3 = key.KeySignature(-3)\n",
    "k4 = key.KeySignature(1)\n",
    "\n",
    "m.append(c)\n",
    "m.append(t)\n",
    "m.append(k)\n",
    "\n",
    "m2.append(c2)\n",
    "m2.append(t2)\n",
    "m2.append(k2)\n",
    "\n",
    "m3.append(c)\n",
    "m3.append(t3)\n",
    "m3.append(k3)\n",
    "\n",
    "m4.append(c)\n",
    "m4.append(t)\n",
    "m4.append(k4)\n",
    "\n",
    "p.append(m)\n",
    "p.append(m2)\n",
    "p.append(m3)\n",
    "p.append(m4)\n",
    "s.append(p)\n",
    "\n",
    "print(\"fig. 10\")\n",
    "s.show()"
   ]
  },
  {
   "cell_type": "markdown",
   "metadata": {},
   "source": [
    "There are four things to understand here:\n",
    "\n",
    "**Staff Lines** are the five horizontal lines and spaces between the five horizontal lines which hold our notes. Each space between and line represents a white key on a keyboard.\n",
    "\n",
    "**Clefs.** The first item on each staff is the clef. We have three clefs on the example in **fig. 10**: *Treble clef* (what you'll mostly see) and *bass clef* (this is lower and the notes are different but we won't really be going over this, it's mostly for bass players and piano players).\n",
    "\n",
    "**Key Signatures** are the next thing you'll see on the staff. \n",
    "\n",
    "In the example above the first key signature is one flat which lies on the B note. This just means that every B note you play will be flat unless otherwise marked.\n",
    "\n",
    "The second key is C, typically the key of C won't have any key signature on your score because it's the *default* key. It's marked here with a natural symbol (♮) because it's telling us that instead of playing every B note flat, we'll play it natural. You'll also notice it's lower than it was before, this is because the note falls into a different place on the *bass clef*.\n",
    "\n",
    "The third key holds 3 flats, so you'd play every B, E, and A note flat.\n",
    "\n",
    "> *Quick tip!* It's easy to figure out what key you're in quickly by using the following method:\n",
    ">\n",
    "> No key signature markings is always *C major*.\n",
    ">\n",
    "> One flat is the key of *F*.\n",
    ">\n",
    "> If there are any sharps in the key signature, the key is always the note after the last sharp. So in the example above, the key on the last measure is *G* because there's one sharp.\n",
    ">\n",
    "> If there are two or more flats in the key signature, the key is always the flat before last. So in the example above, the key on the third measure is *E♭*.\n",
    "\n",
    "**Time Signatures** are the numbers after the key signature on the staff. The top number stands for how many notes in a measure and the bottom number is how long the note is. So in the example above, the first measure would hold four quarter notes, the second would hold three, and the third five."
   ]
  },
  {
   "cell_type": "markdown",
   "metadata": {},
   "source": [
    "## How Do Scales Work?"
   ]
  },
  {
   "cell_type": "markdown",
   "metadata": {},
   "source": [
    "## How Are Chords Constructed?"
   ]
  }
 ],
 "metadata": {
  "kernelspec": {
   "display_name": ".venv",
   "language": "python",
   "name": "python3"
  },
  "language_info": {
   "codemirror_mode": {
    "name": "ipython",
    "version": 3
   },
   "file_extension": ".py",
   "mimetype": "text/x-python",
   "name": "python",
   "nbconvert_exporter": "python",
   "pygments_lexer": "ipython3",
   "version": "3.11.4"
  }
 },
 "nbformat": 4,
 "nbformat_minor": 2
}
