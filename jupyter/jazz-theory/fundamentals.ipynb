{
 "cells": [
  {
   "cell_type": "code",
   "execution_count": 20,
   "metadata": {},
   "outputs": [],
   "source": [
    "from music21 import *\n",
    "from IPython.display import Image\n",
    "\n",
    "\n",
    "def music(notes: str, midi=False, swing=False):\n",
    "    s = stream.Score()\n",
    "    part = stream.Part()\n",
    "    info_pos = []\n",
    "    for i in range(0, len(notes)):\n",
    "        if notes[i] == \"^\":\n",
    "            info_pos.append(i)\n",
    "    info_string = notes[info_pos[0] + 1 : info_pos[1]]\n",
    "    info = info_string.split(\" \")\n",
    "    if info[0].lower() == \"treble\":\n",
    "        part.append(clef.TrebleClef())\n",
    "    elif info[0].lower() == \"bass\":\n",
    "        part.append(clef.BassClef())\n",
    "    elif info[0].lower() == \"None\":\n",
    "        part.append(clef.NoClef())\n",
    "    keys = [\n",
    "        [\"cb\", -7],\n",
    "        [\"gb\", -6],\n",
    "        [\"db\", -5],\n",
    "        [\"ab\", -4],\n",
    "        [\"eb\", -3],\n",
    "        [\"bb\", -2],\n",
    "        [\"f\", -1],\n",
    "        [\"c\", 0],\n",
    "        [\"g\", 1],\n",
    "        [\"d\", 2],\n",
    "        [\"a\", 3],\n",
    "        [\"e\", 4],\n",
    "        [\"b\", 5],\n",
    "        [\"f#\", 6],\n",
    "        [\"c#\", 7],\n",
    "    ]\n",
    "    for k in keys:\n",
    "        if info[1].lower() == k[0]:\n",
    "            part.append(key.KeySignature(k[1]))\n",
    "    if info[2] != \"0/0\":\n",
    "        part.append(meter.TimeSignature(info[2]))\n",
    "    notes = notes[info_pos[1] + 1 :]\n",
    "\n",
    "    if info[2] != \"0/0\":\n",
    "        split_notes = notes.split(\" \")\n",
    "        for n in split_notes:\n",
    "            if n[0] == \"!\":\n",
    "                part.append(harmony.ChordSymbol(n[1:]))\n",
    "            elif n == \"^\":\n",
    "                part.append(layout.SystemLayout(isNew=True))\n",
    "            else:\n",
    "                is_chord = False\n",
    "                is_tie = \"none\"\n",
    "                note_and_length = n.split(\"/\")\n",
    "                if \"(\" in note_and_length[0]:\n",
    "                    is_chord = True\n",
    "                    chord_name = (\n",
    "                        note_and_length[0].replace(\"(\", \"\").replace(\")\", \"\").split(\"$\")\n",
    "                    )\n",
    "                else:\n",
    "                    note_name = note_and_length[0]\n",
    "                if \"{\" in note_and_length[1]:\n",
    "                    is_tie = \"start\"\n",
    "                    note_and_length[1] = note_and_length[1].replace(\"{\", \"\")\n",
    "                if \"}\" in note_and_length[1]:\n",
    "                    is_tie = \"stop\"\n",
    "                    note_and_length[1] = note_and_length[1].replace(\"}\", \"\")\n",
    "                if \"*\" in note_and_length[1]:\n",
    "                    length_and_col = note_and_length[1].split(\"*\")\n",
    "                    note_length = length_and_col[0]\n",
    "                    note_col = length_and_col[1]\n",
    "                else:\n",
    "                    note_length = note_and_length[1]\n",
    "                    note_col = \"\"\n",
    "                if note_length in [\"0.3\", \".3\"]:\n",
    "                    note_length = 0.333333333\n",
    "                else:\n",
    "                    note_length = float(note_length)\n",
    "                if is_chord:\n",
    "                    add_n = chord.Chord(chord_name, quarterLength=note_length)\n",
    "                else:\n",
    "                    if note_name.lower() == \"r\":\n",
    "                        add_n = note.Rest(quarterLength=note_length)\n",
    "                    elif note_name in [\"slash\", \"s\"]:\n",
    "                        add_n = note.Unpitched()\n",
    "                        add_n.notehead = \"slash\"\n",
    "                        add_n.stemDirection = \"noStem\"\n",
    "                        add_n.volume.velocity = 0\n",
    "                    else:\n",
    "                        add_n = note.Note(note_name, quarterLength=note_length)\n",
    "                if is_tie != \"none\":\n",
    "                    add_n.tie = tie.Tie(is_tie)\n",
    "                if note_col != \"\":\n",
    "                    add_n.style.color = note_col\n",
    "\n",
    "                part.append(add_n)\n",
    "\n",
    "        if swing:\n",
    "            for thing in part:\n",
    "                if isinstance(thing, note.Note):\n",
    "                    if thing.quarterLength == 0.5:\n",
    "                        if \".5\" in str(thing.beat):\n",
    "                            thing.quarterLength = 0.25\n",
    "                            thing.offset += 0.25\n",
    "                        if \".0\" in str(thing.beat):\n",
    "                            thing.quarterLength = 0.75\n",
    "                    elif thing.quarterLength == 1.5:\n",
    "                        if \".0\" in str(thing.beat):\n",
    "                            thing.quarterLength = 1.75\n",
    "\n",
    "    s.append(tempo.MetronomeMark(number=120))\n",
    "    s.append(part)\n",
    "\n",
    "    if midi:\n",
    "        return s.show(\"midi\")\n",
    "    else:\n",
    "        return Image(filename=s.write(\"musicxml.png\"))"
   ]
  },
  {
   "cell_type": "markdown",
   "metadata": {},
   "source": [
    "# Fundamentals\n",
    "## The Staff"
   ]
  },
  {
   "cell_type": "code",
   "execution_count": 2,
   "metadata": {},
   "outputs": [
    {
     "data": {
      "image/png": "[encoded data removed]",
      "text/plain": [
       "<IPython.core.display.Image object>"
      ]
     },
     "execution_count": 2,
     "metadata": {},
     "output_type": "execute_result"
    }
   ],
   "source": [
    "notes = \"^none c 0/0^\"\n",
    "music(notes, False, False)"
   ]
  },
  {
   "cell_type": "markdown",
   "metadata": {},
   "source": [
    "The staff consist of the horizontal lines upon which notes are drawn. Let's take a look at what note each line is."
   ]
  },
  {
   "cell_type": "markdown",
   "metadata": {},
   "source": [
    "#### What note is each line?"
   ]
  },
  {
   "cell_type": "code",
   "execution_count": 8,
   "metadata": {},
   "outputs": [
    {
     "name": "stdout",
     "output_type": "stream",
     "text": [
      "Sheet Music\n"
     ]
    },
    {
     "data": {
      "image/png": "[encoded data removed]",
      "text/plain": [
       "<IPython.core.display.Image object>"
      ]
     },
     "execution_count": 8,
     "metadata": {},
     "output_type": "execute_result"
    }
   ],
   "source": [
    "notes = \"^treble c 5/4^\"\n",
    "notes += \"!e e4/1 !g g4/1 !b b4/1 !d d5/1 !f f5/1\"\n",
    "print(\"Sheet Music\")\n",
    "music(notes, False)"
   ]
  },
  {
   "cell_type": "code",
   "execution_count": 10,
   "metadata": {},
   "outputs": [
    {
     "name": "stdout",
     "output_type": "stream",
     "text": [
      "Play Audio\n"
     ]
    },
    {
     "data": {
      "text/html": [
       "\n",
       "        <div id=\"midiPlayerDiv984\"></div>\n",
       "        <link rel=\"stylesheet\" href=\"https://cuthbertLab.github.io/music21j/css/m21.css\">\n",
       "        \n",
       "        <script\n",
       "        src=\"https://cdnjs.cloudflare.com/ajax/libs/require.js/2.3.6/require.min.js\"\n",
       "        ></script>\n",
       "    \n",
       "        <script>\n",
       "        function midiPlayerDiv984_play() {\n",
       "            const rq = require.config({\n",
       "                paths: {\n",
       "                    'music21': 'https://cuthbertLab.github.io/music21j/releases/music21.debug',\n",
       "                }\n",
       "            });\n",
       "            rq(['music21'], function(music21) {\n",
       "                mp = new music21.miditools.MidiPlayer();\n",
       "                mp.addPlayer(\"#midiPlayerDiv984\");\n",
       "                mp.base64Load(\"data:audio/midi;base64,TVRoZAAAAAYAAQACJ2BNVHJrAAAAGgD/UQMHoSAA/1kCAAAA/1gEBQIYCM5g/y8ATVRyawAAADsA/wMAAOAAQM5gkEBazmCAQAAAkENazmCAQwAAkEdazmCARwAAkEpazmCASgAAkE1azmCATQDOYP8vAA==\");\n",
       "            });\n",
       "        }\n",
       "        if (typeof require === 'undefined') {\n",
       "            setTimeout(midiPlayerDiv984_play, 2000);\n",
       "        } else {\n",
       "            midiPlayerDiv984_play();\n",
       "        }\n",
       "        </script>"
      ],
      "text/plain": [
       "<IPython.core.display.HTML object>"
      ]
     },
     "metadata": {},
     "output_type": "display_data"
    }
   ],
   "source": [
    "notes = \"^treble c 5/4^\"\n",
    "notes += \"e4/1 g4/1 b4/1 d5/1 f5/1\"\n",
    "print(\"Play Audio\")\n",
    "music(notes, True)"
   ]
  },
  {
   "cell_type": "markdown",
   "metadata": {},
   "source": [
    "Each space between lines are notes as well.\n",
    "\n",
    "#### What note is each space between lines?"
   ]
  },
  {
   "cell_type": "code",
   "execution_count": 21,
   "metadata": {},
   "outputs": [
    {
     "name": "stdout",
     "output_type": "stream",
     "text": [
      "Sheet Music\n"
     ]
    },
    {
     "data": {
      "image/png": "[encoded data removed]",
      "text/plain": [
       "<IPython.core.display.Image object>"
      ]
     },
     "execution_count": 21,
     "metadata": {},
     "output_type": "execute_result"
    }
   ],
   "source": [
    "notes = \"^treble c 6/4^\"\n",
    "notes += \"!d d4/1 !f f4/1 !a a4/1 !c c5/1 !e e5/1 !g g5/1\"\n",
    "print(\"Sheet Music\")\n",
    "music(notes)"
   ]
  },
  {
   "cell_type": "code",
   "execution_count": 22,
   "metadata": {},
   "outputs": [
    {
     "name": "stdout",
     "output_type": "stream",
     "text": [
      "Play Audio\n"
     ]
    },
    {
     "data": {
      "text/html": [
       "\n",
       "        <div id=\"midiPlayerDiv1990\"></div>\n",
       "        <link rel=\"stylesheet\" href=\"https://cuthbertLab.github.io/music21j/css/m21.css\">\n",
       "        \n",
       "        <script\n",
       "        src=\"https://cdnjs.cloudflare.com/ajax/libs/require.js/2.3.6/require.min.js\"\n",
       "        ></script>\n",
       "    \n",
       "        <script>\n",
       "        function midiPlayerDiv1990_play() {\n",
       "            const rq = require.config({\n",
       "                paths: {\n",
       "                    'music21': 'https://cuthbertLab.github.io/music21j/releases/music21.debug',\n",
       "                }\n",
       "            });\n",
       "            rq(['music21'], function(music21) {\n",
       "                mp = new music21.miditools.MidiPlayer();\n",
       "                mp.addPlayer(\"#midiPlayerDiv1990\");\n",
       "                mp.base64Load(\"data:audio/midi;base64,TVRoZAAAAAYAAQACJ2BNVHJrAAAAGgD/UQMHoSAA/1kCAAAA/1gEBgIYCM5g/y8ATVRyawAAAEQA/wMAAOAAQM5gkD5azmCAPgAAkEFazmCAQQAAkEVazmCARQAAkEhazmCASAAAkExazmCATAAAkE9azmCATwDOYP8vAA==\");\n",
       "            });\n",
       "        }\n",
       "        if (typeof require === 'undefined') {\n",
       "            setTimeout(midiPlayerDiv1990_play, 2000);\n",
       "        } else {\n",
       "            midiPlayerDiv1990_play();\n",
       "        }\n",
       "        </script>"
      ],
      "text/plain": [
       "<IPython.core.display.HTML object>"
      ]
     },
     "metadata": {},
     "output_type": "display_data"
    }
   ],
   "source": [
    "notes = \"^treble c 6/4^d4/1 f4/1 a4/1 c5/1 e5/1 g5/1\"\n",
    "print(\"Play Audio\")\n",
    "music(notes, True)"
   ]
  }
 ],
 "metadata": {
  "kernelspec": {
   "display_name": "Python 3",
   "language": "python",
   "name": "python3"
  },
  "language_info": {
   "codemirror_mode": {
    "name": "ipython",
    "version": 3
   },
   "file_extension": ".py",
   "mimetype": "text/x-python",
   "name": "python",
   "nbconvert_exporter": "python",
   "pygments_lexer": "ipython3",
   "version": "3.11.4"
  }
 },
 "nbformat": 4,
 "nbformat_minor": 2
}
