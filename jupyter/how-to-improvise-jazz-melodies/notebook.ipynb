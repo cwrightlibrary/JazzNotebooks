{
 "cells": [
  {
   "cell_type": "code",
   "execution_count": 5,
   "metadata": {},
   "outputs": [],
   "source": [
    "\n",
    "from music21 import *\n",
    "from IPython.display import Image\n",
    "\n",
    "\n",
    "def music(info: list, notes: str, midi=False, swing=False):\n",
    "    s = stream.Score()\n",
    "    part = stream.Part()\n",
    "    if info[0] == \"Treble\":\n",
    "        part.append(clef.TrebleClef())\n",
    "    elif info[0] == \"Bass\":\n",
    "        part.append(clef.BassClef)\n",
    "    elif info[0] == \"None\":\n",
    "        part.append(clef.NoClef())\n",
    "    part.append(key.KeySignature(info[1]))\n",
    "    part.append(meter.TimeSignature(info[2]))\n",
    "\n",
    "    split_notes = notes.split(\" \")\n",
    "    for n in split_notes:\n",
    "        if n[0] == \"!\":\n",
    "            part.append(harmony.ChordSymbol(n[1:]))\n",
    "        elif n == \"^\":\n",
    "            part.append(layout.SystemLayout(isNew=True))\n",
    "        else:\n",
    "            is_chord = False\n",
    "            is_tie = \"none\"\n",
    "            note_and_length = n.split(\"/\")\n",
    "            if \"(\" in note_and_length[0]:\n",
    "                is_chord = True\n",
    "                chord_name = (\n",
    "                    note_and_length[0].replace(\"(\", \"\").replace(\")\", \"\").split(\"$\")\n",
    "                )\n",
    "            else:\n",
    "                note_name = note_and_length[0]\n",
    "            if \"{\" in note_and_length[1]:\n",
    "                is_tie = \"start\"\n",
    "                note_and_length[1] = note_and_length[1].replace(\"{\", \"\")\n",
    "            if \"}\" in note_and_length[1]:\n",
    "                is_tie = \"stop\"\n",
    "                note_and_length[1] = note_and_length[1].replace(\"}\", \"\")\n",
    "            if \"*\" in note_and_length[1]:\n",
    "                length_and_col = note_and_length[1].split(\"*\")\n",
    "                note_length = length_and_col[0]\n",
    "                note_col = length_and_col[1]\n",
    "            else:\n",
    "                note_length = note_and_length[1]\n",
    "                note_col = \"\"\n",
    "            if note_length == \"0.3\":\n",
    "                note_length = 0.333333333\n",
    "            else:\n",
    "                note_length = float(note_length)\n",
    "            if is_chord:\n",
    "                add_n = chord.Chord(chord_name, quarterLength=note_length)\n",
    "            else:\n",
    "                if note_name.lower() == \"r\":\n",
    "                    add_n = note.Rest(quarterLength=note_length)\n",
    "                else:\n",
    "                    add_n = note.Note(note_name, quarterLength=note_length)\n",
    "            if is_tie != \"none\":\n",
    "                add_n.tie = tie.Tie(is_tie)\n",
    "            if note_col != \"\":\n",
    "                add_n.style.color = note_col\n",
    "            \n",
    "            if midi and swing:\n",
    "                for n in part:\n",
    "                    if isinstance(n, note.Note) or isinstance(n, note.Rest):\n",
    "                        if n.duration.quarterLength == 0.5:\n",
    "                            print(n.name, n.offset)\n",
    "                            if \".75\" in str(n.offset):\n",
    "                                n.duration.quarterLength = 0.25\n",
    "                            elif \".0\" in str(n.offset) or \".5\" in str(n.offset):\n",
    "                                n.duration.quarterLength = 0.75\n",
    "            part.append(add_n)\n",
    "\n",
    "    s.append(part)\n",
    "    if midi:\n",
    "        return s.show(\"midi\")\n",
    "    else:\n",
    "        return Image(filename=s.write(\"musicxml.png\"))"
   ]
  },
  {
   "cell_type": "markdown",
   "metadata": {},
   "source": [
    "# How to Improvise Jazz Melodies\n",
    "Bob Keller\n",
    "Harvey Mudd College\n",
    "January 2007\n",
    "Revised September 4, 2012\n",
    "\n",
    "There are different forms of jazz improvisation. For example, in “free improvisation”, the player is under absolutely no constraints. The listener is also under no obligation to remain a listener, and may tend to leave the scene if what she is hearing seems too close to random noise. Here we concentrate on “constrained improvisation”, meaning that we are playing over the chord changes of a tune."
   ]
  },
  {
   "cell_type": "markdown",
   "metadata": {},
   "source": [
    "## Know the Tune\n",
    "It is a good idea to have some familiarity with the way the tune sounds with its original melody. Seasoned players can sometimes skip this, because the tune is similar to some other tune. There are fewer chord-change ideas than there are tunes, and there is a lot of reuse over the universal songbook. Coming up with new chord changes is not that easy for composers.\n",
    "\n",
    "It is also good to be able to sense roughly where you are in the tune just by hearing the chord changes without the melody. This is achieved mostly by listening to the tune enough times, but an experienced player can hear it by reading the chord changes as well.\n",
    "\n",
    "Finally, if the tune has words, it is helpful to know some of them and the story they are telling. Of course this is mandatory for the vocalist, but the instrumentalist can benefit by knowing the spirit of the tune."
   ]
  },
  {
   "cell_type": "markdown",
   "metadata": {},
   "source": [
    "## Play off the Melody\n",
    "The most time-honored form of improvisation is to make small modifications to the melody, some times called “ad-libbing” (from latin “ad libitum” meaning freely). This is a good place to start, and also use in an occasional fashion later on."
   ]
  },
  {
   "cell_type": "markdown",
   "metadata": {},
   "source": [
    "## Know the Chord Changes\n",
    "While it is good to be able to play “by ear”, it is best not to rely on having the chords sounded as your only method. For example, the chord might not always be sounded before you want the next note of your melody. Also, the comping (accompanying, or compensating) instrument in the rhythm section might drop out for a chorus, leaving just you and the bass and drums, just you and the drums, or just you in some cases. Unless you can hear the chords in your head, you might be stuck at this point."
   ]
  },
  {
   "cell_type": "markdown",
   "metadata": {},
   "source": [
    "## Use Chord Tones\n",
    "Melody notes that are in the chord are very stable and resonate with the chord. Thirds and sevenths are particularly good choices. Below all notes in the melody are in the F chord."
   ]
  },
  {
   "cell_type": "code",
   "execution_count": 6,
   "metadata": {},
   "outputs": [
    {
     "data": {
      "text/html": [
       "\n",
       "        <div id=\"midiPlayerDiv278\"></div>\n",
       "        <link rel=\"stylesheet\" href=\"https://cuthbertLab.github.io/music21j/css/m21.css\">\n",
       "        \n",
       "        <script\n",
       "        src=\"https://cdnjs.cloudflare.com/ajax/libs/require.js/2.3.6/require.min.js\"\n",
       "        ></script>\n",
       "    \n",
       "        <script>\n",
       "        function midiPlayerDiv278_play() {\n",
       "            const rq = require.config({\n",
       "                paths: {\n",
       "                    'music21': 'https://cuthbertLab.github.io/music21j/releases/music21.debug',\n",
       "                }\n",
       "            });\n",
       "            rq(['music21'], function(music21) {\n",
       "                mp = new music21.miditools.MidiPlayer();\n",
       "                mp.addPlayer(\"#midiPlayerDiv278\");\n",
       "                mp.base64Load(\"data:audio/midi;base64,TVRoZAAAAAYAAQACJ2BNVHJrAAAAGgD/UQMHoSAA/1kCAAAA/1gEBAIYCM5g/y8ATVRyawAAAEsA/wMAAOAAQM5ggDUAAIA5AACAPAAAkDVaAJA5WgCQPFoAkEhagZ1AgEgAAJBFWqcwgEUAAJBIWqcwgEgAAJBFWs5ggEUAzmD/LwA=\");\n",
       "            });\n",
       "        }\n",
       "        if (typeof require === 'undefined') {\n",
       "            setTimeout(midiPlayerDiv278_play, 2000);\n",
       "        } else {\n",
       "            midiPlayerDiv278_play();\n",
       "        }\n",
       "        </script>"
      ],
      "text/plain": [
       "<IPython.core.display.HTML object>"
      ]
     },
     "metadata": {},
     "output_type": "display_data"
    },
    {
     "data": {
      "image/png": "[encoded data removed]",
      "text/plain": [
       "<IPython.core.display.Image object>"
      ]
     },
     "execution_count": 6,
     "metadata": {},
     "output_type": "execute_result"
    }
   ],
   "source": [
    "\n",
    "info = [\"Treble\", 0, \"4/4\"]\n",
    "notes = \"!F C5/2 A4/.5 C5/.5 A4/1\"\n",
    "music(info, notes, True, False)\n",
    "music(info, notes, False, False)"
   ]
  },
  {
   "cell_type": "markdown",
   "metadata": {},
   "source": [
    "## Use Color Tones\n",
    "Often other tones are added to the chord to make a larger chord. Often this is done on the fly by the comping instrument. Sometimes these are implied by the original melody, and sometimes they are just known from experience. For example, over F major, it is reasonable safe to add (D the 6th, G the 9th, and E the major 7th). An awareness of the theory will help you know what tones sound good."
   ]
  },
  {
   "cell_type": "code",
   "execution_count": 8,
   "metadata": {},
   "outputs": [
    {
     "name": "stdout",
     "output_type": "stream",
     "text": [
      "C 1.0\n",
      "E 1.75\n"
     ]
    },
    {
     "data": {
      "text/html": [
       "\n",
       "        <div id=\"midiPlayerDiv525\"></div>\n",
       "        <link rel=\"stylesheet\" href=\"https://cuthbertLab.github.io/music21j/css/m21.css\">\n",
       "        \n",
       "        <script\n",
       "        src=\"https://cdnjs.cloudflare.com/ajax/libs/require.js/2.3.6/require.min.js\"\n",
       "        ></script>\n",
       "    \n",
       "        <script>\n",
       "        function midiPlayerDiv525_play() {\n",
       "            const rq = require.config({\n",
       "                paths: {\n",
       "                    'music21': 'https://cuthbertLab.github.io/music21j/releases/music21.debug',\n",
       "                }\n",
       "            });\n",
       "            rq(['music21'], function(music21) {\n",
       "                mp = new music21.miditools.MidiPlayer();\n",
       "                mp.addPlayer(\"#midiPlayerDiv525\");\n",
       "                mp.base64Load(\"data:audio/midi;base64,TVRoZAAAAAYAAQACJ2BNVHJrAAAAGgD/UQMHoSAA/1kCAAAA/1gEBAIYCM5g/y8ATVRyawAAAGUA/wMAAOAAQM5ggDUAAIA5AACAPAAAkDVaAJA5WgCQPFoAkEVazmCARQAAkEhauwiASAAAkExak1iATAAAkEpazmCASgAAkEhamiCASAAAkEVamiCARQAAkENamiCAQwDOYP8vAA==\");\n",
       "            });\n",
       "        }\n",
       "        if (typeof require === 'undefined') {\n",
       "            setTimeout(midiPlayerDiv525_play, 2000);\n",
       "        } else {\n",
       "            midiPlayerDiv525_play();\n",
       "        }\n",
       "        </script>"
      ],
      "text/plain": [
       "<IPython.core.display.HTML object>"
      ]
     },
     "metadata": {},
     "output_type": "display_data"
    },
    {
     "data": {
      "image/png": "[encoded data removed]",
      "text/plain": [
       "<IPython.core.display.Image object>"
      ]
     },
     "execution_count": 8,
     "metadata": {},
     "output_type": "execute_result"
    }
   ],
   "source": [
    "notes = \"!F A4/1 C5/0.5 E5/0.5*green D5/1 C5/0.3 A4/0.3 G4/0.3*green\"\n",
    "music(info, notes, True, False)\n",
    "music(info, notes, False, False)"
   ]
  },
  {
   "cell_type": "markdown",
   "metadata": {},
   "source": [
    "*Using color tones (shown in green)*"
   ]
  },
  {
   "cell_type": "markdown",
   "metadata": {},
   "source": [
    "## Use Arpeggios\n",
    "An arpeggio consists of adjacent chord tones (or color tones, which are tones of an implied chord). They can go up or down, as in the following examples:"
   ]
  },
  {
   "cell_type": "code",
   "execution_count": 9,
   "metadata": {},
   "outputs": [
    {
     "name": "stdout",
     "output_type": "stream",
     "text": [
      "A 1.0\n",
      "C 1.75\n",
      "F 2.0\n",
      "A 2.75\n"
     ]
    },
    {
     "data": {
      "text/html": [
       "\n",
       "        <div id=\"midiPlayerDiv682\"></div>\n",
       "        <link rel=\"stylesheet\" href=\"https://cuthbertLab.github.io/music21j/css/m21.css\">\n",
       "        \n",
       "        <script\n",
       "        src=\"https://cdnjs.cloudflare.com/ajax/libs/require.js/2.3.6/require.min.js\"\n",
       "        ></script>\n",
       "    \n",
       "        <script>\n",
       "        function midiPlayerDiv682_play() {\n",
       "            const rq = require.config({\n",
       "                paths: {\n",
       "                    'music21': 'https://cuthbertLab.github.io/music21j/releases/music21.debug',\n",
       "                }\n",
       "            });\n",
       "            rq(['music21'], function(music21) {\n",
       "                mp = new music21.miditools.MidiPlayer();\n",
       "                mp.addPlayer(\"#midiPlayerDiv682\");\n",
       "                mp.base64Load(\"data:audio/midi;base64,TVRoZAAAAAYAAQACJ2BNVHJrAAAAGgD/UQMHoSAA/1kCAAAA/1gEBAIYCM5g/y8ATVRyawAAAEsA/wMAAOAAQM5ggDUAAIA5AACAPAAAkDVaAJA5WgCQPFrOYJBFWrsIgEUAAJBIWpNYgEgAAJBNWrsIgE0AAJBRWuI4gFEAzmD/LwA=\");\n",
       "            });\n",
       "        }\n",
       "        if (typeof require === 'undefined') {\n",
       "            setTimeout(midiPlayerDiv682_play, 2000);\n",
       "        } else {\n",
       "            midiPlayerDiv682_play();\n",
       "        }\n",
       "        </script>"
      ],
      "text/plain": [
       "<IPython.core.display.HTML object>"
      ]
     },
     "metadata": {},
     "output_type": "display_data"
    },
    {
     "data": {
      "image/png": "[encoded data removed]",
      "text/plain": [
       "<IPython.core.display.Image object>"
      ]
     },
     "execution_count": 9,
     "metadata": {},
     "output_type": "execute_result"
    }
   ],
   "source": [
    "notes = \"!F R/1 A4/0.5 C5/0.5 F5/0.5 A5/0.5{ A5/1}\"\n",
    "music(info, notes, True, False)\n",
    "music(info, notes, False, False)"
   ]
  },
  {
   "cell_type": "markdown",
   "metadata": {},
   "source": [
    "## Use Approach Tones\n",
    "In the preceding example, the Bb is also ok because it *approaches* the chord tone a half- step away. This idea is often used to get a “jazzy” sound, even with notes that are not in the scale. Here is an extension of the previous example. Note that the F# is not remotely consistent with the F major chord, but it “works” because it approaches the G, which is a color tone over the F major."
   ]
  },
  {
   "cell_type": "code",
   "execution_count": 10,
   "metadata": {},
   "outputs": [
    {
     "name": "stdout",
     "output_type": "stream",
     "text": [
      "C 0.0\n",
      "B- 0.75\n",
      "A 1.0\n",
      "G 1.75\n",
      "A 2.0\n",
      "F# 2.75\n",
      "G 3.0\n"
     ]
    },
    {
     "data": {
      "text/html": [
       "\n",
       "        <div id=\"midiPlayerDiv832\"></div>\n",
       "        <link rel=\"stylesheet\" href=\"https://cuthbertLab.github.io/music21j/css/m21.css\">\n",
       "        \n",
       "        <script\n",
       "        src=\"https://cdnjs.cloudflare.com/ajax/libs/require.js/2.3.6/require.min.js\"\n",
       "        ></script>\n",
       "    \n",
       "        <script>\n",
       "        function midiPlayerDiv832_play() {\n",
       "            const rq = require.config({\n",
       "                paths: {\n",
       "                    'music21': 'https://cuthbertLab.github.io/music21j/releases/music21.debug',\n",
       "                }\n",
       "            });\n",
       "            rq(['music21'], function(music21) {\n",
       "                mp = new music21.miditools.MidiPlayer();\n",
       "                mp.addPlayer(\"#midiPlayerDiv832\");\n",
       "                mp.base64Load(\"data:audio/midi;base64,TVRoZAAAAAYAAQACJ2BNVHJrAAAAGgD/UQMHoSAA/1kCAAAA/1gEBAIYCM5g/y8ATVRyawAAAG4A/wMAAOAAQM5ggDUAAIA5AACAPAAAkDVaAJA5WgCQPFoAkEhauwiASAAAkEZak1iARgAAkEVauwiARQAAkENak1iAQwAAkEVauwiARQAAkEJak1iAQgAAkENauwiAQwAAkEBapzCAQADOYP8vAA==\");\n",
       "            });\n",
       "        }\n",
       "        if (typeof require === 'undefined') {\n",
       "            setTimeout(midiPlayerDiv832_play, 2000);\n",
       "        } else {\n",
       "            midiPlayerDiv832_play();\n",
       "        }\n",
       "        </script>"
      ],
      "text/plain": [
       "<IPython.core.display.HTML object>"
      ]
     },
     "metadata": {},
     "output_type": "display_data"
    },
    {
     "data": {
      "image/png": "[encoded data removed]",
      "text/plain": [
       "<IPython.core.display.Image object>"
      ]
     },
     "execution_count": 10,
     "metadata": {},
     "output_type": "execute_result"
    }
   ],
   "source": [
    "notes = \"!F C5/0.5 B-4/0.5*blue A4/0.5 G4/0.5*green A4/0.5 F#4/0.5*blue G4/0.5*green E4/0.5*green\"\n",
    "music(info, notes, True, False)\n",
    "music(info, notes, False, False)"
   ]
  },
  {
   "cell_type": "markdown",
   "metadata": {},
   "source": [
    "*Approach tones (shown in blue)*"
   ]
  },
  {
   "cell_type": "markdown",
   "metadata": {},
   "source": [
    "Below, the first E, which is a color tone, also functions as an approach tone."
   ]
  },
  {
   "cell_type": "code",
   "execution_count": 11,
   "metadata": {},
   "outputs": [
    {
     "name": "stdout",
     "output_type": "stream",
     "text": [
      "rest 0.0\n",
      "E 0.75\n",
      "F 1.0\n",
      "A 1.75\n",
      "C 2.0\n",
      "E 2.75\n"
     ]
    },
    {
     "data": {
      "text/html": [
       "\n",
       "        <div id=\"midiPlayerDiv1003\"></div>\n",
       "        <link rel=\"stylesheet\" href=\"https://cuthbertLab.github.io/music21j/css/m21.css\">\n",
       "        \n",
       "        <script\n",
       "        src=\"https://cdnjs.cloudflare.com/ajax/libs/require.js/2.3.6/require.min.js\"\n",
       "        ></script>\n",
       "    \n",
       "        <script>\n",
       "        function midiPlayerDiv1003_play() {\n",
       "            const rq = require.config({\n",
       "                paths: {\n",
       "                    'music21': 'https://cuthbertLab.github.io/music21j/releases/music21.debug',\n",
       "                }\n",
       "            });\n",
       "            rq(['music21'], function(music21) {\n",
       "                mp = new music21.miditools.MidiPlayer();\n",
       "                mp.addPlayer(\"#midiPlayerDiv1003\");\n",
       "                mp.base64Load(\"data:audio/midi;base64,TVRoZAAAAAYAAQACJ2BNVHJrAAAAGgD/UQMHoSAA/1kCAAAA/1gEBAIYCM5g/y8ATVRyawAAAFQA/wMAAOAAQM5ggDUAAIA5AACAPAAAkDVaAJA5WgCQPFq7CJBAWpNYgEAAAJBBWrsIgEEAAJBFWpNYgEUAAJBIWrsIgEgAAJBMWuI4gEwAzmD/LwA=\");\n",
       "            });\n",
       "        }\n",
       "        if (typeof require === 'undefined') {\n",
       "            setTimeout(midiPlayerDiv1003_play, 2000);\n",
       "        } else {\n",
       "            midiPlayerDiv1003_play();\n",
       "        }\n",
       "        </script>"
      ],
      "text/plain": [
       "<IPython.core.display.HTML object>"
      ]
     },
     "metadata": {},
     "output_type": "display_data"
    },
    {
     "data": {
      "image/png": "[encoded data removed]",
      "text/plain": [
       "<IPython.core.display.Image object>"
      ]
     },
     "execution_count": 11,
     "metadata": {},
     "output_type": "execute_result"
    }
   ],
   "source": [
    "notes = \"!F R/0.5 E4/0.5*green F4/0.5 A4/0.5 C5/0.5 E5/0.5*green{ E5/1*green}\"\n",
    "music(info, notes, True, False)\n",
    "music(info, notes, False, False)"
   ]
  },
  {
   "cell_type": "markdown",
   "metadata": {},
   "source": [
    "*Arpeggio on chord tones (starting on the major 7th, also on approach tone)*"
   ]
  },
  {
   "cell_type": "markdown",
   "metadata": {},
   "source": [
    "The next example shows the tonic of the chord functioning as an approach tone, to the E."
   ]
  },
  {
   "cell_type": "code",
   "execution_count": 12,
   "metadata": {},
   "outputs": [
    {
     "name": "stdout",
     "output_type": "stream",
     "text": [
      "E 0.0\n",
      "C 0.75\n",
      "A 1.0\n",
      "F 1.75\n"
     ]
    },
    {
     "data": {
      "text/html": [
       "\n",
       "        <div id=\"midiPlayerDiv1158\"></div>\n",
       "        <link rel=\"stylesheet\" href=\"https://cuthbertLab.github.io/music21j/css/m21.css\">\n",
       "        \n",
       "        <script\n",
       "        src=\"https://cdnjs.cloudflare.com/ajax/libs/require.js/2.3.6/require.min.js\"\n",
       "        ></script>\n",
       "    \n",
       "        <script>\n",
       "        function midiPlayerDiv1158_play() {\n",
       "            const rq = require.config({\n",
       "                paths: {\n",
       "                    'music21': 'https://cuthbertLab.github.io/music21j/releases/music21.debug',\n",
       "                }\n",
       "            });\n",
       "            rq(['music21'], function(music21) {\n",
       "                mp = new music21.miditools.MidiPlayer();\n",
       "                mp.addPlayer(\"#midiPlayerDiv1158\");\n",
       "                mp.base64Load(\"data:audio/midi;base64,TVRoZAAAAAYAAQACJ2BNVHJrAAAAGgD/UQMHoSAA/1kCAAAA/1gEBAIYCM5g/y8ATVRyawAAAFMA/wMAAOAAQM5ggDUAAIA5AACAPAAAkDVaAJA5WgCQPFoAkExauwiATAAAkEhak1iASAAAkEVauwiARQAAkEFak1iAQQAAkEBa9hCAQADOYP8vAA==\");\n",
       "            });\n",
       "        }\n",
       "        if (typeof require === 'undefined') {\n",
       "            setTimeout(midiPlayerDiv1158_play, 2000);\n",
       "        } else {\n",
       "            midiPlayerDiv1158_play();\n",
       "        }\n",
       "        </script>"
      ],
      "text/plain": [
       "<IPython.core.display.HTML object>"
      ]
     },
     "metadata": {},
     "output_type": "display_data"
    },
    {
     "data": {
      "image/png": "[encoded data removed]",
      "text/plain": [
       "<IPython.core.display.Image object>"
      ]
     },
     "execution_count": 12,
     "metadata": {},
     "output_type": "execute_result"
    }
   ],
   "source": [
    "notes = \"!F E5/0.5*green C5/0.5 A4/0.5 F4/0.5 E4/1*green{ E4/0.5*green}\"\n",
    "music(info, notes, True, False)\n",
    "music(info, notes, False, False)"
   ]
  },
  {
   "cell_type": "markdown",
   "metadata": {},
   "source": [
    "*Descending arpeggio starting and ending on the major 7th.*\n",
    "\n",
    "*The tonic F functions as an approach tone (discussed on page 4) in this case.*"
   ]
  },
  {
   "cell_type": "markdown",
   "metadata": {},
   "source": [
    "## Use Multiple Approach Tones\n",
    "Instead of just one approach tone, use a chromatic run of two, three, or more, as shown \n",
    "below."
   ]
  },
  {
   "cell_type": "code",
   "execution_count": 13,
   "metadata": {},
   "outputs": [
    {
     "name": "stdout",
     "output_type": "stream",
     "text": [
      "E 1.0\n",
      "E- 1.75\n",
      "D 2.0\n",
      "D- 2.75\n",
      "C 3.0\n"
     ]
    },
    {
     "data": {
      "text/html": [
       "\n",
       "        <div id=\"midiPlayerDiv1305\"></div>\n",
       "        <link rel=\"stylesheet\" href=\"https://cuthbertLab.github.io/music21j/css/m21.css\">\n",
       "        \n",
       "        <script\n",
       "        src=\"https://cdnjs.cloudflare.com/ajax/libs/require.js/2.3.6/require.min.js\"\n",
       "        ></script>\n",
       "    \n",
       "        <script>\n",
       "        function midiPlayerDiv1305_play() {\n",
       "            const rq = require.config({\n",
       "                paths: {\n",
       "                    'music21': 'https://cuthbertLab.github.io/music21j/releases/music21.debug',\n",
       "                }\n",
       "            });\n",
       "            rq(['music21'], function(music21) {\n",
       "                mp = new music21.miditools.MidiPlayer();\n",
       "                mp.addPlayer(\"#midiPlayerDiv1305\");\n",
       "                mp.base64Load(\"data:audio/midi;base64,TVRoZAAAAAYAAQACJ2BNVHJrAAAAGgD/UQMHoSAA/1kCAAAA/1gEBAIYCM5g/y8ATVRyawAAAF0A/wMAAOAAQM5ggDUAAIA5AACAPAAAkDVaAJA5WgCQPFrOYJBMWrsIgEwAAJBLWpNYgEsAAJBKWrsIgEoAAJBJWpNYgEkAAJBIWrsIgEgAAJBFWqcwgEUAzmD/LwA=\");\n",
       "            });\n",
       "        }\n",
       "        if (typeof require === 'undefined') {\n",
       "            setTimeout(midiPlayerDiv1305_play, 2000);\n",
       "        } else {\n",
       "            midiPlayerDiv1305_play();\n",
       "        }\n",
       "        </script>"
      ],
      "text/plain": [
       "<IPython.core.display.HTML object>"
      ]
     },
     "metadata": {},
     "output_type": "display_data"
    },
    {
     "data": {
      "image/png": "[encoded data removed]",
      "text/plain": [
       "<IPython.core.display.Image object>"
      ]
     },
     "execution_count": 13,
     "metadata": {},
     "output_type": "execute_result"
    }
   ],
   "source": [
    "notes = \"!F R/1 e5/0.5*green e-5/0.5*blue d5/0.5*green d-5/0.5*blue c5/0.5 a4/0.5\"\n",
    "music(info, notes, True, False)\n",
    "music(info, notes, False, False)"
   ]
  },
  {
   "cell_type": "markdown",
   "metadata": {},
   "source": [
    "*Multiple approach tones*"
   ]
  },
  {
   "cell_type": "markdown",
   "metadata": {},
   "source": [
    "## Know Scales that go with the Chords\n",
    "This is not always as difficult as it might seem at first, because the same scale will often \n",
    "work over multiple chords in succession. Here we treat “scale” as “set of notes” rather \n",
    "than “sequence of notes”. Typical scales that go with chords are given in the appendix. \n",
    "For example, the same scale, F major, can be used over all three chords in the II-V-I \n",
    "progression below, although different tones are normally emphasized over each one."
   ]
  },
  {
   "cell_type": "code",
   "execution_count": 14,
   "metadata": {},
   "outputs": [
    {
     "name": "stdout",
     "output_type": "stream",
     "text": [
      "B- 1.0\n",
      "A 1.75\n",
      "G 2.25\n",
      "G 2.25\n",
      "F 2.75\n",
      "G 2.25\n",
      "E 3.0\n"
     ]
    },
    {
     "data": {
      "text/html": [
       "\n",
       "        <div id=\"midiPlayerDiv1462\"></div>\n",
       "        <link rel=\"stylesheet\" href=\"https://cuthbertLab.github.io/music21j/css/m21.css\">\n",
       "        \n",
       "        <script\n",
       "        src=\"https://cdnjs.cloudflare.com/ajax/libs/require.js/2.3.6/require.min.js\"\n",
       "        ></script>\n",
       "    \n",
       "        <script>\n",
       "        function midiPlayerDiv1462_play() {\n",
       "            const rq = require.config({\n",
       "                paths: {\n",
       "                    'music21': 'https://cuthbertLab.github.io/music21j/releases/music21.debug',\n",
       "                }\n",
       "            });\n",
       "            rq(['music21'], function(music21) {\n",
       "                mp = new music21.miditools.MidiPlayer();\n",
       "                mp.addPlayer(\"#midiPlayerDiv1462\");\n",
       "                mp.base64Load(\"data:audio/midi;base64,TVRoZAAAAAYAAQACJ2BNVHJrAAAAGgD/UQMHoSAA/1kCAAAA/1gEBAIYCM5g/y8ATVRyawAAAI4A/wMAAOAAQM5ggCsAAIAuAACAMgAAgDUAAJArWgCQLloAkDJaAJA1WgCQSFrOYIBIAACQRlq7CIBGAACQRVqTWIBFAJNYgDAAAIA0AACANwAAgDoAAJAwWgCQNFoAkDdaAJA6WgCQQ1qnMIBDAACQTVqTWIBNAACQTFq7CIBMAACQSlqnMIBKAM5g/y8A\");\n",
       "            });\n",
       "        }\n",
       "        if (typeof require === 'undefined') {\n",
       "            setTimeout(midiPlayerDiv1462_play, 2000);\n",
       "        } else {\n",
       "            midiPlayerDiv1462_play();\n",
       "        }\n",
       "        </script>"
      ],
      "text/plain": [
       "<IPython.core.display.HTML object>"
      ]
     },
     "metadata": {},
     "output_type": "display_data"
    },
    {
     "data": {
      "image/png": "[encoded data removed]",
      "text/plain": [
       "<IPython.core.display.Image object>"
      ]
     },
     "execution_count": 14,
     "metadata": {},
     "output_type": "execute_result"
    }
   ],
   "source": [
    "notes = \"!Gm7 c5/1*green b-4/0.5 a4/0.5*green !C7 g4/0.5 f5/0.5*green e5/0.5 d5/0.5*green\"\n",
    "music(info, notes, True, False)\n",
    "music(info, notes, False, False)"
   ]
  },
  {
   "cell_type": "markdown",
   "metadata": {},
   "source": [
    "*Using scale sequential fragments*"
   ]
  },
  {
   "cell_type": "markdown",
   "metadata": {},
   "source": [
    "In playing with scale fragments, it is best if chord tones are hit on the beat rather than off, \n",
    "unless an appoggiatura (from the Italian word appoggiare, \"to lean upon\") effect is \n",
    "desired. Below is the line from above staggered so that the chord tones are off the beat. \n",
    "While the Bb could be regarded as an appoggiatura, it is not really held long enough to \n",
    "have that effect."
   ]
  },
  {
   "cell_type": "code",
   "execution_count": 15,
   "metadata": {},
   "outputs": [
    {
     "name": "stdout",
     "output_type": "stream",
     "text": [
      "rest 0.0\n",
      "C 0.75\n",
      "B- 1.0\n",
      "A 1.75\n",
      "G 2.0\n",
      "F 2.75\n"
     ]
    },
    {
     "data": {
      "text/html": [
       "\n",
       "        <div id=\"midiPlayerDiv1625\"></div>\n",
       "        <link rel=\"stylesheet\" href=\"https://cuthbertLab.github.io/music21j/css/m21.css\">\n",
       "        \n",
       "        <script\n",
       "        src=\"https://cdnjs.cloudflare.com/ajax/libs/require.js/2.3.6/require.min.js\"\n",
       "        ></script>\n",
       "    \n",
       "        <script>\n",
       "        function midiPlayerDiv1625_play() {\n",
       "            const rq = require.config({\n",
       "                paths: {\n",
       "                    'music21': 'https://cuthbertLab.github.io/music21j/releases/music21.debug',\n",
       "                }\n",
       "            });\n",
       "            rq(['music21'], function(music21) {\n",
       "                mp = new music21.miditools.MidiPlayer();\n",
       "                mp.addPlayer(\"#midiPlayerDiv1625\");\n",
       "                mp.base64Load(\"data:audio/midi;base64,TVRoZAAAAAYAAQACJ2BNVHJrAAAAGgD/UQMHoSAA/1kCAAAA/1gEBAIYCM5g/y8ATVRyawAAAF0A/wMAAOAAQM5ggDUAAIA5AACAPAAAkDVaAJA5WgCQPFq7CJBIWpNYgEgAAJBGWrsIgEYAAJBFWpNYgEUAAJBDWrsIgEMAAJBBWpNYgEEAAJBAWs5ggEAAzmD/LwA=\");\n",
       "            });\n",
       "        }\n",
       "        if (typeof require === 'undefined') {\n",
       "            setTimeout(midiPlayerDiv1625_play, 2000);\n",
       "        } else {\n",
       "            midiPlayerDiv1625_play();\n",
       "        }\n",
       "        </script>"
      ],
      "text/plain": [
       "<IPython.core.display.HTML object>"
      ]
     },
     "metadata": {},
     "output_type": "display_data"
    },
    {
     "data": {
      "image/png": "[encoded data removed]",
      "text/plain": [
       "<IPython.core.display.Image object>"
      ]
     },
     "execution_count": 15,
     "metadata": {},
     "output_type": "execute_result"
    }
   ],
   "source": [
    "notes = \"!F R/0.5 c5/0.5 b-4/0.5*blue a4/0.5 g4/0.5*green f4/0.5 e4/1*green\"\n",
    "music(info, notes, True, False)\n",
    "music(info, notes, False, False)"
   ]
  },
  {
   "cell_type": "markdown",
   "metadata": {},
   "source": [
    "*Scale fragment with chord tones off the beat*"
   ]
  },
  {
   "cell_type": "markdown",
   "metadata": {},
   "source": [
    "## Avoid “Avoid Notes”\n",
    "“Avoid note” is the jazz player’s term for a note that is in a common scale for a chord, \n",
    "but which shouldn’t be sustained (say longer than an eighth-note) over that chord because \n",
    "it is very dissonant, to the point of sounding harsh. In a way, it is saying that the scale \n",
    "should actually be reduced to a *smaller* scale in this particular intended use, by dropping \n",
    "the avoid notes. An example of an “avoid note” is the fourth of a major scale over a \n",
    "major chord. If played in the octave above the chord itself, this note creates a minor-ninth \n",
    "over the third of the chord, which sounds discordant. Short notes of the same pitch are not \n",
    "generally a problem and can be used in passing."
   ]
  },
  {
   "cell_type": "code",
   "execution_count": 16,
   "metadata": {},
   "outputs": [
    {
     "data": {
      "text/html": [
       "\n",
       "        <div id=\"midiPlayerDiv1748\"></div>\n",
       "        <link rel=\"stylesheet\" href=\"https://cuthbertLab.github.io/music21j/css/m21.css\">\n",
       "        \n",
       "        <script\n",
       "        src=\"https://cdnjs.cloudflare.com/ajax/libs/require.js/2.3.6/require.min.js\"\n",
       "        ></script>\n",
       "    \n",
       "        <script>\n",
       "        function midiPlayerDiv1748_play() {\n",
       "            const rq = require.config({\n",
       "                paths: {\n",
       "                    'music21': 'https://cuthbertLab.github.io/music21j/releases/music21.debug',\n",
       "                }\n",
       "            });\n",
       "            rq(['music21'], function(music21) {\n",
       "                mp = new music21.miditools.MidiPlayer();\n",
       "                mp.addPlayer(\"#midiPlayerDiv1748\");\n",
       "                mp.base64Load(\"data:audio/midi;base64,TVRoZAAAAAYAAQACJ2BNVHJrAAAAGgD/UQMHoSAA/1kCAAAA/1gEBAIYCM5g/y8ATVRyawAAADAA/wMAAOAAQM5ggDUAAIA5AACAPAAAkDVaAJA5WgCQPFoAkEZagrsAgEYAzmD/LwA=\");\n",
       "            });\n",
       "        }\n",
       "        if (typeof require === 'undefined') {\n",
       "            setTimeout(midiPlayerDiv1748_play, 2000);\n",
       "        } else {\n",
       "            midiPlayerDiv1748_play();\n",
       "        }\n",
       "        </script>"
      ],
      "text/plain": [
       "<IPython.core.display.HTML object>"
      ]
     },
     "metadata": {},
     "output_type": "display_data"
    },
    {
     "data": {
      "image/png": "[encoded data removed]",
      "text/plain": [
       "<IPython.core.display.Image object>"
      ]
     },
     "execution_count": 16,
     "metadata": {},
     "output_type": "execute_result"
    }
   ],
   "source": [
    "notes = \"!F b-4/4*red\"\n",
    "music(info, notes, True, False)\n",
    "music(info, notes, False, False)"
   ]
  },
  {
   "cell_type": "markdown",
   "metadata": {},
   "source": [
    "*An \"avoid note\""
   ]
  },
  {
   "cell_type": "markdown",
   "metadata": {},
   "source": [
    "## Convert Errors to Approach and Passing Tones\n",
    "You will make mistakes, where you brain or your ears tell you to play a note that ends up \n",
    "being discordant with the harmony. Even professionals make such mistakes. When your \n",
    "ears tell you that you have played a note that doesn’t sound good, minimize the damage \n",
    "by not continuing to hold that note but rather treating it as a chromatic approach to \n",
    "another note. Usually, the note on either side of the note you played will sound ok, if not \n",
    "great. Apply this technique iteratively: keep extending your line until you get to a safe \n",
    "place, on a chord you know, then regroup and consider your next line. It is best if you can \n",
    "avoid holding the bad note longer than an eighth note. Conversely, choose notes that you \n",
    "plan to hold for a longer time carefully."
   ]
  },
  {
   "cell_type": "markdown",
   "metadata": {},
   "source": [
    "## Change Direction\n",
    "In using both scales and arpeggios, direction changes during the figure can provide \n",
    "variety and increase interest. Here are a few examples."
   ]
  },
  {
   "cell_type": "code",
   "execution_count": 17,
   "metadata": {},
   "outputs": [
    {
     "name": "stdout",
     "output_type": "stream",
     "text": [
      "rest 0.0\n",
      "E 0.75\n",
      "F 1.0\n",
      "G 1.75\n",
      "A 2.0\n",
      "G 2.75\n",
      "F 3.0\n"
     ]
    },
    {
     "data": {
      "text/html": [
       "\n",
       "        <div id=\"midiPlayerDiv1860\"></div>\n",
       "        <link rel=\"stylesheet\" href=\"https://cuthbertLab.github.io/music21j/css/m21.css\">\n",
       "        \n",
       "        <script\n",
       "        src=\"https://cdnjs.cloudflare.com/ajax/libs/require.js/2.3.6/require.min.js\"\n",
       "        ></script>\n",
       "    \n",
       "        <script>\n",
       "        function midiPlayerDiv1860_play() {\n",
       "            const rq = require.config({\n",
       "                paths: {\n",
       "                    'music21': 'https://cuthbertLab.github.io/music21j/releases/music21.debug',\n",
       "                }\n",
       "            });\n",
       "            rq(['music21'], function(music21) {\n",
       "                mp = new music21.miditools.MidiPlayer();\n",
       "                mp.addPlayer(\"#midiPlayerDiv1860\");\n",
       "                mp.base64Load(\"data:audio/midi;base64,TVRoZAAAAAYAAQACJ2BNVHJrAAAAGgD/UQMHoSAA/1kCAAAA/1gEBAIYCM5g/y8ATVRyawAAAGYA/wMAAOAAQM5ggDUAAIA5AACAPAAAkDVaAJA5WgCQPFq7CJBAWpNYgEAAAJBBWrsIgEEAAJBDWpNYgEMAAJBFWrsIgEUAAJBDWpNYgEMAAJBBWrsIgEEAAJBAWqcwgEAAzmD/LwA=\");\n",
       "            });\n",
       "        }\n",
       "        if (typeof require === 'undefined') {\n",
       "            setTimeout(midiPlayerDiv1860_play, 2000);\n",
       "        } else {\n",
       "            midiPlayerDiv1860_play();\n",
       "        }\n",
       "        </script>"
      ],
      "text/plain": [
       "<IPython.core.display.HTML object>"
      ]
     },
     "metadata": {},
     "output_type": "display_data"
    },
    {
     "data": {
      "image/png": "[encoded data removed]",
      "text/plain": [
       "<IPython.core.display.Image object>"
      ]
     },
     "execution_count": 17,
     "metadata": {},
     "output_type": "execute_result"
    }
   ],
   "source": [
    "notes = \"!F r/0.5 e4/0.5*green f4/0.5 g4/0.5*green a4/0.5 g4/0.5*green f4/0.5 e4/0.5*green\"\n",
    "music(info, notes, True, False)\n",
    "music(info, notes, False, False)"
   ]
  },
  {
   "cell_type": "markdown",
   "metadata": {},
   "source": [
    "*Changing direction in a scale*"
   ]
  },
  {
   "cell_type": "code",
   "execution_count": 18,
   "metadata": {},
   "outputs": [
    {
     "name": "stdout",
     "output_type": "stream",
     "text": [
      "rest 0.0\n",
      "A 0.75\n",
      "C 1.0\n",
      "E 1.75\n",
      "G 2.0\n",
      "E 2.75\n",
      "C 3.0\n"
     ]
    },
    {
     "data": {
      "text/html": [
       "\n",
       "        <div id=\"midiPlayerDiv2026\"></div>\n",
       "        <link rel=\"stylesheet\" href=\"https://cuthbertLab.github.io/music21j/css/m21.css\">\n",
       "        \n",
       "        <script\n",
       "        src=\"https://cdnjs.cloudflare.com/ajax/libs/require.js/2.3.6/require.min.js\"\n",
       "        ></script>\n",
       "    \n",
       "        <script>\n",
       "        function midiPlayerDiv2026_play() {\n",
       "            const rq = require.config({\n",
       "                paths: {\n",
       "                    'music21': 'https://cuthbertLab.github.io/music21j/releases/music21.debug',\n",
       "                }\n",
       "            });\n",
       "            rq(['music21'], function(music21) {\n",
       "                mp = new music21.miditools.MidiPlayer();\n",
       "                mp.addPlayer(\"#midiPlayerDiv2026\");\n",
       "                mp.base64Load(\"data:audio/midi;base64,TVRoZAAAAAYAAQACJ2BNVHJrAAAAGgD/UQMHoSAA/1kCAAAA/1gEBAIYCM5g/y8ATVRyawAAAGYA/wMAAOAAQM5ggDUAAIA5AACAPAAAkDVaAJA5WgCQPFq7CJBFWpNYgEUAAJBIWrsIgEgAAJBMWpNYgEwAAJBPWrsIgE8AAJBMWpNYgEwAAJBIWrsIgEgAAJBMWqcwgEwAzmD/LwA=\");\n",
       "            });\n",
       "        }\n",
       "        if (typeof require === 'undefined') {\n",
       "            setTimeout(midiPlayerDiv2026_play, 2000);\n",
       "        } else {\n",
       "            midiPlayerDiv2026_play();\n",
       "        }\n",
       "        </script>"
      ],
      "text/plain": [
       "<IPython.core.display.HTML object>"
      ]
     },
     "metadata": {},
     "output_type": "display_data"
    },
    {
     "data": {
      "image/png": "[encoded data removed]",
      "text/plain": [
       "<IPython.core.display.Image object>"
      ]
     },
     "execution_count": 18,
     "metadata": {},
     "output_type": "execute_result"
    }
   ],
   "source": [
    "notes = \"!F r/0.5 a4/0.5 c5/0.5 e5/0.5*green g5/0.5*green e5/0.5*green c5/0.5 e5/0.5*green\"\n",
    "music(info, notes, True, False)\n",
    "music(info, notes, False, False)"
   ]
  },
  {
   "cell_type": "markdown",
   "metadata": {},
   "source": [
    "*Changing direction (twice) in an arpeggio*"
   ]
  },
  {
   "cell_type": "markdown",
   "metadata": {},
   "source": [
    "## Skip Notes or Zig-Zag\n",
    "In a scale or arpeggio, skipping notes can create more nuance, especially if combined \n",
    "with direction change. The limiting case would be a “zig-zag” effect."
   ]
  },
  {
   "cell_type": "code",
   "execution_count": 19,
   "metadata": {},
   "outputs": [
    {
     "name": "stdout",
     "output_type": "stream",
     "text": [
      "rest 0.0\n",
      "A 0.75\n",
      "F 1.0\n",
      "C 1.75\n",
      "A 2.0\n",
      "E 2.75\n",
      "C 3.0\n"
     ]
    },
    {
     "data": {
      "text/html": [
       "\n",
       "        <div id=\"midiPlayerDiv2192\"></div>\n",
       "        <link rel=\"stylesheet\" href=\"https://cuthbertLab.github.io/music21j/css/m21.css\">\n",
       "        \n",
       "        <script\n",
       "        src=\"https://cdnjs.cloudflare.com/ajax/libs/require.js/2.3.6/require.min.js\"\n",
       "        ></script>\n",
       "    \n",
       "        <script>\n",
       "        function midiPlayerDiv2192_play() {\n",
       "            const rq = require.config({\n",
       "                paths: {\n",
       "                    'music21': 'https://cuthbertLab.github.io/music21j/releases/music21.debug',\n",
       "                }\n",
       "            });\n",
       "            rq(['music21'], function(music21) {\n",
       "                mp = new music21.miditools.MidiPlayer();\n",
       "                mp.addPlayer(\"#midiPlayerDiv2192\");\n",
       "                mp.base64Load(\"data:audio/midi;base64,TVRoZAAAAAYAAQACJ2BNVHJrAAAAGgD/UQMHoSAA/1kCAAAA/1gEBAIYCM5g/y8ATVRyawAAAGYA/wMAAOAAQM5ggDUAAIA5AACAPAAAkDVaAJA5WgCQPFq7CJBFWpNYgEUAAJBBWrsIgEEAAJBIWpNYgEgAAJBFWrsIgEUAAJBMWpNYgEwAAJBIWrsIgEgAAJBPWqcwgE8AzmD/LwA=\");\n",
       "            });\n",
       "        }\n",
       "        if (typeof require === 'undefined') {\n",
       "            setTimeout(midiPlayerDiv2192_play, 2000);\n",
       "        } else {\n",
       "            midiPlayerDiv2192_play();\n",
       "        }\n",
       "        </script>"
      ],
      "text/plain": [
       "<IPython.core.display.HTML object>"
      ]
     },
     "metadata": {},
     "output_type": "display_data"
    },
    {
     "data": {
      "image/png": "[encoded data removed]",
      "text/plain": [
       "<IPython.core.display.Image object>"
      ]
     },
     "execution_count": 19,
     "metadata": {},
     "output_type": "execute_result"
    }
   ],
   "source": [
    "notes = \"!F r/0.5 a4/0.5 f4/0.5 c5/0.5 a4/0.5 e5/0.5*green c5/0.5 g5/0.5*green\"\n",
    "music(info, notes, True, False)\n",
    "music(info, notes, False, False)"
   ]
  },
  {
   "cell_type": "markdown",
   "metadata": {},
   "source": [
    "*Skipping notes and zig-zagging in an arpeggio (major 9th chord implied)*"
   ]
  },
  {
   "cell_type": "markdown",
   "metadata": {},
   "source": [
    "## Use Enclosures\n",
    "To “enclose” means to approach a note from both sides alternatively. Enclosures are most \n",
    "effective when the tone enclosed is a chord tone. Below, the red coloring indicates that \n",
    "the note in question would be considered discordant. However, because this note is short \n",
    "and part of the enclosure idiom, the result sounds fine."
   ]
  },
  {
   "cell_type": "code",
   "execution_count": 20,
   "metadata": {},
   "outputs": [
    {
     "name": "stdout",
     "output_type": "stream",
     "text": [
      "rest 0.0\n",
      "D 0.75\n",
      "C# 1.0\n",
      "B 1.75\n"
     ]
    },
    {
     "data": {
      "text/html": [
       "\n",
       "        <div id=\"midiPlayerDiv2343\"></div>\n",
       "        <link rel=\"stylesheet\" href=\"https://cuthbertLab.github.io/music21j/css/m21.css\">\n",
       "        \n",
       "        <script\n",
       "        src=\"https://cdnjs.cloudflare.com/ajax/libs/require.js/2.3.6/require.min.js\"\n",
       "        ></script>\n",
       "    \n",
       "        <script>\n",
       "        function midiPlayerDiv2343_play() {\n",
       "            const rq = require.config({\n",
       "                paths: {\n",
       "                    'music21': 'https://cuthbertLab.github.io/music21j/releases/music21.debug',\n",
       "                }\n",
       "            });\n",
       "            rq(['music21'], function(music21) {\n",
       "                mp = new music21.miditools.MidiPlayer();\n",
       "                mp.addPlayer(\"#midiPlayerDiv2343\");\n",
       "                mp.base64Load(\"data:audio/midi;base64,TVRoZAAAAAYAAQACJ2BNVHJrAAAAGgD/UQMHoSAA/1kCAAAA/1gEBAIYCM5g/y8ATVRyawAAAEwA/wMAAOAAQM5ggDUAAIA5AACAPAAAkDVaAJA5WgCQPFq7CJBKWpNYgEoAAJBJWrsIgEkAAJBHWpNYgEcAAJBIWoGdQIBIAM5g/y8A\");\n",
       "            });\n",
       "        }\n",
       "        if (typeof require === 'undefined') {\n",
       "            setTimeout(midiPlayerDiv2343_play, 2000);\n",
       "        } else {\n",
       "            midiPlayerDiv2343_play();\n",
       "        }\n",
       "        </script>"
      ],
      "text/plain": [
       "<IPython.core.display.HTML object>"
      ]
     },
     "metadata": {},
     "output_type": "display_data"
    },
    {
     "data": {
      "image/png": "[encoded data removed]",
      "text/plain": [
       "<IPython.core.display.Image object>"
      ]
     },
     "execution_count": 20,
     "metadata": {},
     "output_type": "execute_result"
    }
   ],
   "source": [
    "notes = \"!F r/0.5 d5/0.5*green c#5/0.5*red b4/0.5*green c5/2\"\n",
    "music(info, notes, True, False)\n",
    "music(info, notes, False, False)"
   ]
  },
  {
   "cell_type": "markdown",
   "metadata": {},
   "source": [
    "*An enclosure: Here the chromatic Db and B enclose the C.* \n",
    "\n",
    "*The D acts as an approach to the enclosure.*"
   ]
  },
  {
   "cell_type": "markdown",
   "metadata": {},
   "source": [
    "## Use Repitition and Sequencing\n",
    "A good-sounding melodic idea can be repeated immediately, or later in the solo. When \n",
    "the repeated melody shape is transposed to go with a different chord or scale, this is \n",
    "called “sequencing”. Repetition need not recurr on the same part of the beat, as the first \n",
    "example below shows. For good examples, refer to some Thelonious Monk compositions, \n",
    "such as “Straight, No Chaser” or “Rhythm-ning”."
   ]
  },
  {
   "cell_type": "code",
   "execution_count": 21,
   "metadata": {},
   "outputs": [
    {
     "name": "stdout",
     "output_type": "stream",
     "text": [
      "rest 0.0\n",
      "B 0.75\n",
      "C 1.0\n",
      "D 1.75\n",
      "B 2.0\n",
      "C 2.75\n",
      "D 3.0\n",
      "B 3.75\n"
     ]
    },
    {
     "data": {
      "text/html": [
       "\n",
       "        <div id=\"midiPlayerDiv2490\"></div>\n",
       "        <link rel=\"stylesheet\" href=\"https://cuthbertLab.github.io/music21j/css/m21.css\">\n",
       "        \n",
       "        <script\n",
       "        src=\"https://cdnjs.cloudflare.com/ajax/libs/require.js/2.3.6/require.min.js\"\n",
       "        ></script>\n",
       "    \n",
       "        <script>\n",
       "        function midiPlayerDiv2490_play() {\n",
       "            const rq = require.config({\n",
       "                paths: {\n",
       "                    'music21': 'https://cuthbertLab.github.io/music21j/releases/music21.debug',\n",
       "                }\n",
       "            });\n",
       "            rq(['music21'], function(music21) {\n",
       "                mp = new music21.miditools.MidiPlayer();\n",
       "                mp.addPlayer(\"#midiPlayerDiv2490\");\n",
       "                mp.base64Load(\"data:audio/midi;base64,TVRoZAAAAAYAAQACJ2BNVHJrAAAAGgD/UQMHoSAA/1kCAAAA/1gEBAIYCM5g/y8ATVRyawAAAG8A/wMAAOAAQM5ggDUAAIA5AACAPAAAkDVaAJA5WgCQPFq7CJBHWpNYgEcAAJBIWrsIgEgAAJBKWpNYgEoAAJBHWrsIgEcAAJBIWpNYgEgAAJBKWrsIgEoAAJBHWpNYgEcAAJBIWqcwgEgAzmD/LwA=\");\n",
       "            });\n",
       "        }\n",
       "        if (typeof require === 'undefined') {\n",
       "            setTimeout(midiPlayerDiv2490_play, 2000);\n",
       "        } else {\n",
       "            midiPlayerDiv2490_play();\n",
       "        }\n",
       "        </script>"
      ],
      "text/plain": [
       "<IPython.core.display.HTML object>"
      ]
     },
     "metadata": {},
     "output_type": "display_data"
    },
    {
     "data": {
      "image/png": "[encoded data removed]",
      "text/plain": [
       "<IPython.core.display.Image object>"
      ]
     },
     "execution_count": 21,
     "metadata": {},
     "output_type": "execute_result"
    }
   ],
   "source": [
    "notes = \"!F r/0.5 b4/0.5*green c5/0.5 d5/0.5*green b4/0.5*green c5/0.5 d5/0.5*green b4/0.5*green c5/0.5\"\n",
    "music(info, notes, True, False)\n",
    "music(info, notes, False, False)"
   ]
  },
  {
   "cell_type": "markdown",
   "metadata": {},
   "source": [
    "*Repitition*"
   ]
  },
  {
   "cell_type": "code",
   "execution_count": 22,
   "metadata": {},
   "outputs": [
    {
     "name": "stdout",
     "output_type": "stream",
     "text": [
      "rest 0.0\n",
      "D 0.75\n",
      "B 1.0\n",
      "C 1.75\n",
      "E- 2.25\n",
      "E- 2.25\n",
      "D- 2.75\n",
      "E- 2.25\n",
      "D 3.0\n"
     ]
    },
    {
     "data": {
      "text/html": [
       "\n",
       "        <div id=\"midiPlayerDiv2671\"></div>\n",
       "        <link rel=\"stylesheet\" href=\"https://cuthbertLab.github.io/music21j/css/m21.css\">\n",
       "        \n",
       "        <script\n",
       "        src=\"https://cdnjs.cloudflare.com/ajax/libs/require.js/2.3.6/require.min.js\"\n",
       "        ></script>\n",
       "    \n",
       "        <script>\n",
       "        function midiPlayerDiv2671_play() {\n",
       "            const rq = require.config({\n",
       "                paths: {\n",
       "                    'music21': 'https://cuthbertLab.github.io/music21j/releases/music21.debug',\n",
       "                }\n",
       "            });\n",
       "            rq(['music21'], function(music21) {\n",
       "                mp = new music21.miditools.MidiPlayer();\n",
       "                mp.addPlayer(\"#midiPlayerDiv2671\");\n",
       "                mp.base64Load(\"data:audio/midi;base64,TVRoZAAAAAYAAQACJ2BNVHJrAAAAGgD/UQMHoSAA/1kCAAAA/1gEBAIYCM5g/y8ATVRyawAAAIcA/wMAAOAAQM5ggDUAAIA5AACAPAAAkDVaAJA5WgCQPFq7CJBKWpNYgEoAAJBHWrsIgEcAAJBIWpNYgEgAk1iAKgAAgC4AAIAxAACANAAAkCpaAJAuWgCQMVoAkDRaAJBLWqcwgEsAAJBJWpNYgEkAAJBKWrsIgEoAAJBLWqcwgEsAzmD/LwA=\");\n",
       "            });\n",
       "        }\n",
       "        if (typeof require === 'undefined') {\n",
       "            setTimeout(midiPlayerDiv2671_play, 2000);\n",
       "        } else {\n",
       "            midiPlayerDiv2671_play();\n",
       "        }\n",
       "        </script>"
      ],
      "text/plain": [
       "<IPython.core.display.HTML object>"
      ]
     },
     "metadata": {},
     "output_type": "display_data"
    },
    {
     "data": {
      "image/png": "[encoded data removed]",
      "text/plain": [
       "<IPython.core.display.Image object>"
      ]
     },
     "execution_count": 22,
     "metadata": {},
     "output_type": "execute_result"
    }
   ],
   "source": [
    "notes = \"!F r/0.5 d5/0.5*green b4/0.5*green c5/0.5 !G-7 e-5/0.5*green d-5/0.5 d5/0.5*green e-5/0.5*green\"\n",
    "music(info, notes, True, False)\n",
    "music(info, notes, False, False)"
   ]
  },
  {
   "cell_type": "markdown",
   "metadata": {},
   "source": [
    "*Sequencing: The repeated figure is sequenced a half-step higher*"
   ]
  },
  {
   "cell_type": "markdown",
   "metadata": {},
   "source": [
    "## Quote Freely\n",
    "It is common to play fragments of other standard tunes or well-known solos within ones \n",
    "own solo. This usually produces a surprising effect and is considered a form of humor."
   ]
  },
  {
   "cell_type": "code",
   "execution_count": 23,
   "metadata": {},
   "outputs": [
    {
     "name": "stdout",
     "output_type": "stream",
     "text": [
      "D 0.0\n",
      "C 0.75\n",
      "E 1.0\n",
      "G 1.75\n",
      "D# 4.0\n",
      "C# 4.75\n",
      "F 5.0\n",
      "G# 5.75\n"
     ]
    },
    {
     "data": {
      "text/html": [
       "\n",
       "        <div id=\"midiPlayerDiv2859\"></div>\n",
       "        <link rel=\"stylesheet\" href=\"https://cuthbertLab.github.io/music21j/css/m21.css\">\n",
       "        \n",
       "        <script\n",
       "        src=\"https://cdnjs.cloudflare.com/ajax/libs/require.js/2.3.6/require.min.js\"\n",
       "        ></script>\n",
       "    \n",
       "        <script>\n",
       "        function midiPlayerDiv2859_play() {\n",
       "            const rq = require.config({\n",
       "                paths: {\n",
       "                    'music21': 'https://cuthbertLab.github.io/music21j/releases/music21.debug',\n",
       "                }\n",
       "            });\n",
       "            rq(['music21'], function(music21) {\n",
       "                mp = new music21.miditools.MidiPlayer();\n",
       "                mp.addPlayer(\"#midiPlayerDiv2859\");\n",
       "                mp.base64Load(\"data:audio/midi;base64,TVRoZAAAAAYAAQACJ2BNVHJrAAAAGgD/UQMHoSAA/1kCAAAA/1gEBAIYCM5g/y8ATVRyawAAAJoA/wMAAOAAQM5ggDAAAIA0AACANwAAkDBaAJA0WgCQN1oAkEpauwiASgAAkEhak1iASAAAkEBauwiAQAAAkENak1iAQwAAkEdagZ1AgEcAAIAxAACANQAAgDgAAJAxWgCQNVoAkDhaAJBLWrsIgEsAAJBJWpNYgEkAAJBBWrsIgEEAAJBEWpNYgEQAAJBIWoGdQIBIAM5g/y8A\");\n",
       "            });\n",
       "        }\n",
       "        if (typeof require === 'undefined') {\n",
       "            setTimeout(midiPlayerDiv2859_play, 2000);\n",
       "        } else {\n",
       "            midiPlayerDiv2859_play();\n",
       "        }\n",
       "        </script>"
      ],
      "text/plain": [
       "<IPython.core.display.HTML object>"
      ]
     },
     "metadata": {},
     "output_type": "display_data"
    },
    {
     "data": {
      "image/png": "[encoded data removed]",
      "text/plain": [
       "<IPython.core.display.Image object>"
      ]
     },
     "execution_count": 23,
     "metadata": {},
     "output_type": "execute_result"
    }
   ],
   "source": [
    "notes = \"!C d5/0.5*green c5/0.5 e4/0.5 g4/0.5 b4/2*green !C# d#5/0.5*green c#5/0.5 f4/0.5 g#4/0.5 c5/2*green\"\n",
    "music(info, notes, True, False)\n",
    "music(info, notes, False, False)"
   ]
  },
  {
   "cell_type": "markdown",
   "metadata": {},
   "source": [
    "*Quoting “Honeysuckle Rose”, with sequencing*"
   ]
  },
  {
   "cell_type": "markdown",
   "metadata": {},
   "source": [
    "## Repeat Intervals\n",
    "Below the entire melodic segment is constructed from intervals of a fourth. The fourth in \n",
    "particular tends to give the melody an expansive sound, perhaps because the overtones \n",
    "represented span a larger part of the spectrum than do, say, thirds and fifths."
   ]
  },
  {
   "cell_type": "code",
   "execution_count": 24,
   "metadata": {},
   "outputs": [
    {
     "name": "stdout",
     "output_type": "stream",
     "text": [
      "rest 0.0\n",
      "E 0.75\n",
      "A 1.0\n",
      "D 1.75\n",
      "G 2.0\n",
      "C 2.75\n",
      "F 3.0\n"
     ]
    },
    {
     "data": {
      "text/html": [
       "\n",
       "        <div id=\"midiPlayerDiv3054\"></div>\n",
       "        <link rel=\"stylesheet\" href=\"https://cuthbertLab.github.io/music21j/css/m21.css\">\n",
       "        \n",
       "        <script\n",
       "        src=\"https://cdnjs.cloudflare.com/ajax/libs/require.js/2.3.6/require.min.js\"\n",
       "        ></script>\n",
       "    \n",
       "        <script>\n",
       "        function midiPlayerDiv3054_play() {\n",
       "            const rq = require.config({\n",
       "                paths: {\n",
       "                    'music21': 'https://cuthbertLab.github.io/music21j/releases/music21.debug',\n",
       "                }\n",
       "            });\n",
       "            rq(['music21'], function(music21) {\n",
       "                mp = new music21.miditools.MidiPlayer();\n",
       "                mp.addPlayer(\"#midiPlayerDiv3054\");\n",
       "                mp.base64Load(\"data:audio/midi;base64,TVRoZAAAAAYAAQACJ2BNVHJrAAAAGgD/UQMHoSAA/1kCAAAA/1gEBAIYCM5g/y8ATVRyawAAAGYA/wMAAOAAQM5ggDAAAIA0AACANwAAkDBaAJA0WgCQN1q7CJBAWpNYgEAAAJBFWrsIgEUAAJBKWpNYgEoAAJBDWrsIgEMAAJBIWpNYgEgAAJBNWrsIgE0AAJBMWqcwgEwAzmD/LwA=\");\n",
       "            });\n",
       "        }\n",
       "        if (typeof require === 'undefined') {\n",
       "            setTimeout(midiPlayerDiv3054_play, 2000);\n",
       "        } else {\n",
       "            midiPlayerDiv3054_play();\n",
       "        }\n",
       "        </script>"
      ],
      "text/plain": [
       "<IPython.core.display.HTML object>"
      ]
     },
     "metadata": {},
     "output_type": "display_data"
    },
    {
     "data": {
      "image/png": "[encoded data removed]",
      "text/plain": [
       "<IPython.core.display.Image object>"
      ]
     },
     "execution_count": 24,
     "metadata": {},
     "output_type": "execute_result"
    }
   ],
   "source": [
    "notes = \"!C r/0.5 e4/0.5 a4/0.5*green d5/0.5*green g4/0.5 c5/0.5 f5/0.5*blue e5/0.5\"\n",
    "music(info, notes, True, False)\n",
    "music(info, notes, False, False)"
   ]
  },
  {
   "cell_type": "markdown",
   "metadata": {},
   "source": [
    "*Quartal melody*"
   ]
  },
  {
   "cell_type": "markdown",
   "metadata": {},
   "source": [
    "## Vary Durations\n",
    "The same pitches played over notes of different durations can provide nuance."
   ]
  },
  {
   "cell_type": "code",
   "execution_count": 25,
   "metadata": {},
   "outputs": [
    {
     "name": "stdout",
     "output_type": "stream",
     "text": [
      "D 0.0\n",
      "E 0.75\n"
     ]
    },
    {
     "data": {
      "text/html": [
       "\n",
       "        <div id=\"midiPlayerDiv3225\"></div>\n",
       "        <link rel=\"stylesheet\" href=\"https://cuthbertLab.github.io/music21j/css/m21.css\">\n",
       "        \n",
       "        <script\n",
       "        src=\"https://cdnjs.cloudflare.com/ajax/libs/require.js/2.3.6/require.min.js\"\n",
       "        ></script>\n",
       "    \n",
       "        <script>\n",
       "        function midiPlayerDiv3225_play() {\n",
       "            const rq = require.config({\n",
       "                paths: {\n",
       "                    'music21': 'https://cuthbertLab.github.io/music21j/releases/music21.debug',\n",
       "                }\n",
       "            });\n",
       "            rq(['music21'], function(music21) {\n",
       "                mp = new music21.miditools.MidiPlayer();\n",
       "                mp.addPlayer(\"#midiPlayerDiv3225\");\n",
       "                mp.base64Load(\"data:audio/midi;base64,TVRoZAAAAAYAAQACJ2BNVHJrAAAAGgD/UQMHoSAA/1kCAAAA/1gEBAIYCM5g/y8ATVRyawAAAHcA/wMAAOAAQM5ggDUAAIA5AACAPAAAkDVaAJA5WgCQPFoAkD5auwiAPgAAkEBak1iAQAAAkEFazmCAQQAAkD5amiCAPgAAkEBamiCAQAAAkEFamiCAQQAAkD5amiCAPgAAkEBamiCAQAAAkEFamiCAQQDOYP8vAA==\");\n",
       "            });\n",
       "        }\n",
       "        if (typeof require === 'undefined') {\n",
       "            setTimeout(midiPlayerDiv3225_play, 2000);\n",
       "        } else {\n",
       "            midiPlayerDiv3225_play();\n",
       "        }\n",
       "        </script>"
      ],
      "text/plain": [
       "<IPython.core.display.HTML object>"
      ]
     },
     "metadata": {},
     "output_type": "display_data"
    },
    {
     "data": {
      "image/png": "[encoded data removed]",
      "text/plain": [
       "<IPython.core.display.Image object>"
      ]
     },
     "execution_count": 25,
     "metadata": {},
     "output_type": "execute_result"
    }
   ],
   "source": [
    "notes = \"!F d4/0.5*green e4/0.5*green f4/1 d4/0.3*green e4/0.3*green f4/0.3 d4/0.3*green e4/0.3*green f4/0.3\"\n",
    "music(info, notes, True, False)\n",
    "music(info, notes, False, False)"
   ]
  },
  {
   "cell_type": "markdown",
   "metadata": {},
   "source": [
    "*Varying durations*"
   ]
  },
  {
   "cell_type": "markdown",
   "metadata": {},
   "source": [
    "## Use Turns\n",
    "Consider playing the first figure below instead of the second. The sixteenth notes \n",
    "comprise a “turn” ornament."
   ]
  },
  {
   "cell_type": "code",
   "execution_count": 26,
   "metadata": {},
   "outputs": [
    {
     "name": "stdout",
     "output_type": "stream",
     "text": [
      "C 0.0\n",
      "B 1.25\n",
      "B 1.25\n",
      "C 1.75\n"
     ]
    },
    {
     "data": {
      "text/html": [
       "\n",
       "        <div id=\"midiPlayerDiv3391\"></div>\n",
       "        <link rel=\"stylesheet\" href=\"https://cuthbertLab.github.io/music21j/css/m21.css\">\n",
       "        \n",
       "        <script\n",
       "        src=\"https://cdnjs.cloudflare.com/ajax/libs/require.js/2.3.6/require.min.js\"\n",
       "        ></script>\n",
       "    \n",
       "        <script>\n",
       "        function midiPlayerDiv3391_play() {\n",
       "            const rq = require.config({\n",
       "                paths: {\n",
       "                    'music21': 'https://cuthbertLab.github.io/music21j/releases/music21.debug',\n",
       "                }\n",
       "            });\n",
       "            rq(['music21'], function(music21) {\n",
       "                mp = new music21.miditools.MidiPlayer();\n",
       "                mp.addPlayer(\"#midiPlayerDiv3391\");\n",
       "                mp.base64Load(\"data:audio/midi;base64,TVRoZAAAAAYAAQACJ2BNVHJrAAAAGgD/UQMHoSAA/1kCAAAA/1gEBAIYCM5g/y8ATVRyawAAAF0A/wMAAOAAQM5ggDUAAIA5AACAPAAAkDVaAJA5WgCQPFoAkEhauwiASAAAkEpak1iASgAAkEhak1iASAAAkEdapzCARwAAkEhak1iASAAAkEVagZ1AgEUAzmD/LwA=\");\n",
       "            });\n",
       "        }\n",
       "        if (typeof require === 'undefined') {\n",
       "            setTimeout(midiPlayerDiv3391_play, 2000);\n",
       "        } else {\n",
       "            midiPlayerDiv3391_play();\n",
       "        }\n",
       "        </script>"
      ],
      "text/plain": [
       "<IPython.core.display.HTML object>"
      ]
     },
     "metadata": {},
     "output_type": "display_data"
    },
    {
     "data": {
      "image/png": "[encoded data removed]",
      "text/plain": [
       "<IPython.core.display.Image object>"
      ]
     },
     "execution_count": 26,
     "metadata": {},
     "output_type": "execute_result"
    }
   ],
   "source": [
    "notes = \"!F c5/0.5 d5/0.25*green c5/0.25 b4/0.5*green c5/0.5 a4/2\"\n",
    "music(info, notes, True, False)\n",
    "music(info, notes, False, False)"
   ]
  },
  {
   "cell_type": "markdown",
   "metadata": {},
   "source": [
    "## Start Most Phrases *Off* The Beat\n",
    "Syncopation is an important ingredient in jazz. It acts to keep the melody moving \n",
    "forward. Consider starting phrases a half-beat before or after, or maybe two beats after, \n",
    "the start of the measure. Below we have replaced ordinary phrases in the first measure \n",
    "with similar syncopated ones in the second."
   ]
  },
  {
   "cell_type": "code",
   "execution_count": 27,
   "metadata": {},
   "outputs": [
    {
     "name": "stdout",
     "output_type": "stream",
     "text": [
      "C 1.0\n",
      "B 1.75\n",
      "rest 4.0\n",
      "D 4.75\n",
      "C 5.0\n",
      "B 5.75\n"
     ]
    },
    {
     "data": {
      "text/html": [
       "\n",
       "        <div id=\"midiPlayerDiv3548\"></div>\n",
       "        <link rel=\"stylesheet\" href=\"https://cuthbertLab.github.io/music21j/css/m21.css\">\n",
       "        \n",
       "        <script\n",
       "        src=\"https://cdnjs.cloudflare.com/ajax/libs/require.js/2.3.6/require.min.js\"\n",
       "        ></script>\n",
       "    \n",
       "        <script>\n",
       "        function midiPlayerDiv3548_play() {\n",
       "            const rq = require.config({\n",
       "                paths: {\n",
       "                    'music21': 'https://cuthbertLab.github.io/music21j/releases/music21.debug',\n",
       "                }\n",
       "            });\n",
       "            rq(['music21'], function(music21) {\n",
       "                mp = new music21.miditools.MidiPlayer();\n",
       "                mp.addPlayer(\"#midiPlayerDiv3548\");\n",
       "                mp.base64Load(\"data:audio/midi;base64,TVRoZAAAAAYAAQACJ2BNVHJrAAAAGgD/UQMHoSAA/1kCAAAA/1gEBAIYCM5g/y8ATVRyawAAAHEA/wMAAOAAQM5ggDUAAIA5AACAPAAAkDVaAJA5WgCQPFoAkEpazmCASgAAkEhauwiASAAAkEdak1iARwAAkEVagZ1AgEUAuwiQSlqTWIBKAACQSFq7CIBIAACQR1qTWIBHAACQRVqBnUCARQDOYP8vAA==\");\n",
       "            });\n",
       "        }\n",
       "        if (typeof require === 'undefined') {\n",
       "            setTimeout(midiPlayerDiv3548_play, 2000);\n",
       "        } else {\n",
       "            midiPlayerDiv3548_play();\n",
       "        }\n",
       "        </script>"
      ],
      "text/plain": [
       "<IPython.core.display.HTML object>"
      ]
     },
     "metadata": {},
     "output_type": "display_data"
    },
    {
     "data": {
      "image/png": "[encoded data removed]",
      "text/plain": [
       "<IPython.core.display.Image object>"
      ]
     },
     "execution_count": 27,
     "metadata": {},
     "output_type": "execute_result"
    }
   ],
   "source": [
    "notes = \"!F d5/1*green c5/0.5 b4/0.5*green a4/2 r/0.5 d5/0.5*green c5/0.5 b4/0.5*green a4/2\"\n",
    "music(info, notes, True, False)\n",
    "music(info, notes, False, False)"
   ]
  },
  {
   "cell_type": "code",
   "execution_count": 28,
   "metadata": {},
   "outputs": [
    {
     "name": "stdout",
     "output_type": "stream",
     "text": [
      "C 1.0\n",
      "B 1.75\n",
      "rest 3.0\n",
      "D 3.75\n",
      "C 4.0\n",
      "B 4.75\n"
     ]
    },
    {
     "data": {
      "text/html": [
       "\n",
       "        <div id=\"midiPlayerDiv3730\"></div>\n",
       "        <link rel=\"stylesheet\" href=\"https://cuthbertLab.github.io/music21j/css/m21.css\">\n",
       "        \n",
       "        <script\n",
       "        src=\"https://cdnjs.cloudflare.com/ajax/libs/require.js/2.3.6/require.min.js\"\n",
       "        ></script>\n",
       "    \n",
       "        <script>\n",
       "        function midiPlayerDiv3730_play() {\n",
       "            const rq = require.config({\n",
       "                paths: {\n",
       "                    'music21': 'https://cuthbertLab.github.io/music21j/releases/music21.debug',\n",
       "                }\n",
       "            });\n",
       "            rq(['music21'], function(music21) {\n",
       "                mp = new music21.miditools.MidiPlayer();\n",
       "                mp.addPlayer(\"#midiPlayerDiv3730\");\n",
       "                mp.base64Load(\"data:audio/midi;base64,TVRoZAAAAAYAAQACJ2BNVHJrAAAAGgD/UQMHoSAA/1kCAAAA/1gEBAIYCM5g/y8ATVRyawAAAHAA/wMAAOAAQM5ggDUAAIA5AACAPAAAkDVaAJA5WgCQPFoAkEpazmCASgAAkEhauwiASAAAkEdak1iARwAAkEVazmCARQC7CJBKWpNYgEoAAJBIWrsIgEgAAJBHWpNYgEcAAJBFWoGdQIBFAM5g/y8A\");\n",
       "            });\n",
       "        }\n",
       "        if (typeof require === 'undefined') {\n",
       "            setTimeout(midiPlayerDiv3730_play, 2000);\n",
       "        } else {\n",
       "            midiPlayerDiv3730_play();\n",
       "        }\n",
       "        </script>"
      ],
      "text/plain": [
       "<IPython.core.display.HTML object>"
      ]
     },
     "metadata": {},
     "output_type": "display_data"
    },
    {
     "data": {
      "image/png": "[encoded data removed]",
      "text/plain": [
       "<IPython.core.display.Image object>"
      ]
     },
     "execution_count": 28,
     "metadata": {},
     "output_type": "execute_result"
    }
   ],
   "source": [
    "notes = \"!F d5/1*green c5/0.5 b4/0.5*green a4/1 r/0.5 d5/0.5*green c5/0.5 b4/0.5*green a4/2\"\n",
    "music(info, notes, True, False)\n",
    "music(info, notes, False, False)"
   ]
  },
  {
   "cell_type": "markdown",
   "metadata": {},
   "source": [
    "*Starting phrases off the beat*"
   ]
  },
  {
   "cell_type": "markdown",
   "metadata": {},
   "source": [
    "## Use Your Imagination\n",
    "We have provided a small set of melodic improvisation ideas here. You should \n",
    "experiment with variations on these ideas for yourself and try to invent new ones. You \n",
    "can bring in ideas from other genres as well. \n",
    "\n",
    "Remember Duke Ellington’s famous words: “If it sounds good, it is good.” "
   ]
  },
  {
   "cell_type": "markdown",
   "metadata": {},
   "source": [
    "## An Extended Example\n",
    "Below, I have constructed a solo for the first half of “Here’s that Rainy Day”, by Jimmy \n",
    "van Heusen. How many of the techniques mentioned here can you spot?"
   ]
  },
  {
   "cell_type": "code",
   "execution_count": 7,
   "metadata": {},
   "outputs": [
    {
     "data": {
      "text/html": [
       "\n",
       "        <div id=\"midiPlayerDiv1019\"></div>\n",
       "        <link rel=\"stylesheet\" href=\"https://cuthbertLab.github.io/music21j/css/m21.css\">\n",
       "        \n",
       "        <script\n",
       "        src=\"https://cdnjs.cloudflare.com/ajax/libs/require.js/2.3.6/require.min.js\"\n",
       "        ></script>\n",
       "    \n",
       "        <script>\n",
       "        function midiPlayerDiv1019_play() {\n",
       "            const rq = require.config({\n",
       "                paths: {\n",
       "                    'music21': 'https://cuthbertLab.github.io/music21j/releases/music21.debug',\n",
       "                }\n",
       "            });\n",
       "            rq(['music21'], function(music21) {\n",
       "                mp = new music21.miditools.MidiPlayer();\n",
       "                mp.addPlayer(\"#midiPlayerDiv1019\");\n",
       "                mp.base64Load(\"data:audio/midi;base64,TVRoZAAAAAYAAQACJ2BNVHJrAAAAGgD/UQMHoSAA/1kCAAAA/1gEBAIYCM5g/y8ATVRyawAABRYA/wMAAOAAQM5ggDAAAIA0AACANwAAgDsAAJAwWgCQNFoAkDdaAJA7WqcwkEpapzCASgAAkEdapzCARwAAkENapzCAQwAAkEBagZ1AgEAAAIAzAACANwAAgDoAAIA9AACQM1oAkDdaAJA6WgCQPVoAkEFapzCAQQAAkENapzCAQwAAkEZapzCARgAAkEhapzCASAAAkEtapzCASwAAkE9apzCATwAAkE1azmCATQAAgCwAAIAwAACAMwAAgDcAAJAsWgCQMFoAkDNaAJA3WgCQT1r2EIBPAACQUFqTWIBQAACQT1qTWIBPAACQTVr2EIBNAACQS1qnMIBLAACAMQAAgDUAAIA4AACAPAAAkDFaAJA1WgCQOFoAkDxaAJBNWoHsIIBNAKcwkEhapzCASAAAgDIAAIA1AACAOQAAgDwAAJAyWgCQNVoAkDlaAJA8WgCQSlrOYIBKAACQTFrOYIBMAACQTVr2EIBNAACQTFqnMIBMAACAKwAAgC8AAIAyAACANQAAkCtaAJAvWgCQMloAkDVaAJBKWpoggEoAAJBMWpoggEwAAJBNWpoggE0AAJBQWs5ggFAAAJBSWqcwgFIAAJBQWqcwgFAAAJBPWqcwgE8AAJBNWqcwgE0AAIAwAACANAAAgDcAAIA7AACQMFoAkDRaAJA3WgCQO1oAkE9agewggE8AzmCAKwAAgC4AAIAyAACANQAAkCtaAJAuWgCQMloAkDVaAJBRWqcwgFEAAJBPWqcwgE8AAJBNWqcwgE0AAJBMWqcwgEwAAIAwAACANAAAgDcAAIA6AACQMFoAkDRaAJA3WgCQOloAkEla9hCASQAAkEZapzCARgAAgCkAAIAsAACAMAAAgDMAAJApWgCQLFoAkDBaAJAzWgCQRFqBnUCARAAAkENagZ1AgEMAAIAuAACAMgAAgDUAAIA4AACQLloAkDJaAJA1WgCQOFoAkEFapzCAQQAAkEdapzCARwAAkEBapzCAQAAAkERapzCARAAAkENa9hCAQwAAkEFapzCAQQAAgDMAAIA3AACAOgAAgD4AAJAzWgCQN1oAkDpaAJA+WgCQQ1rOYIBDAACQRlqnMIBGAACQSlqnMIBKAACQTVqnMIBNAACQS1rOYIBLAACQSlqnMIBKAACALAAAgDAAAIAzAACANwAAkCxaAJAwWgCQM1oAkDdaAJBIWoGdQIBIAKcwkEtapzCASwAAkEpapzCASgAAkEhapzCASAAAgDIAAIA1AACAOQAAgDwAAJAyWgCQNVoAkDlaAJA8WgCQR1qnMIBHAACQSlqnMIBKAACQSFrOYIBIAACQRVqaIIBFAACQQ1qaIIBDAACQQVqaIIBBAACQSFrOYIBIAACAKwAAgC8AAIAyAACANQAAkCtaAJAvWgCQMloAkDVaAJBHWs5ggEcAAJBKWqcwgEoAAJBMWqcwgEwAAJBKWs5ggEoAAJBHWqcwgEcAAJBEWqcwgEQAAIA0AACANwAAgDsAAIA+AACQNFoAkDdaAJA7WgCQPloAkENa9hCAQwAAkEBapzCAQAAAgC0AAIAxAACANAAAgDcAAJAtWgCQMVoAkDRaAJA3WgCQPVqnMIA9AACQRVrOYIBFAACQSFqnMIBIAACAMgAAgDUAAIA5AACAPAAAkDJaAJA1WgCQOVoAkDxaAJBMWs5ggEwAAJBIWqcwgEgAAJBFWqcwgEUAAJBKWqcwgEoAAJBHWs5ggEcAzmD/LwA=\");\n",
       "            });\n",
       "        }\n",
       "        if (typeof require === 'undefined') {\n",
       "            setTimeout(midiPlayerDiv1019_play, 2000);\n",
       "        } else {\n",
       "            midiPlayerDiv1019_play();\n",
       "        }\n",
       "        </script>"
      ],
      "text/plain": [
       "<IPython.core.display.HTML object>"
      ]
     },
     "metadata": {},
     "output_type": "display_data"
    },
    {
     "data": {
      "image/png": "[encoded data removed]",
      "text/plain": [
       "<IPython.core.display.Image object>"
      ]
     },
     "execution_count": 7,
     "metadata": {},
     "output_type": "execute_result"
    }
   ],
   "source": [
    "notes = \"!Cmaj7 r/0.5 d5/0.5*green b4/0.5 g4/0.5 e4/2 !E-7 f4/0.5*green g4/0.5 b-4/0.5 c5/0.5*green e-5/0.5 g5/0.5 f5/1*green !A-maj7 g5/1{ g5/0.5} a-5/0.25 g5/0.25 f5/1*green{ f5/0.5*green} e-5/0.5 !D-maj7 f5/3 r/0.5 c5/0.5 ^\"\n",
    "notes += \" !Dm7 d5/1 e5/1*green f5/1{ f5/0.5} e5/0.5*green !G7 d5/0.3 e5/0.3*green f5/0.3 a-5/1*green b-5/0.5*green a-5/0.5*green g5/0.5 f5/0.5 !Cmaj7 g5/3 r/1 !Gm7 A5/0.5*green g5/0.5 f5/0.5 e5/0.5 !C7 d-5/1*green{ d-5/0.5*green} b-4/0.5 ^\"\n",
    "notes += \" !Fm7 a-4/2 g4/2 !B-7 f4/0.5 b4/0.5*green e4/0.5*green a-4/0.5 g4/1*green{ g4/0.5*green} f4/0.5 !E-maj7 g4/1 b-4/0.5 d5/0.5 f5/0.5*green e-5/0.5{ e-5/0.5} d5/0.5 !A-maj7 c5/2 r/0.5 e-5/0.5 d5/0.5*green c5/0.5 ^\"\n",
    "notes += \" !Dm7 b4/0.5*green d5/0.5 c5/1 a4/0.3 g4/0.3*green f4/0.3 c5/1 !G7 b4/1 d5/0.5 e5/0.5*green d5/1 b4/0.5 a-4/0.5*green !Em7 g4/1{ g4/0.5} e4/0.5 !A7 c#4/0.5 a4/0.5{ a4/0.5} c5/0.5*green !Dm7 e5/1*green c5/0.5 a4/0.5 d5/0.5 b4/0.5{ b4/0.5} r/0.5\"\n",
    "music(info, notes, True, False)\n",
    "music(info, notes, False, False)\n"
   ]
  },
  {
   "cell_type": "markdown",
   "metadata": {},
   "source": [
    "*A solo over a standard tune*"
   ]
  },
  {
   "cell_type": "markdown",
   "metadata": {},
   "source": [
    "## Appendix: Common Scale Choices for Common Chords\n",
    "| Chords | Scales | Example Chord | Example Scales |\n",
    "| :--- | :--- | :--- | :--- |\n",
    "| Major triad<br>Major sixth<br>Major 69 | Major | C = c e g<br>C6 = c e g a<br>C69 = c e g a d | c d e f g a b (avoid f) |\n",
    "| Major seventh<br>Major ninth<br>Major thirteenth | Major | CMaj7 = c e g b<br>CMaj9 = c e g b d<br> CMaj13 = c e g b d a | c d e f g a b (avoid f and c) |\n",
    "| Major seventh #11<br>Major ninth #11<br>Major thirteenth #11 | Lydian | CMajor7#11 = c e g b f#<br>CMaj7#11 = c e g b d f#<br>CMaj7#11 = c e g b d f# a | c d e f# g a b (avoid c) |\n",
    "| Minor triad<br>Minor sixth<br>Minor 69<br>Minor major seventh | Melodic minor | Cm = c eb g<br>Cm6 = c eb g a<br>Cm69 = c eb g a d<br>CmMaj7 = c eb g b | c d eb f g a b |\n",
    "| Minor seventh<br> Minor ninth | Dorian | Cm7 = c eb g bb<br>Cm7 = c eb g bb d | c d eb f g a bb |\n",
    "| Seventh<br>Ninth<br>Thirteenth | Mixolydian (dominant) | C7 = c e g bb<br>C9 = c e g bb d<br>C13 = c e g bb d a | c d e f g a bb c (avoid f) |\n",
    "| Seventh #11<br>Ninth #11<br>Thirteenth #11 | Lydian dominant | C7#11 = c e g bb f#<br>C9#11 = c e g bb d f#<br>C13#11 = c e g bb d f# a | c d e f# g a bb c |\n",
    "| Seventh sus4 (aka Eleventh) | Mixolydian | C7sus4 = c f g bb | c d e f g a bb c |\n",
    "| Seventh flat 9<br>Seventh sharp 9 | Diminished, up half-step | C7b9 = c e g bb db<br>C7#9 = c e g bb d# | db eb e f# g a bb c |\n",
    "| Seventh #5 #9 (aka Seventh alt) | Melodic minor, up half-step | C7#5#9 = c e g# bb d# | c# d# e f# g# bb c |\n",
    "| Minor seventh flat 5 | Melodic minor, up minor third | Cm7b5 = c eb gb bb | eb f gb ab bb c d eb |\n",
    "| Diminished seventh | Diminished | Cdim7 = c eb gb a | c d eb f gb ab a b c |"
   ]
  }
 ],
 "metadata": {
  "kernelspec": {
   "display_name": "Python 3",
   "language": "python",
   "name": "python3"
  },
  "language_info": {
   "codemirror_mode": {
    "name": "ipython",
    "version": 3
   },
   "file_extension": ".py",
   "mimetype": "text/x-python",
   "name": "python",
   "nbconvert_exporter": "python",
   "pygments_lexer": "ipython3",
   "version": "3.12.0"
  }
 },
 "nbformat": 4,
 "nbformat_minor": 2
}
