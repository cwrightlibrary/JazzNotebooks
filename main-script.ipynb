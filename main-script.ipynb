{
 "cells": [
  {
   "cell_type": "code",
   "execution_count": 128,
   "metadata": {},
   "outputs": [],
   "source": [
    "from music21 import *\n",
    "from IPython.display import Image\n",
    "\n",
    "\n",
    "def music(notes: str, midi=False):\n",
    "    s = stream.Score()\n",
    "    part = stream.Part()\n",
    "    info_pos = []\n",
    "    for i in range(0, len(notes)):\n",
    "        if notes[i] == \"^\":\n",
    "            info_pos.append(i)\n",
    "    info_string = notes[info_pos[0] + 1: info_pos[1]]\n",
    "    info = info_string.split(\" \")\n",
    "    if info[0].lower == \"treble\":\n",
    "        part.append(clef.TrebleClef())\n",
    "    elif info[0].lower == \"bass\":\n",
    "        part.append(clef.BassClef())\n",
    "    elif info[0] == \"None\":\n",
    "        part.append(clef.NoClef())\n",
    "    keys = [[\"cb\", -7], [\"gb\", -6], [\"db\", -5], [\"ab\", -4], [\"eb\", -3], [\"bb\", -2], [\"f\", -1], [\"c\", 0], [\"g\", 1], [\"d\", 2], [\"a\", 3], [\"e\", 4], [\"b\", 5], [\"f#\", 6], [\"c#\", 7]]\n",
    "    for k in keys:\n",
    "        if info[1].lower() == k[0]:\n",
    "            part.append(key.KeySignature(k[1]))\n",
    "    part.append(meter.TimeSignature(info[2]))\n",
    "    notes = notes[info_pos[1] + 1:]\n",
    "\n",
    "    split_notes = notes.split(\" \")\n",
    "    for n in split_notes:\n",
    "        if n[0] == \"!\":\n",
    "            part.append(harmony.ChordSymbol(n[1:]))\n",
    "        elif n == \"^\":\n",
    "            part.append(layout.SystemLayout(isNew=True))\n",
    "        else:\n",
    "            is_chord = False\n",
    "            is_tie = \"none\"\n",
    "            note_and_length = n.split(\"/\")\n",
    "            if \"(\" in note_and_length[0]:\n",
    "                is_chord = True\n",
    "                chord_name = (\n",
    "                    note_and_length[0].replace(\"(\", \"\").replace(\")\", \"\").split(\"$\")\n",
    "                )\n",
    "            else:\n",
    "                note_name = note_and_length[0]\n",
    "            if \"{\" in note_and_length[1]:\n",
    "                is_tie = \"start\"\n",
    "                note_and_length[1] = note_and_length[1].replace(\"{\", \"\")\n",
    "            if \"}\" in note_and_length[1]:\n",
    "                is_tie = \"stop\"\n",
    "                note_and_length[1] = note_and_length[1].replace(\"}\", \"\")\n",
    "            if \"*\" in note_and_length[1]:\n",
    "                length_and_col = note_and_length[1].split(\"*\")\n",
    "                note_length = length_and_col[0]\n",
    "                note_col = length_and_col[1]\n",
    "            else:\n",
    "                note_length = note_and_length[1]\n",
    "                note_col = \"\"\n",
    "            if note_length in [\"0.3\", \".3\"]:\n",
    "                note_length = 0.333333333\n",
    "            else:\n",
    "                note_length = float(note_length)\n",
    "            if is_chord:\n",
    "                add_n = chord.Chord(chord_name, quarterLength=note_length)\n",
    "            else:\n",
    "                if note_name.lower() == \"r\":\n",
    "                    add_n = note.Rest(quarterLength=note_length)\n",
    "                elif note_name in [\"slash\", \"s\"]:\n",
    "                    add_n = note.Unpitched()\n",
    "                    add_n.notehead = \"slash\"\n",
    "                    add_n.stemDirection = \"noStem\"\n",
    "                    add_n.volume.velocity = 0\n",
    "                else:\n",
    "                    add_n = note.Note(note_name, quarterLength=note_length)\n",
    "            if is_tie != \"none\":\n",
    "                add_n.tie = tie.Tie(is_tie)\n",
    "            if note_col != \"\":\n",
    "                add_n.style.color = note_col\n",
    "\n",
    "            part.append(add_n)\n",
    "\n",
    "    s.append(tempo.MetronomeMark(number=120))\n",
    "    s.append(part)\n",
    "\n",
    "    swung_part = stream.Part()\n",
    "    # WORK ON TRIPLETS\n",
    "    if midi == True:\n",
    "        step = 0.0\n",
    "        for item in part:\n",
    "            if isinstance(item, note.Note) or isinstance(item, note.Rest):\n",
    "                if isinstance(item, note.Note):\n",
    "                    new_note = note.Note(item.pitch)\n",
    "                else:\n",
    "                    new_note = note.Rest()\n",
    "                if str(step)[-2:] == \".0\":\n",
    "                    if item.quarterLength == 0.5:\n",
    "                        new_note.quarterLength = (0.333333333 * 2)\n",
    "                        # print(\"add swing me\", item)\n",
    "                    elif item.quarterLength == 1.5:\n",
    "                        new_note.quarterLength = 1 + (0.333333333 * 2)\n",
    "                        # print(\"sub swing me\", item)\n",
    "                elif str(step)[-2:] == \".5\":\n",
    "                    if item.quarterLength == 0.5:\n",
    "                        new_note.quarterLength = 0.333333333\n",
    "                        # print(\"sub swing me\", item)\n",
    "                    elif item.quarterLength == 1.5:\n",
    "                        new_note.quarterLength = 1 + .333333333\n",
    "                        # print(\"sub swing me\", item)\n",
    "                swung_part.append(new_note)\n",
    "                step += item.quarterLength\n",
    "                # 0.333333333\n",
    "            else:\n",
    "                swung_part.append(item)\n",
    "        for item in swung_part:\n",
    "            if isinstance(item, note.Note) or isinstance(item, note.Rest):\n",
    "                print(float(item.quarterLength), item)\n",
    "        swung_s = stream.Stream()\n",
    "        swung_s.append(swung_part)\n",
    "        return swung_s.show(\"midi\")\n",
    "    else:\n",
    "        return Image(filename=s.write(\"musicxml.png\"))"
   ]
  },
  {
   "cell_type": "code",
   "execution_count": 130,
   "metadata": {},
   "outputs": [
    {
     "name": "stdout",
     "output_type": "stream",
     "text": [
      "1.0 <music21.note.Note B->\n",
      "0.6666666666666666 <music21.note.Rest 2/3ql>\n",
      "0.3333333333333333 <music21.note.Note G>\n",
      "1.0 <music21.note.Note A->\n",
      "1.0 <music21.note.Note C>\n",
      "1.0 <music21.note.Note E->\n",
      "0.6666666666666666 <music21.note.Note G>\n",
      "0.3333333333333333 <music21.note.Note F>\n",
      "0.6666666666666666 <music21.note.Note D>\n",
      "0.3333333333333333 <music21.note.Note C>\n",
      "0.6666666666666666 <music21.note.Note B->\n",
      "0.3333333333333333 <music21.note.Note A->\n",
      "0.6666666666666666 <music21.note.Note F>\n",
      "0.3333333333333333 <music21.note.Note F#>\n",
      "1.0 <music21.note.Note G>\n",
      "1.0 <music21.note.Rest quarter>\n",
      "0.6666666666666666 <music21.note.Rest 2/3ql>\n",
      "0.3333333333333333 <music21.note.Note F#>\n",
      "1.0 <music21.note.Note G>\n",
      "1.0 <music21.note.Note B->\n",
      "1.0 <music21.note.Note D>\n",
      "1.0 <music21.note.Note G>\n",
      "1.0 <music21.note.Note F>\n",
      "1.0 <music21.note.Note E->\n",
      "1.0 <music21.note.Note C>\n",
      "1.0 <music21.note.Note C>\n"
     ]
    },
    {
     "data": {
      "text/html": [
       "\n",
       "        <div id=\"midiPlayerDiv14697\"></div>\n",
       "        <link rel=\"stylesheet\" href=\"https://cuthbertLab.github.io/music21j/css/m21.css\">\n",
       "        \n",
       "        <script\n",
       "        src=\"https://cdnjs.cloudflare.com/ajax/libs/require.js/2.3.6/require.min.js\"\n",
       "        ></script>\n",
       "    \n",
       "        <script>\n",
       "        function midiPlayerDiv14697_play() {\n",
       "            const rq = require.config({\n",
       "                paths: {\n",
       "                    'music21': 'https://cuthbertLab.github.io/music21j/releases/music21.debug',\n",
       "                }\n",
       "            });\n",
       "            rq(['music21'], function(music21) {\n",
       "                mp = new music21.miditools.MidiPlayer();\n",
       "                mp.addPlayer(\"#midiPlayerDiv14697\");\n",
       "                mp.base64Load(\"data:audio/midi;base64,TVRoZAAAAAYAAQACJ2BNVHJrAAAAGgD/UQMHoSAA/1kC/QAA/1gEBAIYCM5g/y8ATVRyawAAAWAA/wMAAOAAQM5ggCkAAIAsAACAMAAAgDMAAJApWgCQLFoAkDBaAJAzWgCQRlrOYIBGALRAkENamiCAQwAAkERazmCARAAAkEhazmCASAAAkEtazmCASwAAgC4AAIAyAACANQAAgDgAAJAuWgCQMloAkDVaAJA4WgCQT1q0QIBPAACQTVqaIIBNAACQSlq0QIBKAACQSFqaIIBIAACQRlq0QIBGAACQRFqaIIBEAACQQVq0QIBBAACQQlqaIIBCAACAMwAAgDcAAIA6AACAPgAAkDNaAJA3WgCQOloAkD5aAJBDWs5ggEMAgYMgkEJamiCAQgAAkENazmCAQwAAkEZazmCARgAAkEpazmCASgAAgCwAAIAwAACAMwAAgDcAAJAsWgCQMFoAkDNaAJA3WgCQT1rOYIBPAACQTVrOYIBNAACQS1rOYIBLAACQSFrOYIBIAACQSFrOYIBIAM5g/y8A\");\n",
       "            });\n",
       "        }\n",
       "        if (typeof require === 'undefined') {\n",
       "            setTimeout(midiPlayerDiv14697_play, 2000);\n",
       "        } else {\n",
       "            midiPlayerDiv14697_play();\n",
       "        }\n",
       "        </script>"
      ],
      "text/plain": [
       "<IPython.core.display.HTML object>"
      ]
     },
     "metadata": {},
     "output_type": "display_data"
    },
    {
     "data": {
      "image/png": "[encoded data removed]",
      "text/plain": [
       "<IPython.core.display.Image object>"
      ]
     },
     "execution_count": 130,
     "metadata": {},
     "output_type": "execute_result"
    }
   ],
   "source": [
    "notes = \"^treble eb 4/4^!fm7 b-4/2 r/.5 g4/.5 a-4/.3 c5/.3 e-5/.3 !b-7 g5/.5 f5/.5 d5/.5 c5/.5 b-4/.5 a-4/.5 f4/.5 f#4/.5 !e-maj7 g4/1 r/1 r/.5 f#4/.5 g4/.3 b-4/.3 d5/.3 !a-maj7 g5/.5 f5/.5 e-5/.5 c5/.5{ c5/2}\"\n",
    "music(notes, True)\n",
    "music(notes)"
   ]
  },
  {
   "cell_type": "code",
   "execution_count": 129,
   "metadata": {},
   "outputs": [
    {
     "name": "stdout",
     "output_type": "stream",
     "text": [
      "0.6666666666666666 <music21.note.Note C>\n",
      "1.3333333333333333 <music21.note.Note E>\n",
      "0.6666666666666666 <music21.note.Note C>\n",
      "0.3333333333333333 <music21.note.Note B>\n",
      "0.6666666666666666 <music21.note.Rest 2/3ql>\n",
      "0.3333333333333333 <music21.note.Note E>\n",
      "0.6666666666666666 <music21.note.Note C>\n",
      "0.3333333333333333 <music21.note.Note E>\n",
      "0.6666666666666666 <music21.note.Note G>\n",
      "0.3333333333333333 <music21.note.Note B>\n",
      "1.0 <music21.note.Note C>\n"
     ]
    },
    {
     "data": {
      "text/html": [
       "\n",
       "        <div id=\"midiPlayerDiv14359\"></div>\n",
       "        <link rel=\"stylesheet\" href=\"https://cuthbertLab.github.io/music21j/css/m21.css\">\n",
       "        \n",
       "        <script\n",
       "        src=\"https://cdnjs.cloudflare.com/ajax/libs/require.js/2.3.6/require.min.js\"\n",
       "        ></script>\n",
       "    \n",
       "        <script>\n",
       "        function midiPlayerDiv14359_play() {\n",
       "            const rq = require.config({\n",
       "                paths: {\n",
       "                    'music21': 'https://cuthbertLab.github.io/music21j/releases/music21.debug',\n",
       "                }\n",
       "            });\n",
       "            rq(['music21'], function(music21) {\n",
       "                mp = new music21.miditools.MidiPlayer();\n",
       "                mp.addPlayer(\"#midiPlayerDiv14359\");\n",
       "                mp.base64Load(\"data:audio/midi;base64,TVRoZAAAAAYAAQACJ2BNVHJrAAAAGgD/UQMHoSAA/1kCAAAA/1gEBAIYCM5g/y8ATVRyawAAAKkA/wMAAOAAQM5ggDAAAIA0AACANwAAgDsAAJAwWgCQNFoAkDdaAJA7WgCQPFq0QIA8AACQQFrpAIBAAACQSFq0QIBIAACQR1qaIIBHALRAkEBamiCAQAAAgDAAAIA0AACANwAAgDsAAJAwWgCQNFoAkDdaAJA7WgCQPFq0QIA8AACQQFqaIIBAAACQQ1q0QIBDAACQR1qaIIBHAACQSFrOYIBIAM5g/y8A\");\n",
       "            });\n",
       "        }\n",
       "        if (typeof require === 'undefined') {\n",
       "            setTimeout(midiPlayerDiv14359_play, 2000);\n",
       "        } else {\n",
       "            midiPlayerDiv14359_play();\n",
       "        }\n",
       "        </script>"
      ],
      "text/plain": [
       "<IPython.core.display.HTML object>"
      ]
     },
     "metadata": {},
     "output_type": "display_data"
    },
    {
     "data": {
      "image/png": "[encoded data removed]",
      "text/plain": [
       "<IPython.core.display.Image object>"
      ]
     },
     "execution_count": 129,
     "metadata": {},
     "output_type": "execute_result"
    }
   ],
   "source": [
    "notes = \"^treble c 4/4^!cmaj7 c4/.5 e4/1.5 c5/.5 b4/.5 r/.5 e4/.5 !cmaj7 c4/.5 e4/.5 g4/.5 b4/.5 c5/2\"\n",
    "music(notes, True)\n",
    "music(notes)"
   ]
  }
 ],
 "metadata": {
  "kernelspec": {
   "display_name": "Python 3",
   "language": "python",
   "name": "python3"
  },
  "language_info": {
   "codemirror_mode": {
    "name": "ipython",
    "version": 3
   },
   "file_extension": ".py",
   "mimetype": "text/x-python",
   "name": "python",
   "nbconvert_exporter": "python",
   "pygments_lexer": "ipython3",
   "version": "3.12.3"
  }
 },
 "nbformat": 4,
 "nbformat_minor": 2
}
