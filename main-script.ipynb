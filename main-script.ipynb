{
 "cells": [
  {
   "cell_type": "code",
   "execution_count": 31,
   "metadata": {},
   "outputs": [],
   "source": [
    "from music21 import *\n",
    "from IPython.display import Image\n",
    "\n",
    "\n",
    "def music(info: list, notes: str, midi=False):\n",
    "    s = stream.Score()\n",
    "    part = stream.Part()\n",
    "    if info[0] == \"Treble\":\n",
    "        part.append(clef.TrebleClef())\n",
    "    elif info[0] == \"Bass\":\n",
    "        part.append(clef.BassClef)\n",
    "    elif info[0] == \"None\":\n",
    "        part.append(clef.NoClef())\n",
    "    part.append(key.KeySignature(info[1]))\n",
    "    part.append(meter.TimeSignature(info[2]))\n",
    "\n",
    "    split_notes = notes.split(\" \")\n",
    "    for n in split_notes:\n",
    "        if n[0] == \"!\":\n",
    "            part.append(harmony.ChordSymbol(n[1:]))\n",
    "        elif n == \"^\":\n",
    "            part.append(layout.SystemLayout(isNew=True))\n",
    "        else:\n",
    "            is_chord = False\n",
    "            is_tie = \"none\"\n",
    "            note_and_length = n.split(\"/\")\n",
    "            if \"(\" in note_and_length[0]:\n",
    "                is_chord = True\n",
    "                chord_name = (\n",
    "                    note_and_length[0].replace(\"(\", \"\").replace(\")\", \"\").split(\"$\")\n",
    "                )\n",
    "            else:\n",
    "                note_name = note_and_length[0]\n",
    "            if \"{\" in note_and_length[1]:\n",
    "                is_tie = \"start\"\n",
    "                note_and_length[1] = note_and_length[1].replace(\"{\", \"\")\n",
    "            if \"}\" in note_and_length[1]:\n",
    "                is_tie = \"stop\"\n",
    "                note_and_length[1] = note_and_length[1].replace(\"}\", \"\")\n",
    "            if \"*\" in note_and_length[1]:\n",
    "                length_and_col = note_and_length[1].split(\"*\")\n",
    "                note_length = length_and_col[0]\n",
    "                note_col = length_and_col[1]\n",
    "            else:\n",
    "                note_length = note_and_length[1]\n",
    "                note_col = \"\"\n",
    "            if note_length in [\"0.3\", \".3\"]:\n",
    "                note_length = 0.333333333\n",
    "            else:\n",
    "                note_length = float(note_length)\n",
    "            if is_chord:\n",
    "                add_n = chord.Chord(chord_name, quarterLength=note_length)\n",
    "            else:\n",
    "                if note_name.lower() == \"r\":\n",
    "                    add_n = note.Rest(quarterLength=note_length)\n",
    "                elif note_name in [\"slash\", \"s\"]:\n",
    "                    add_n = note.Unpitched()\n",
    "                    add_n.notehead = \"slash\"\n",
    "                    add_n.stemDirection = \"noStem\"\n",
    "                    add_n.volume.velocity = 0\n",
    "                else:\n",
    "                    add_n = note.Note(note_name, quarterLength=note_length)\n",
    "            if is_tie != \"none\":\n",
    "                add_n.tie = tie.Tie(is_tie)\n",
    "            if note_col != \"\":\n",
    "                add_n.style.color = note_col\n",
    "\n",
    "            part.append(add_n)\n",
    "\n",
    "    s.append(tempo.MetronomeMark(number=120))\n",
    "    s.append(part)\n",
    "    if midi:\n",
    "        beat_no = 0\n",
    "        for thing in s.parts[0]:\n",
    "            if isinstance(thing, note.Note):\n",
    "                beat_no += thing.quarterLength\n",
    "                if beat_no % 1 == 0:\n",
    "                    print(thing)\n",
    "        return s.show(\"midi\")\n",
    "    else:\n",
    "        return Image(filename=s.write(\"musicxml.png\"))"
   ]
  },
  {
   "cell_type": "code",
   "execution_count": 32,
   "metadata": {},
   "outputs": [
    {
     "name": "stdout",
     "output_type": "stream",
     "text": [
      "<music21.note.Note D>\n",
      "<music21.note.Note F>\n",
      "<music21.note.Note A>\n",
      "<music21.note.Note C>\n",
      "<music21.note.Note C>\n",
      "<music21.note.Note E>\n",
      "<music21.note.Note G>\n"
     ]
    },
    {
     "data": {
      "text/html": [
       "\n",
       "        <div id=\"midiPlayerDiv3121\"></div>\n",
       "        <link rel=\"stylesheet\" href=\"https://cuthbertLab.github.io/music21j/css/m21.css\">\n",
       "        \n",
       "        <script\n",
       "        src=\"https://cdnjs.cloudflare.com/ajax/libs/require.js/2.3.6/require.min.js\"\n",
       "        ></script>\n",
       "    \n",
       "        <script>\n",
       "        function midiPlayerDiv3121_play() {\n",
       "            const rq = require.config({\n",
       "                paths: {\n",
       "                    'music21': 'https://cuthbertLab.github.io/music21j/releases/music21.debug',\n",
       "                }\n",
       "            });\n",
       "            rq(['music21'], function(music21) {\n",
       "                mp = new music21.miditools.MidiPlayer();\n",
       "                mp.addPlayer(\"#midiPlayerDiv3121\");\n",
       "                mp.base64Load(\"data:audio/midi;base64,TVRoZAAAAAYAAQACJ2BNVHJrAAAAGgD/UQMHoSAA/1kCAAAA/1gEBAIYCM5g/y8ATVRyawAAAIMA/wMAAOAAQM5gkDxapzCAPAAAkD5apzCAPgAAkEBapzCAQAAAkEFapzCAQQAAkENapzCAQwAAkEVapzCARQAAkEdapzCARwAAkEhapzCASAAAkDxazmCAPAAAkD5apzCAPgAAkEBapzCAQAAAkEFapzCAQQAAkENa9hCAQwDOYP8vAA==\");\n",
       "            });\n",
       "        }\n",
       "        if (typeof require === 'undefined') {\n",
       "            setTimeout(midiPlayerDiv3121_play, 2000);\n",
       "        } else {\n",
       "            midiPlayerDiv3121_play();\n",
       "        }\n",
       "        </script>"
      ],
      "text/plain": [
       "<IPython.core.display.HTML object>"
      ]
     },
     "metadata": {},
     "output_type": "display_data"
    },
    {
     "data": {
      "image/png": "[encoded data removed]",
      "text/plain": [
       "<IPython.core.display.Image object>"
      ]
     },
     "execution_count": 32,
     "metadata": {},
     "output_type": "execute_result"
    }
   ],
   "source": [
    "info = [\"Treble\", 0, \"4/4\"]\n",
    "notes = \"c4/.5 d4/.5 e4/.5 f4/.5 g4/.5 a4/.5 b4/.5 c5/.5 c4/1 d4/.5 e4/.5 f4/.5 g4/1.5\"\n",
    "music(info, notes, True)\n",
    "music(info, notes)"
   ]
  },
  {
   "cell_type": "code",
   "execution_count": 7,
   "metadata": {},
   "outputs": [
    {
     "data": {
      "text/html": [
       "\n",
       "        <div id=\"midiPlayerDiv720\"></div>\n",
       "        <link rel=\"stylesheet\" href=\"https://cuthbertLab.github.io/music21j/css/m21.css\">\n",
       "        \n",
       "        <script\n",
       "        src=\"https://cdnjs.cloudflare.com/ajax/libs/require.js/2.3.6/require.min.js\"\n",
       "        ></script>\n",
       "    \n",
       "        <script>\n",
       "        function midiPlayerDiv720_play() {\n",
       "            const rq = require.config({\n",
       "                paths: {\n",
       "                    'music21': 'https://cuthbertLab.github.io/music21j/releases/music21.debug',\n",
       "                }\n",
       "            });\n",
       "            rq(['music21'], function(music21) {\n",
       "                mp = new music21.miditools.MidiPlayer();\n",
       "                mp.addPlayer(\"#midiPlayerDiv720\");\n",
       "                mp.base64Load(\"data:audio/midi;base64,TVRoZAAAAAYAAQACJ2BNVHJrAAAAGgD/UQMHoSAA/1kC/QAA/1gEBAIYCM5g/y8ATVRyawAAAVgA/wMAAOAAQM5ggCkAAIAsAACAMAAAgDMAAJApWgCQLFoAkDBaAJAzWgCQRlqBnUCARgCnMJBDWqcwgEMAAJBEWpoggEQAAJBIWpoggEgAAJBLWpoggEsAAIAuAACAMgAAgDUAAIA4AACQLloAkDJaAJA1WgCQOFoAkE9apzCATwAAkE1apzCATQAAkEpapzCASgAAkEhapzCASAAAkEZapzCARgAAkERapzCARAAAkEFapzCAQQAAkEJapzCAQgAAgDMAAIA3AACAOgAAgD4AAJAzWgCQN1oAkDpaAJA+WgCQQ1rOYIBDAPYQkEJapzCAQgAAkENamiCAQwAAkEZamiCARgAAkD5amiCAPgAAgCwAAIAwAACAMwAAgDcAAJAsWgCQMFoAkDNaAJA3WgCQT1qnMIBPAACQTVqnMIBNAACQS1qnMIBLAACQSFqBxHCASADOYP8vAA==\");\n",
       "            });\n",
       "        }\n",
       "        if (typeof require === 'undefined') {\n",
       "            setTimeout(midiPlayerDiv720_play, 2000);\n",
       "        } else {\n",
       "            midiPlayerDiv720_play();\n",
       "        }\n",
       "        </script>"
      ],
      "text/plain": [
       "<IPython.core.display.HTML object>"
      ]
     },
     "metadata": {},
     "output_type": "display_data"
    },
    {
     "data": {
      "image/png": "[encoded data removed]",
      "text/plain": [
       "<IPython.core.display.Image object>"
      ]
     },
     "execution_count": 7,
     "metadata": {},
     "output_type": "execute_result"
    }
   ],
   "source": [
    "info = [\"Treble\", -3, \"4/4\"]\n",
    "notes = \"!fm7 b-4/2 r/.5 g4/.5 a-4/.3 c5/.3 e-5/.3 !b-7 g5/.5 f5/.5 d5/.5 c5/.5 b-4/.5 a-4/.5 f4/.5 f#4/.5 !e-maj7 g4/1 r/1 r/.5 f#4/.5 g4/.3 b-4/.3 d5/.3 !a-maj7 g5/.5 f5/.5 e-5/.5 c5/.5{ c5/2}\"\n",
    "music(info, notes, True)\n",
    "music(info, notes, False)"
   ]
  }
 ],
 "metadata": {
  "kernelspec": {
   "display_name": "Python 3",
   "language": "python",
   "name": "python3"
  },
  "language_info": {
   "codemirror_mode": {
    "name": "ipython",
    "version": 3
   },
   "file_extension": ".py",
   "mimetype": "text/x-python",
   "name": "python",
   "nbconvert_exporter": "python",
   "pygments_lexer": "ipython3",
   "version": "3.11.4"
  }
 },
 "nbformat": 4,
 "nbformat_minor": 2
}
