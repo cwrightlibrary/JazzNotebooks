{
 "cells": [
  {
   "cell_type": "code",
   "execution_count": 58,
   "metadata": {},
   "outputs": [],
   "source": [
    "from music21 import *\n",
    "from IPython.display import Image\n",
    "\n",
    "\n",
    "def music(notes: str, midi=False):\n",
    "    s = stream.Score()\n",
    "    part = stream.Part()\n",
    "    \n",
    "    info_pos = []\n",
    "    \n",
    "    for i in range(0, len(notes)):\n",
    "        if notes[i] == \"^\":\n",
    "            info_pos.append(i)\n",
    "    info_string = notes[info_pos[0] + 1: info_pos[1]]\n",
    "    info = info_string.split(\" \")\n",
    "    # if info[0].lower == \"treble\":\n",
    "    #     part.append(clef.TrebleClef())\n",
    "    # elif info[0].lower == \"bass\":\n",
    "    #     part.append(clef.BassClef())\n",
    "    # elif info[0] == \"None\":\n",
    "    #     part.append(clef.NoClef())\n",
    "    part.append(clef.TrebleClef())\n",
    "    keys = [[\"cb\", -7], [\"gb\", -6], [\"db\", -5], [\"ab\", -4], [\"eb\", -3], [\"bb\", -2], [\"f\", -1], [\"c\", 0], [\"g\", 1], [\"d\", 2], [\"a\", 3], [\"e\", 4], [\"b\", 5], [\"f#\", 6], [\"c#\", 7]]\n",
    "    for k in keys:\n",
    "        if info[1].lower() == k[0]:\n",
    "            part.append(key.KeySignature(k[1]))\n",
    "    part.append(meter.TimeSignature(info[2]))\n",
    "    notes = notes[info_pos[1] + 1:]\n",
    "    \n",
    "    if len(info) == 4:\n",
    "        info_tempo = int(info[3])\n",
    "    else:\n",
    "        info_tempo = 40\n",
    "\n",
    "    split_notes = notes.split(\" \")\n",
    "    for n in split_notes:\n",
    "        if n[0] == \"!\":\n",
    "            part.append(harmony.ChordSymbol(n[1:]))\n",
    "        elif n == \"^\":\n",
    "            part.append(layout.SystemLayout(isNew=True))\n",
    "        else:\n",
    "            is_chord = False\n",
    "            is_tie = \"none\"\n",
    "            note_and_length = n.split(\"/\")\n",
    "            if \"(\" in note_and_length[0]:\n",
    "                is_chord = True\n",
    "                chord_name = (\n",
    "                    note_and_length[0].replace(\"(\", \"\").replace(\")\", \"\").split(\"$\")\n",
    "                )\n",
    "            else:\n",
    "                note_name = note_and_length[0]\n",
    "            if \"{\" in note_and_length[1]:\n",
    "                is_tie = \"start\"\n",
    "                note_and_length[1] = note_and_length[1].replace(\"{\", \"\")\n",
    "            if \"}\" in note_and_length[1]:\n",
    "                is_tie = \"stop\"\n",
    "                note_and_length[1] = note_and_length[1].replace(\"}\", \"\")\n",
    "            if \"*\" in note_and_length[1]:\n",
    "                length_and_col = note_and_length[1].split(\"*\")\n",
    "                note_length = length_and_col[0]\n",
    "                note_col = length_and_col[1]\n",
    "            else:\n",
    "                note_length = note_and_length[1]\n",
    "                note_col = \"\"\n",
    "            if note_length in [\"0.3\", \".3\"]:\n",
    "                note_length = 0.333333333\n",
    "            else:\n",
    "                note_length = float(note_length)\n",
    "            if is_chord:\n",
    "                add_n = chord.Chord(chord_name, quarterLength=note_length)\n",
    "            else:\n",
    "                if note_name.lower() == \"r\":\n",
    "                    add_n = note.Rest(quarterLength=note_length)\n",
    "                elif note_name in [\"slash\", \"s\"]:\n",
    "                    add_n = note.Unpitched()\n",
    "                    add_n.notehead = \"slash\"\n",
    "                    add_n.stemDirection = \"noStem\"\n",
    "                    add_n.volume.velocity = 0\n",
    "                else:\n",
    "                    add_n = note.Note(note_name, quarterLength=note_length)\n",
    "            if is_tie != \"none\":\n",
    "                add_n.tie = tie.Tie(is_tie)\n",
    "            if note_col != \"\":\n",
    "                add_n.style.color = note_col\n",
    "\n",
    "            part.append(add_n)\n",
    "\n",
    "    s.append(tempo.MetronomeMark(number=info_tempo))\n",
    "    s.append(part)\n",
    "\n",
    "    swung_part = stream.Part()\n",
    "    \n",
    "    if midi == True:\n",
    "        step = 0.0\n",
    "        for item in part:\n",
    "            if isinstance(item, note.Note) or isinstance(item, note.Rest):\n",
    "                if str(step)[-1] == \"9\":\n",
    "                    step = float(round(step))\n",
    "                elif str(step)[-1] == \"2\":\n",
    "                    step = float(round(step))\n",
    "                if isinstance(item, note.Note):\n",
    "                    new_note = note.Note(item.pitch)\n",
    "                    if item.tie:\n",
    "                        if \"start\" in str(item.tie):\n",
    "                            new_note.tie = tie.Tie(\"start\")\n",
    "                        if \"stop\" in str(item.tie):\n",
    "                            new_note.tie = tie.Tie(\"stop\")\n",
    "                        if \"continue\" in str(item.tie):\n",
    "                            new_note.tie = tie.Tie(\"continue\")\n",
    "                else:\n",
    "                    new_note = note.Rest()\n",
    "                if str(step)[-2:] == \".0\":\n",
    "                    if item.quarterLength == 0.5:\n",
    "                        new_note.quarterLength = (0.333333333 * 2)\n",
    "                    elif item.quarterLength == 2:\n",
    "                        new_note.quarterLength = 1 + (0.333333333 * 2)\n",
    "                    elif str(item.quarterLength) == \"1/3\":\n",
    "                        new_note.quarterLength = 0.333333333\n",
    "                    else:\n",
    "                        new_note.quarterLength = item.quarterLength\n",
    "                elif str(step)[-2:] == \".5\":\n",
    "                    if item.quarterLength == 0.5:\n",
    "                        new_note.quarterLength = 0.333333333\n",
    "                    elif item.quarterLength == 1.5:\n",
    "                        new_note.quarterLength = 1 + .333333333\n",
    "                    else:\n",
    "                        new_note.quarterLength = item.quarterLength\n",
    "                if str(item.quarterLength) == \"1/3\":\n",
    "                    new_note.quarterLength = 0.333333333\n",
    "                swung_part.append(new_note)\n",
    "                step += item.quarterLength\n",
    "            else:\n",
    "                swung_part.append(item)\n",
    "        swung_s = stream.Stream()\n",
    "        guitar = instrument.Guitar()\n",
    "        swung_s.insert(0, tempo.MetronomeMark(number=info_tempo))\n",
    "        swung_s.append(guitar)\n",
    "        swung_s.append(swung_part)\n",
    "        return swung_s.show(\"midi\")\n",
    "    else:\n",
    "        return Image(filename=s.write(\"musicxml.png\"))"
   ]
  },
  {
   "cell_type": "markdown",
   "metadata": {},
   "source": [
    "# Modern Jazz Piano\n",
    "## A Study in Harmony and Improvisation\n",
    "by Brian Waite"
   ]
  },
  {
   "cell_type": "markdown",
   "metadata": {},
   "source": [
    "# Preface\n",
    "It is not possible to acquire the skills of any of the performing arts just by reading a book and this is particularly so in the case of jazz. Nevertheless, as in all things, an understanding of the underlying principles can play a large part in the development of such skills and it is hoped that this book will make a contribution by providing the necessary groundwork.\n",
    "\n",
    "To my knowledge the diversity of subject matter discussed in the following pages has not been dealt with in a singie volume before, although there are other jazz text books available which will provide a rich source of further reading and these are listed in the bibliography.\n",
    "\n",
    "The idea to write such a book was conceived after pianist Gordon Beck had invited me to assist in the teaching of jazz piano at the Treforest Summer School. This was formerly the Barry Summer School started in 1967 at which time it was the only residential jazz course of its kind in Great Britain. It was as a student in the early years of the School that I had the fortune to meet and learn from some of Britain's foremost jazz players and it has been my further good fortune to have an opportunity to pass on that knowledge to other students.\n",
    "\n",
    "This book has been designed to cater for beginners and more advanced players alike and it is hoped that it will be found as useful to the non-keyboard player as to the aspiring jazz pianist.\n",
    "\n",
    "in understanding the theory the usefulness of the piano cannot be overemphasized for it is at the keyboard that harmonies can be heard en bloc and this is as much an asset to the horn player as to the pianist. it is not necessary for the horn player to be proficient at the keyboard to play the examples of harmonies in this book. Played as block chords, however slowly, they will provide an insight into the pianist’s role as a member of the rhythm section.\n",
    "\n",
    "A participation in music at any level involves a continual learning process and for this reason alone it would be impossible to write a book which is completely exhaustive. However, | am confident that even the most advanced player will find something in these pages which will serve as a springboard for further developement."
   ]
  },
  {
   "cell_type": "markdown",
   "metadata": {},
   "source": [
    "# Fundamentals\n",
    "\n",
    "## 1.1 Introduction\n",
    "\n",
    "It would be difficult to understand the theory of jazz piano without first grasping the basic principles of melody and harmony applicable te all forms of music. Although such matters are dealt with extensively in other works I think it is important to include them here as a foundation for more advanced study.\n",
    "\n",
    "I have had to assume some very basic knowledge on the part of the reader but if there is any difficulty for absolute beginners the bibliography will be found useful.\n",
    "\n",
    "In writing this section | have attempted to be as brief yet concise as possible and | have avoided venturing into areas which are not directly relevant to the art of jazz. | have also related everything to the major scale for simplicity. The minor scale is introduced in Section Two, the theory being the same for both scales."
   ]
  },
  {
   "cell_type": "markdown",
   "metadata": {},
   "source": [
    "## 1.2 To Read or Not to Read\n",
    "\n",
    "The ability to read music varies with individuals, ranging from the non-reader to the highly proficient sight reader.\n",
    "\n",
    "The session player, with all the demands that studio work imposes, must of necessity fall into the latter category. At the other extreme, there are excellent jazz players who cannot read a note or chord.\n",
    "\n",
    "Clearly, every musician should aspire to be a good reader for all the advantages that it has to offer and for most players this will involve diligent practice and hard-won experience. However, the examples in this book do not require a high level of reading skill. In fact, if the theory is understood it's possible to play them with nothing more than a familiarity with the notes of the stave as they relate to the keyboard.\n",
    "\n",
    "On a different level, the ability to read chord symbols is essential, particularly for the pianist who, as a member of a rhythm section, will frequently be presented with a chord chart. In this respect I have devoted one section of the book to chord symbols for they can be a source of confusion due to the different ways they can be written.\n",
    "\n",
    "I do not propose to dwell at length on the subject of reading for it is adequately covered elsewhere and an in-depth study would be beyond the scope of this book. Despite this | feel that two pieces of advice would not be out of place here. First, it must be understood that in reading music, jazz involves a different interpretation to classical forms, a triplet feel being used in jazz, as shown in the example below:"
   ]
  },
  {
   "cell_type": "code",
   "execution_count": 59,
   "metadata": {},
   "outputs": [
    {
     "name": "stdout",
     "output_type": "stream",
     "text": [
      "WRITTEN:\n"
     ]
    },
    {
     "data": {
      "image/png": "[encoded data removed]",
      "text/plain": [
       "<IPython.core.display.Image object>"
      ]
     },
     "execution_count": 59,
     "metadata": {},
     "output_type": "execute_result"
    }
   ],
   "source": [
    "notes = \"^treble c 4/4^f4/.5 f4/.5 f4/.5 f4/.5 f4/.5 f4/.5 f4/.5 f4/.5\"\n",
    "print(\"WRITTEN:\")\n",
    "music(notes)"
   ]
  },
  {
   "cell_type": "code",
   "execution_count": 60,
   "metadata": {},
   "outputs": [
    {
     "data": {
      "text/html": [
       "\n",
       "        <div id=\"midiPlayerDiv6608\"></div>\n",
       "        <link rel=\"stylesheet\" href=\"https://cuthbertLab.github.io/music21j/css/m21.css\">\n",
       "        \n",
       "        <script\n",
       "        src=\"https://cdnjs.cloudflare.com/ajax/libs/require.js/2.3.6/require.min.js\"\n",
       "        ></script>\n",
       "    \n",
       "        <script>\n",
       "        function midiPlayerDiv6608_play() {\n",
       "            const rq = require.config({\n",
       "                paths: {\n",
       "                    'music21': 'https://cuthbertLab.github.io/music21j/releases/music21.debug',\n",
       "                }\n",
       "            });\n",
       "            rq(['music21'], function(music21) {\n",
       "                mp = new music21.miditools.MidiPlayer();\n",
       "                mp.addPlayer(\"#midiPlayerDiv6608\");\n",
       "                mp.base64Load(\"data:audio/midi;base64,TVRoZAAAAAYAAQACJ2BNVHJrAAAAGgD/UQMW42AA/1kCAAAA/1gEBAIYCM5g/y8ATVRyawAAAFYA/wMAAOAAQM5gkEFatECAQQAAkEFamiCAQQAAkEFatECAQQAAkEFamiCAQQAAkEFatECAQQAAkEFamiCAQQAAkEFatECAQQAAkEFamiCAQQDOYP8vAA==\");\n",
       "            });\n",
       "        }\n",
       "        if (typeof require === 'undefined') {\n",
       "            setTimeout(midiPlayerDiv6608_play, 2000);\n",
       "        } else {\n",
       "            midiPlayerDiv6608_play();\n",
       "        }\n",
       "        </script>"
      ],
      "text/plain": [
       "<IPython.core.display.HTML object>"
      ]
     },
     "metadata": {},
     "output_type": "display_data"
    },
    {
     "name": "stdout",
     "output_type": "stream",
     "text": [
      "PLAYED:\n"
     ]
    },
    {
     "data": {
      "image/png": "[encoded data removed]",
      "text/plain": [
       "<IPython.core.display.Image object>"
      ]
     },
     "execution_count": 60,
     "metadata": {},
     "output_type": "execute_result"
    }
   ],
   "source": [
    "notes = \"^treble c 4/4^f4/.3{ f4/.3} f4/.3 f4/.3{ f4/.3} f4/.3 f4/.3{ f4/.3} f4/.3 f4/.3{ f4/.3} f4/.3\"\n",
    "music(notes, True)\n",
    "print(\"PLAYED:\")\n",
    "music(notes)"
   ]
  },
  {
   "cell_type": "markdown",
   "metadata": {},
   "source": [
    "Second, it is important to avoid reading material which is far too difficult as this may result in the rhythmic continuity being broken and probably the player's confidence also!\n",
    "\n",
    "If any reader is totally unfamiliar with musical notation he would do well to refer to one of the books listed in the bibliography, one section of which is devoted to basic music.\n",
    "\n",
    "Where examples are given on the stave, | have deliberately avoided transposing into all keys. The player should do this for himself without reference to written music. This way he will gain a better understanding of the structure of chords and scales and develop a visual memory of their shapes. In short, he will develop a sense of architecture of the keyboard."
   ]
  },
  {
   "cell_type": "markdown",
   "metadata": {},
   "source": [
    "## 1.3 Scales\n",
    "\n",
    "Scales are the building blocks of music and have an important role to play in improvisation. The scale with which most people are already familiar is the *Major Scale* for it is the one which is most commonly used in popular music forms, the easiest example being the sequence of ‘white’ notes from C to C’.\n",
    "\n",
    "This scale represents the tip of a large iceberg for there are many others which can be formed to create a musical pathway between two notes which are an octave apart. The variety of scales will be considered in a later section in connection with improvisation.\n",
    "\n",
    "For the present purpose the major scale will serve to illustrate some basic principles and for simplicity the scale Starting on C will be used in the examples.\n",
    "\n",
    "*ie* **C D E F G A B C**\n",
    "\n",
    "Each note or *degree* of the scale has a name and a Roman numeral which give an indication of its function and position within the scale. These are as follows:\n",
    "\n",
    "| Note | Roman Numeral | Name |\n",
    "| --- | --- | --- |\n",
    "| C | I | Tonic |\n",
    "| D | II | Supertonic |\n",
    "| E | III | Mediant |\n",
    "| F | IV | Subdominant |\n",
    "| G | V | Dominant |\n",
    "| A | VI | Submediant |\n",
    "| B | VII | Leading Note |\n",
    "| C | (VIII) | (Tonic) |"
   ]
  },
  {
   "cell_type": "code",
   "execution_count": 61,
   "metadata": {},
   "outputs": [
    {
     "data": {
      "text/html": [
       "\n",
       "        <div id=\"midiPlayerDiv6821\"></div>\n",
       "        <link rel=\"stylesheet\" href=\"https://cuthbertLab.github.io/music21j/css/m21.css\">\n",
       "        \n",
       "        <script\n",
       "        src=\"https://cdnjs.cloudflare.com/ajax/libs/require.js/2.3.6/require.min.js\"\n",
       "        ></script>\n",
       "    \n",
       "        <script>\n",
       "        function midiPlayerDiv6821_play() {\n",
       "            const rq = require.config({\n",
       "                paths: {\n",
       "                    'music21': 'https://cuthbertLab.github.io/music21j/releases/music21.debug',\n",
       "                }\n",
       "            });\n",
       "            rq(['music21'], function(music21) {\n",
       "                mp = new music21.miditools.MidiPlayer();\n",
       "                mp.addPlayer(\"#midiPlayerDiv6821\");\n",
       "                mp.base64Load(\"data:audio/midi;base64,TVRoZAAAAAYAAQACJ2BNVHJrAAAAGgD/UQMW42AA/1kCAAAA/1gEBAIYCM5g/y8ATVRyawAAAFYA/wMAAOAAQM5gkDxazmCAPAAAkD5azmCAPgAAkEBazmCAQAAAkEFazmCAQQAAkENazmCAQwAAkEVazmCARQAAkEdazmCARwAAkEhazmCASADOYP8vAA==\");\n",
       "            });\n",
       "        }\n",
       "        if (typeof require === 'undefined') {\n",
       "            setTimeout(midiPlayerDiv6821_play, 2000);\n",
       "        } else {\n",
       "            midiPlayerDiv6821_play();\n",
       "        }\n",
       "        </script>"
      ],
      "text/plain": [
       "<IPython.core.display.HTML object>"
      ]
     },
     "metadata": {},
     "output_type": "display_data"
    },
    {
     "data": {
      "image/png": "[encoded data removed]",
      "text/plain": [
       "<IPython.core.display.Image object>"
      ]
     },
     "execution_count": 61,
     "metadata": {},
     "output_type": "execute_result"
    }
   ],
   "source": [
    "notes = \"^treble c 4/4^c4/1 d4/1 e4/1 f4/1 g4/1 a4/1 b4/1 c5/1\"\n",
    "music(notes, True)\n",
    "music(notes)"
   ]
  },
  {
   "cell_type": "markdown",
   "metadata": {},
   "source": [
    "The *tonic* (I) defines the Starting point or tonal centre and is therefore the most important note in the scale. The *dominant* (V) is fairly central in the scale and is next in importance. It has a melodic tendency to move up or down to the tonic. The *subdominant* (IV) is just below the dominant and has a melodic tendency to move down to the mediant. The *mediant* (III) is so called because it lies midway between the tonic and the dominant. Likewise the *submediant* (VI) lies midway between the subdominant and the upper tonic. The *supertonic* (VII) is is just above the tonic and the *leading note* (VII) is so called because it has a strong tendency to lead up to the tonic.\n",
    "\n",
    "This tendency for melodic movement is important in understanding harmonic progression, as will be seen later. In order to appreciate this movement the tonic has to be played first to establish the tonal centre."
   ]
  },
  {
   "cell_type": "code",
   "execution_count": 62,
   "metadata": {},
   "outputs": [
    {
     "data": {
      "text/html": [
       "\n",
       "        <div id=\"midiPlayerDiv7005\"></div>\n",
       "        <link rel=\"stylesheet\" href=\"https://cuthbertLab.github.io/music21j/css/m21.css\">\n",
       "        \n",
       "        <script\n",
       "        src=\"https://cdnjs.cloudflare.com/ajax/libs/require.js/2.3.6/require.min.js\"\n",
       "        ></script>\n",
       "    \n",
       "        <script>\n",
       "        function midiPlayerDiv7005_play() {\n",
       "            const rq = require.config({\n",
       "                paths: {\n",
       "                    'music21': 'https://cuthbertLab.github.io/music21j/releases/music21.debug',\n",
       "                }\n",
       "            });\n",
       "            rq(['music21'], function(music21) {\n",
       "                mp = new music21.miditools.MidiPlayer();\n",
       "                mp.addPlayer(\"#midiPlayerDiv7005\");\n",
       "                mp.base64Load(\"data:audio/midi;base64,TVRoZAAAAAYAAQACJ2BNVHJrAAAAGgD/UQMW42AA/1kCAAAA/1gEBAIYCM5g/y8ATVRyawAAAF4A/wMAAOAAQM5gkE9agYMggE8AAJBIWoGDIIBIAACQQ1qBgyCAQwAAkEhagYMggEgAAJBBWoGDIIBBAACQQFqBgyCAQAAAkEdagYMggEcAAJBIWoGDIIBIAM5g/y8A\");\n",
       "            });\n",
       "        }\n",
       "        if (typeof require === 'undefined') {\n",
       "            setTimeout(midiPlayerDiv7005_play, 2000);\n",
       "        } else {\n",
       "            midiPlayerDiv7005_play();\n",
       "        }\n",
       "        </script>"
      ],
      "text/plain": [
       "<IPython.core.display.HTML object>"
      ]
     },
     "metadata": {},
     "output_type": "display_data"
    },
    {
     "name": "stdout",
     "output_type": "stream",
     "text": [
      "V to I, V to I, IV to III, VII to I\n"
     ]
    },
    {
     "data": {
      "image/png": "[encoded data removed]",
      "text/plain": [
       "<IPython.core.display.Image object>"
      ]
     },
     "execution_count": 62,
     "metadata": {},
     "output_type": "execute_result"
    }
   ],
   "source": [
    "notes = \"^treble c 4/4^g5/2 c5/2 g4/2 c5/2 f4/2 e4/2 b4/2 c5/2\"\n",
    "music(notes, True)\n",
    "print(\"V to I, V to I, IV to III, VII to I\")\n",
    "music(notes)"
   ]
  },
  {
   "cell_type": "markdown",
   "metadata": {},
   "source": [
    "## 1.4 Intervals\n",
    "\n",
    "The musical distance between two notes is known as an interval. In Western music the smallest interval is the semitone or half-tone and is the distance between adjacent notes such as C and Db or E and F. It follows logically that an interval comprising two semitones is a fone or whole-tone as for example between F and G or Bb and C.\n",
    "\n",
    "It would be possible to describe any interval in terms of the number of tones and semitones it contains but this would be a cumbersome means of identification. An interval is properly identified according to type and size. There are five types of interval:\n",
    "\n",
    "> **Perfect<br>Major<br>Minor<br>Augmented<br>Diminished**\n",
    "\n",
    "The size of an interval is described numerically and can be explained by reference to a scale. The interval between I and II is a *second*; that between I III is a *third*; that between I and IV is a *fourth*; and so on. However, the type of interval will differ according to the scale used. If we consider the major scale with the tonic as a reference, the intervals which occur naturally are as follows:"
   ]
  },
  {
   "cell_type": "code",
   "execution_count": 63,
   "metadata": {},
   "outputs": [
    {
     "data": {
      "text/html": [
       "\n",
       "        <div id=\"midiPlayerDiv7195\"></div>\n",
       "        <link rel=\"stylesheet\" href=\"https://cuthbertLab.github.io/music21j/css/m21.css\">\n",
       "        \n",
       "        <script\n",
       "        src=\"https://cdnjs.cloudflare.com/ajax/libs/require.js/2.3.6/require.min.js\"\n",
       "        ></script>\n",
       "    \n",
       "        <script>\n",
       "        function midiPlayerDiv7195_play() {\n",
       "            const rq = require.config({\n",
       "                paths: {\n",
       "                    'music21': 'https://cuthbertLab.github.io/music21j/releases/music21.debug',\n",
       "                }\n",
       "            });\n",
       "            rq(['music21'], function(music21) {\n",
       "                mp = new music21.miditools.MidiPlayer();\n",
       "                mp.addPlayer(\"#midiPlayerDiv7195\");\n",
       "                mp.base64Load(\"data:audio/midi;base64,TVRoZAAAAAYAAQACJ2BNVHJrAAAAGgD/UQMW42AA/1kCAAAA/1gEBAIYCM5g/y8ATVRyawAAAFYA/wMAAOAAQM5gkDxazmCAPAAAkD5azmCAPgAAkEBazmCAQAAAkEFazmCAQQAAkENazmCAQwAAkEVazmCARQAAkEdazmCARwAAkEhazmCASADOYP8vAA==\");\n",
       "            });\n",
       "        }\n",
       "        if (typeof require === 'undefined') {\n",
       "            setTimeout(midiPlayerDiv7195_play, 2000);\n",
       "        } else {\n",
       "            midiPlayerDiv7195_play();\n",
       "        }\n",
       "        </script>"
      ],
      "text/plain": [
       "<IPython.core.display.HTML object>"
      ]
     },
     "metadata": {},
     "output_type": "display_data"
    },
    {
     "name": "stdout",
     "output_type": "stream",
     "text": [
      "Unison, Major Second, Major Third, Perfect Fourth, Perfect Fifth, Major Sixth, Major Seventh, Octave\n"
     ]
    },
    {
     "data": {
      "image/png": "[encoded data removed]",
      "text/plain": [
       "<IPython.core.display.Image object>"
      ]
     },
     "execution_count": 63,
     "metadata": {},
     "output_type": "execute_result"
    }
   ],
   "source": [
    "notes = \"^treble c 4/4^c4/1 d4/1 e4/1 f4/1 g4/1 a4/1 b4/1 c5/1\"\n",
    "music(notes, True)\n",
    "print(\"Unison, Major Second, Major Third, Perfect Fourth, Perfect Fifth, Major Sixth, Major Seventh, Octave\")\n",
    "music(notes)"
   ]
  },
  {
   "cell_type": "code",
   "execution_count": 64,
   "metadata": {},
   "outputs": [
    {
     "data": {
      "text/html": [
       "\n",
       "        <div id=\"midiPlayerDiv7359\"></div>\n",
       "        <link rel=\"stylesheet\" href=\"https://cuthbertLab.github.io/music21j/css/m21.css\">\n",
       "        \n",
       "        <script\n",
       "        src=\"https://cdnjs.cloudflare.com/ajax/libs/require.js/2.3.6/require.min.js\"\n",
       "        ></script>\n",
       "    \n",
       "        <script>\n",
       "        function midiPlayerDiv7359_play() {\n",
       "            const rq = require.config({\n",
       "                paths: {\n",
       "                    'music21': 'https://cuthbertLab.github.io/music21j/releases/music21.debug',\n",
       "                }\n",
       "            });\n",
       "            rq(['music21'], function(music21) {\n",
       "                mp = new music21.miditools.MidiPlayer();\n",
       "                mp.addPlayer(\"#midiPlayerDiv7359\");\n",
       "                mp.base64Load(\"data:audio/midi;base64,TVRoZAAAAAYAAQACJ2BNVHJrAAAAGgD/UQMW42AA/1kCAAAA/1gEBAIYCM5g/y8ATVRyawAAAFYA/wMAAOAAQM5gkDxaAJA8WoK7AIA8AACAPAAAkDxaAJBBWoK7AIA8AACAQQAAkDxaAJBDWoK7AIA8AACAQwAAkDxaAJBIWoK7AIA8AACASADOYP8vAA==\");\n",
       "            });\n",
       "        }\n",
       "        if (typeof require === 'undefined') {\n",
       "            setTimeout(midiPlayerDiv7359_play, 2000);\n",
       "        } else {\n",
       "            midiPlayerDiv7359_play();\n",
       "        }\n",
       "        </script>"
      ],
      "text/plain": [
       "<IPython.core.display.HTML object>"
      ]
     },
     "metadata": {},
     "output_type": "display_data"
    },
    {
     "name": "stdout",
     "output_type": "stream",
     "text": [
      "PERFECT INTERVALS\n",
      "Unison, Fourth, Fifth, Octave\n"
     ]
    },
    {
     "data": {
      "image/png": "[encoded data removed]",
      "text/plain": [
       "<IPython.core.display.Image object>"
      ]
     },
     "execution_count": 64,
     "metadata": {},
     "output_type": "execute_result"
    }
   ],
   "source": [
    "notes = \"^treble c 4/4^(c4$c4)/4 (c4$f4)/4 (c4$g4)/4 (c4$c5)/4\"\n",
    "music(notes, True)\n",
    "print(\"PERFECT INTERVALS\")\n",
    "print(\"Unison, Fourth, Fifth, Octave\")\n",
    "music(notes)"
   ]
  },
  {
   "cell_type": "code",
   "execution_count": 65,
   "metadata": {},
   "outputs": [
    {
     "data": {
      "text/html": [
       "\n",
       "        <div id=\"midiPlayerDiv7521\"></div>\n",
       "        <link rel=\"stylesheet\" href=\"https://cuthbertLab.github.io/music21j/css/m21.css\">\n",
       "        \n",
       "        <script\n",
       "        src=\"https://cdnjs.cloudflare.com/ajax/libs/require.js/2.3.6/require.min.js\"\n",
       "        ></script>\n",
       "    \n",
       "        <script>\n",
       "        function midiPlayerDiv7521_play() {\n",
       "            const rq = require.config({\n",
       "                paths: {\n",
       "                    'music21': 'https://cuthbertLab.github.io/music21j/releases/music21.debug',\n",
       "                }\n",
       "            });\n",
       "            rq(['music21'], function(music21) {\n",
       "                mp = new music21.miditools.MidiPlayer();\n",
       "                mp.addPlayer(\"#midiPlayerDiv7521\");\n",
       "                mp.base64Load(\"data:audio/midi;base64,TVRoZAAAAAYAAQACJ2BNVHJrAAAAGgD/UQMW42AA/1kCAAAA/1gEBAIYCM5g/y8ATVRyawAAAFYA/wMAAOAAQM5gkDxaAJA+WoK7AIA8AACAPgAAkDxaAJBAWoK7AIA8AACAQAAAkDxaAJBFWoK7AIA8AACARQAAkDxaAJBHWoK7AIA8AACARwDOYP8vAA==\");\n",
       "            });\n",
       "        }\n",
       "        if (typeof require === 'undefined') {\n",
       "            setTimeout(midiPlayerDiv7521_play, 2000);\n",
       "        } else {\n",
       "            midiPlayerDiv7521_play();\n",
       "        }\n",
       "        </script>"
      ],
      "text/plain": [
       "<IPython.core.display.HTML object>"
      ]
     },
     "metadata": {},
     "output_type": "display_data"
    },
    {
     "name": "stdout",
     "output_type": "stream",
     "text": [
      "MAJOR INTERVALS\n",
      "Second, Third, Sixth, Seventh\n"
     ]
    },
    {
     "data": {
      "image/png": "[encoded data removed]",
      "text/plain": [
       "<IPython.core.display.Image object>"
      ]
     },
     "execution_count": 65,
     "metadata": {},
     "output_type": "execute_result"
    }
   ],
   "source": [
    "notes = \"^treble c 4/4^(c4$d4)/4 (c4$e4)/4 (c4$a4)/4 (c4$b4)/4\"\n",
    "music(notes, True)\n",
    "print(\"MAJOR INTERVALS\")\n",
    "print(\"Second, Third, Sixth, Seventh\")\n",
    "music(notes)"
   ]
  },
  {
   "cell_type": "markdown",
   "metadata": {},
   "source": [
    "The unison, fourth, fifth, and octave are *perfect intervals*. The second, third, sixth and seventh are *major intervals*. If a major interval is reduced by a semitone the result is a *minor interval*. If a perfect or major interval is raised by a semitone the result is an *augmented interval*. If a perfect or minor interval is reduced by a semitone the result is a *diminished interval*."
   ]
  },
  {
   "cell_type": "code",
   "execution_count": 66,
   "metadata": {},
   "outputs": [
    {
     "data": {
      "text/html": [
       "\n",
       "        <div id=\"midiPlayerDiv7683\"></div>\n",
       "        <link rel=\"stylesheet\" href=\"https://cuthbertLab.github.io/music21j/css/m21.css\">\n",
       "        \n",
       "        <script\n",
       "        src=\"https://cdnjs.cloudflare.com/ajax/libs/require.js/2.3.6/require.min.js\"\n",
       "        ></script>\n",
       "    \n",
       "        <script>\n",
       "        function midiPlayerDiv7683_play() {\n",
       "            const rq = require.config({\n",
       "                paths: {\n",
       "                    'music21': 'https://cuthbertLab.github.io/music21j/releases/music21.debug',\n",
       "                }\n",
       "            });\n",
       "            rq(['music21'], function(music21) {\n",
       "                mp = new music21.miditools.MidiPlayer();\n",
       "                mp.addPlayer(\"#midiPlayerDiv7683\");\n",
       "                mp.base64Load(\"data:audio/midi;base64,TVRoZAAAAAYAAQACJ2BNVHJrAAAAGgD/UQMW42AA/1kCAAAA/1gEBAIYCM5g/y8ATVRyawAAAFYA/wMAAOAAQM5gkDxaAJA9WoK7AIA8AACAPQAAkDxaAJA/WoK7AIA8AACAPwAAkDxaAJBEWoK7AIA8AACARAAAkDxaAJBGWoK7AIA8AACARgDOYP8vAA==\");\n",
       "            });\n",
       "        }\n",
       "        if (typeof require === 'undefined') {\n",
       "            setTimeout(midiPlayerDiv7683_play, 2000);\n",
       "        } else {\n",
       "            midiPlayerDiv7683_play();\n",
       "        }\n",
       "        </script>"
      ],
      "text/plain": [
       "<IPython.core.display.HTML object>"
      ]
     },
     "metadata": {},
     "output_type": "display_data"
    },
    {
     "name": "stdout",
     "output_type": "stream",
     "text": [
      "MINOR INTERVALS\n",
      "Second, Third, Sixth, Seventh\n"
     ]
    },
    {
     "data": {
      "image/png": "[encoded data removed]",
      "text/plain": [
       "<IPython.core.display.Image object>"
      ]
     },
     "execution_count": 66,
     "metadata": {},
     "output_type": "execute_result"
    }
   ],
   "source": [
    "notes = \"^treble c 4/4^(c4$d-4)/4 (c4$e-4)/4 (c4$a-4)/4 (c4$b-4)/4\"\n",
    "music(notes, True)\n",
    "print(\"MINOR INTERVALS\")\n",
    "print(\"Second, Third, Sixth, Seventh\")\n",
    "music(notes)"
   ]
  },
  {
   "cell_type": "code",
   "execution_count": 67,
   "metadata": {},
   "outputs": [
    {
     "data": {
      "text/html": [
       "\n",
       "        <div id=\"midiPlayerDiv7845\"></div>\n",
       "        <link rel=\"stylesheet\" href=\"https://cuthbertLab.github.io/music21j/css/m21.css\">\n",
       "        \n",
       "        <script\n",
       "        src=\"https://cdnjs.cloudflare.com/ajax/libs/require.js/2.3.6/require.min.js\"\n",
       "        ></script>\n",
       "    \n",
       "        <script>\n",
       "        function midiPlayerDiv7845_play() {\n",
       "            const rq = require.config({\n",
       "                paths: {\n",
       "                    'music21': 'https://cuthbertLab.github.io/music21j/releases/music21.debug',\n",
       "                }\n",
       "            });\n",
       "            rq(['music21'], function(music21) {\n",
       "                mp = new music21.miditools.MidiPlayer();\n",
       "                mp.addPlayer(\"#midiPlayerDiv7845\");\n",
       "                mp.base64Load(\"data:audio/midi;base64,TVRoZAAAAAYAAQACJ2BNVHJrAAAAGgD/UQMW42AA/1kCAAAA/1gEBAIYCM5g/y8ATVRyawAAAFYA/wMAAOAAQM5gkDxaAJA/WoK7AIA8AACAPwAAkDxaAJBCWoK7AIA8AACAQgAAkDxaAJBEWoK7AIA8AACARAAAkDxaAJBGWoK7AIA8AACARgDOYP8vAA==\");\n",
       "            });\n",
       "        }\n",
       "        if (typeof require === 'undefined') {\n",
       "            setTimeout(midiPlayerDiv7845_play, 2000);\n",
       "        } else {\n",
       "            midiPlayerDiv7845_play();\n",
       "        }\n",
       "        </script>"
      ],
      "text/plain": [
       "<IPython.core.display.HTML object>"
      ]
     },
     "metadata": {},
     "output_type": "display_data"
    },
    {
     "name": "stdout",
     "output_type": "stream",
     "text": [
      "AUGMENTED INTERVALS\n",
      "Second, Fourth, Fifth, Sixth\n"
     ]
    },
    {
     "data": {
      "image/png": "[encoded data removed]",
      "text/plain": [
       "<IPython.core.display.Image object>"
      ]
     },
     "execution_count": 67,
     "metadata": {},
     "output_type": "execute_result"
    }
   ],
   "source": [
    "notes = \"^treble c 4/4^(c4$d#4)/4 (c4$f#4)/4 (c4$g#4)/4 (c4$a#4)/4\"\n",
    "music(notes, True)\n",
    "print(\"AUGMENTED INTERVALS\")\n",
    "print(\"Second, Fourth, Fifth, Sixth\")\n",
    "music(notes)"
   ]
  },
  {
   "cell_type": "code",
   "execution_count": 68,
   "metadata": {},
   "outputs": [
    {
     "data": {
      "text/html": [
       "\n",
       "        <div id=\"midiPlayerDiv8007\"></div>\n",
       "        <link rel=\"stylesheet\" href=\"https://cuthbertLab.github.io/music21j/css/m21.css\">\n",
       "        \n",
       "        <script\n",
       "        src=\"https://cdnjs.cloudflare.com/ajax/libs/require.js/2.3.6/require.min.js\"\n",
       "        ></script>\n",
       "    \n",
       "        <script>\n",
       "        function midiPlayerDiv8007_play() {\n",
       "            const rq = require.config({\n",
       "                paths: {\n",
       "                    'music21': 'https://cuthbertLab.github.io/music21j/releases/music21.debug',\n",
       "                }\n",
       "            });\n",
       "            rq(['music21'], function(music21) {\n",
       "                mp = new music21.miditools.MidiPlayer();\n",
       "                mp.addPlayer(\"#midiPlayerDiv8007\");\n",
       "                mp.base64Load(\"data:audio/midi;base64,TVRoZAAAAAYAAQACJ2BNVHJrAAAAGgD/UQMW42AA/1kCAAAA/1gEBAIYCM5g/y8ATVRyawAAAFYA/wMAAOAAQM5gkDxaAJBAWoK7AIA8AACAQAAAkDxaAJBCWoK7AIA8AACAQgAAkDxaAJBDWoK7AIA8AACAQwAAkDxaAJBFWoK7AIA8AACARQDOYP8vAA==\");\n",
       "            });\n",
       "        }\n",
       "        if (typeof require === 'undefined') {\n",
       "            setTimeout(midiPlayerDiv8007_play, 2000);\n",
       "        } else {\n",
       "            midiPlayerDiv8007_play();\n",
       "        }\n",
       "        </script>"
      ],
      "text/plain": [
       "<IPython.core.display.HTML object>"
      ]
     },
     "metadata": {},
     "output_type": "display_data"
    },
    {
     "name": "stdout",
     "output_type": "stream",
     "text": [
      "DIMINISHED INTERVALS\n",
      "Fourth, Fifth, Sixth, Seventh\n"
     ]
    },
    {
     "data": {
      "image/png": "[encoded data removed]",
      "text/plain": [
       "<IPython.core.display.Image object>"
      ]
     },
     "execution_count": 68,
     "metadata": {},
     "output_type": "execute_result"
    }
   ],
   "source": [
    "notes = \"^treble c 4/4^(c4$f-4)/4 (c4$g-4)/4 (c4$a--4)/4 (c4$b--4)/4\"\n",
    "music(notes, True)\n",
    "print(\"DIMINISHED INTERVALS\")\n",
    "print(\"Fourth, Fifth, Sixth, Seventh\")\n",
    "music(notes)"
   ]
  },
  {
   "cell_type": "markdown",
   "metadata": {},
   "source": [
    "We now have a means of identifying every interval within an octave, taking account of all the semitones."
   ]
  },
  {
   "cell_type": "markdown",
   "metadata": {},
   "source": [
    "## 1.5 Compound Intervals\n",
    "\n",
    "When an interval exceeds an octave it is said to be compound. Such intervals are also given numerical descriptions as follows:\n",
    "\n",
    "| Base | Interval | Compound Interval |\n",
    "| --- | --- | --- |\n",
    "| Octave | Second | Ninth |\n",
    "| Octave | Third | Tenth |\n",
    "| Octave | Fourth | Eleventh |\n",
    "| Octave | Fifth | Twelfth |\n",
    "| Octave | Sixth | Thirteenth |"
   ]
  },
  {
   "cell_type": "code",
   "execution_count": 69,
   "metadata": {},
   "outputs": [
    {
     "data": {
      "text/html": [
       "\n",
       "        <div id=\"midiPlayerDiv8176\"></div>\n",
       "        <link rel=\"stylesheet\" href=\"https://cuthbertLab.github.io/music21j/css/m21.css\">\n",
       "        \n",
       "        <script\n",
       "        src=\"https://cdnjs.cloudflare.com/ajax/libs/require.js/2.3.6/require.min.js\"\n",
       "        ></script>\n",
       "    \n",
       "        <script>\n",
       "        function midiPlayerDiv8176_play() {\n",
       "            const rq = require.config({\n",
       "                paths: {\n",
       "                    'music21': 'https://cuthbertLab.github.io/music21j/releases/music21.debug',\n",
       "                }\n",
       "            });\n",
       "            rq(['music21'], function(music21) {\n",
       "                mp = new music21.miditools.MidiPlayer();\n",
       "                mp.addPlayer(\"#midiPlayerDiv8176\");\n",
       "                mp.base64Load(\"data:audio/midi;base64,TVRoZAAAAAYAAQACJ2BNVHJrAAAAGgD/UQMW42AA/1kCAAAA/1gEBAIYCM5g/y8ATVRyawAAAGgA/wMAAOAAQM5gkDxaAJBKWoK7AIA8AACASgAAkDxaAJBMWoK7AIA8AACATAAAkDxaAJBNWoK7AIA8AACATQAAkDxaAJBPWoK7AIA8AACATwAAkDxaAJBRWoK7AIA8AACAUQDOYP8vAA==\");\n",
       "            });\n",
       "        }\n",
       "        if (typeof require === 'undefined') {\n",
       "            setTimeout(midiPlayerDiv8176_play, 2000);\n",
       "        } else {\n",
       "            midiPlayerDiv8176_play();\n",
       "        }\n",
       "        </script>"
      ],
      "text/plain": [
       "<IPython.core.display.HTML object>"
      ]
     },
     "metadata": {},
     "output_type": "display_data"
    },
    {
     "name": "stdout",
     "output_type": "stream",
     "text": [
      "Ninth, Tenth, Eleventh, Twelfth, Thirteenth\n"
     ]
    },
    {
     "data": {
      "image/png": "[encoded data removed]",
      "text/plain": [
       "<IPython.core.display.Image object>"
      ]
     },
     "execution_count": 69,
     "metadata": {},
     "output_type": "execute_result"
    }
   ],
   "source": [
    "notes = \"^treble c 4/4^(c4$d5)/4 (c4$e5)/4 (c4$f5)/4 (c4$g5)/4 (c4$a5)/4\"\n",
    "music(notes, True)\n",
    "print(\"Ninth, Tenth, Eleventh, Twelfth, Thirteenth\")\n",
    "music(notes)"
   ]
  },
  {
   "cell_type": "markdown",
   "metadata": {},
   "source": [
    "## 1.6 Tones and Semitones\n",
    "\n",
    "I started the section on intervals by refering to tones and semitones. We have now seen that these intervals could be alternatively described as major and minor seconds respectively. However, the concept of tones and semitones is useful fn describing the construction of scales in terms of successive intervals. Considering the scale of C major, we see that the interval construction is as follows:"
   ]
  },
  {
   "cell_type": "code",
   "execution_count": 70,
   "metadata": {},
   "outputs": [
    {
     "data": {
      "text/html": [
       "\n",
       "        <div id=\"midiPlayerDiv8375\"></div>\n",
       "        <link rel=\"stylesheet\" href=\"https://cuthbertLab.github.io/music21j/css/m21.css\">\n",
       "        \n",
       "        <script\n",
       "        src=\"https://cdnjs.cloudflare.com/ajax/libs/require.js/2.3.6/require.min.js\"\n",
       "        ></script>\n",
       "    \n",
       "        <script>\n",
       "        function midiPlayerDiv8375_play() {\n",
       "            const rq = require.config({\n",
       "                paths: {\n",
       "                    'music21': 'https://cuthbertLab.github.io/music21j/releases/music21.debug',\n",
       "                }\n",
       "            });\n",
       "            rq(['music21'], function(music21) {\n",
       "                mp = new music21.miditools.MidiPlayer();\n",
       "                mp.addPlayer(\"#midiPlayerDiv8375\");\n",
       "                mp.base64Load(\"data:audio/midi;base64,TVRoZAAAAAYAAQACJ2BNVHJrAAAAGgD/UQMW42AA/1kCAAAA/1gEBAIYCM5g/y8ATVRyawAAAFYA/wMAAOAAQM5gkDxazmCAPAAAkD5azmCAPgAAkEBazmCAQAAAkEFazmCAQQAAkENazmCAQwAAkEVazmCARQAAkEdazmCARwAAkEhazmCASADOYP8vAA==\");\n",
       "            });\n",
       "        }\n",
       "        if (typeof require === 'undefined') {\n",
       "            setTimeout(midiPlayerDiv8375_play, 2000);\n",
       "        } else {\n",
       "            midiPlayerDiv8375_play();\n",
       "        }\n",
       "        </script>"
      ],
      "text/plain": [
       "<IPython.core.display.HTML object>"
      ]
     },
     "metadata": {},
     "output_type": "display_data"
    },
    {
     "name": "stdout",
     "output_type": "stream",
     "text": [
      "T T S T T T S\n"
     ]
    },
    {
     "data": {
      "image/png": "[encoded data removed]",
      "text/plain": [
       "<IPython.core.display.Image object>"
      ]
     },
     "execution_count": 70,
     "metadata": {},
     "output_type": "execute_result"
    }
   ],
   "source": [
    "notes = \"^treble c 4/4^c4/1 d4/1 e4/1 f4/1 g4/1 a4/1 b4/1 c5/1\"\n",
    "music(notes, True)\n",
    "print(\"T T S T T T S\")\n",
    "music(notes)"
   ]
  },
  {
   "cell_type": "markdown",
   "metadata": {},
   "source": [
    "The interval sequence T T S T T T S is unique to the major scale wherever it starts. If a major scale is to be commenced on any note other than C, 'black' notes will have to be introduced to maintain this pattern of intervals. Hence the need for key signatures for different scales. All other types of scale have a unique sequence of intervals which can be described by this method."
   ]
  },
  {
   "cell_type": "markdown",
   "metadata": {},
   "source": [
    "## 1.7 Interval Shorthand\n",
    "\n",
    "It is often convenient to use a shorthand method to describe intervals. As this is used in a later section of the book I have included it here for reference and it is as follows:\n",
    "\n",
    "| Interval | Shorthand |\n",
    "| --- | --- |\n",
    "| Minor Second | m2 |\n",
    "| Major Second | M2 |\n",
    "| Minor Third | m3 |\n",
    "| Major Third | M2 |\n",
    "| Perfect Fourth | p4 |\n",
    "| Augmented Fourth | a4 |\n",
    "| Dimished Fifth | d5 |\n",
    "| Perfect Fifth | p5 |\n",
    "| Augmented Fifth | a5 |\n",
    "| Minor Sixth | m6 |\n",
    "| Major Sixth | M6 |\n",
    "| Diminished Seventh | d7 |\n",
    "| Minor Seventh | m7 |\n",
    "| Major Seventh | M7 |\n",
    "\n",
    "There is no need to include the unison and octave in this shorthand system."
   ]
  },
  {
   "cell_type": "markdown",
   "metadata": {},
   "source": [
    "## 1.8 Basic Harmony\n",
    "\n",
    "Harmony is defined as the simultaneous sounding of two or more notes and the result of such combination is a chord. In Western music the basis for the harmonic system is a chord comprising three notes and known as a *triad*.\n",
    "\n",
    "A triad consists of a *root* or *fundamental note*, a *third* and a *fifth*. There are four types of triad, each having a different combination of intervals. These are as follows:\n",
    "\n",
    "| Triad | Third | Fifth |\n",
    "| --- | --- | --- |\n",
    "| Major Triad | major 3rd | perfect 5th |\n",
    "| Minor Triad | minor 3rd | perfect 5th |\n",
    "| Augmented Triad | major 3rd | augmented 5th |\n",
    "| Diminished Triad | minor 3rd | diminished 5th |\n",
    "\n",
    "In the example below, the four types are shown on the same root for comparison:"
   ]
  },
  {
   "cell_type": "code",
   "execution_count": 71,
   "metadata": {},
   "outputs": [
    {
     "data": {
      "text/html": [
       "\n",
       "        <div id=\"midiPlayerDiv8539\"></div>\n",
       "        <link rel=\"stylesheet\" href=\"https://cuthbertLab.github.io/music21j/css/m21.css\">\n",
       "        \n",
       "        <script\n",
       "        src=\"https://cdnjs.cloudflare.com/ajax/libs/require.js/2.3.6/require.min.js\"\n",
       "        ></script>\n",
       "    \n",
       "        <script>\n",
       "        function midiPlayerDiv8539_play() {\n",
       "            const rq = require.config({\n",
       "                paths: {\n",
       "                    'music21': 'https://cuthbertLab.github.io/music21j/releases/music21.debug',\n",
       "                }\n",
       "            });\n",
       "            rq(['music21'], function(music21) {\n",
       "                mp = new music21.miditools.MidiPlayer();\n",
       "                mp.addPlayer(\"#midiPlayerDiv8539\");\n",
       "                mp.base64Load(\"data:audio/midi;base64,TVRoZAAAAAYAAQACJ2BNVHJrAAAAGgD/UQMW42AA/1kCAAAA/1gEBAIYCM5g/y8ATVRyawAAAHYA/wMAAOAAQM5gkDxaAJBAWgCQQ1qCuwCAPAAAgEAAAIBDAACQPFoAkD9aAJBDWoK7AIA8AACAPwAAgEMAAJA8WgCQQFoAkERagrsAgDwAAIBAAACARAAAkDxaAJA/WgCQQlqCuwCAPAAAgD8AAIBCAM5g/y8A\");\n",
       "            });\n",
       "        }\n",
       "        if (typeof require === 'undefined') {\n",
       "            setTimeout(midiPlayerDiv8539_play, 2000);\n",
       "        } else {\n",
       "            midiPlayerDiv8539_play();\n",
       "        }\n",
       "        </script>"
      ],
      "text/plain": [
       "<IPython.core.display.HTML object>"
      ]
     },
     "metadata": {},
     "output_type": "display_data"
    },
    {
     "name": "stdout",
     "output_type": "stream",
     "text": [
      "C Major Triad, C Minor Triad, C Augmented Triad, C Diminished Triad\n"
     ]
    },
    {
     "data": {
      "image/png": "[encoded data removed]",
      "text/plain": [
       "<IPython.core.display.Image object>"
      ]
     },
     "execution_count": 71,
     "metadata": {},
     "output_type": "execute_result"
    }
   ],
   "source": [
    "notes = \"^treble c 4/4^(c4$e4$g4)/4 (c4$e-4$g4)/4 (c4$e4$g#4)/4 (c4$e-4$g-4)/4\"\n",
    "music(notes, True)\n",
    "print(\"C Major Triad, C Minor Triad, C Augmented Triad, C Diminished Triad\")\n",
    "music(notes)"
   ]
  },
  {
   "cell_type": "markdown",
   "metadata": {},
   "source": [
    "Note that the third determines whether a chord is a major or minor.\n",
    "\n",
    "The major triad is a naturally occurring phenomenon. When a single note is played on the piano the vibrations set up within the string are complex and in addition to producing the predominant fundamental note, they also create higher notes known as *overtones* or *partials*. These are weaker than the fundamental, although a good ear will be able to hear the first three or four overtones. The series of notes thus produced is known as the *harmonic series* and the fundamental note together with the first five overtones are the constituent notes of a major triad. This is known as *Nature’s Chord*."
   ]
  },
  {
   "cell_type": "code",
   "execution_count": 72,
   "metadata": {},
   "outputs": [
    {
     "data": {
      "text/html": [
       "\n",
       "        <div id=\"midiPlayerDiv8769\"></div>\n",
       "        <link rel=\"stylesheet\" href=\"https://cuthbertLab.github.io/music21j/css/m21.css\">\n",
       "        \n",
       "        <script\n",
       "        src=\"https://cdnjs.cloudflare.com/ajax/libs/require.js/2.3.6/require.min.js\"\n",
       "        ></script>\n",
       "    \n",
       "        <script>\n",
       "        function midiPlayerDiv8769_play() {\n",
       "            const rq = require.config({\n",
       "                paths: {\n",
       "                    'music21': 'https://cuthbertLab.github.io/music21j/releases/music21.debug',\n",
       "                }\n",
       "            });\n",
       "            rq(['music21'], function(music21) {\n",
       "                mp = new music21.miditools.MidiPlayer();\n",
       "                mp.addPlayer(\"#midiPlayerDiv8769\");\n",
       "                mp.base64Load(\"data:audio/midi;base64,TVRoZAAAAAYAAQACJ2BNVHJrAAAAGgD/UQMW42AA/1kCAAAA/1gEBAIYCM5g/y8ATVRyawAAAJ4A/wMAAOAAQM5gkCRazmCAJAAAkDBazmCAMAAAkDdazmCANwAAkDxazmCAPAAAkEBazmCAQAAAkENazmCAQwAAkEZazmCARgAAkEhazmCASAAAkEpazmCASgAAkExazmCATAAAkE1azmCATQAAkE9azmCATwAAkFFazmCAUQAAkFJazmCAUgAAkFNazmCAUwAAkFRazmCAVADOYP8vAA==\");\n",
       "            });\n",
       "        }\n",
       "        if (typeof require === 'undefined') {\n",
       "            setTimeout(midiPlayerDiv8769_play, 2000);\n",
       "        } else {\n",
       "            midiPlayerDiv8769_play();\n",
       "        }\n",
       "        </script>"
      ],
      "text/plain": [
       "<IPython.core.display.HTML object>"
      ]
     },
     "metadata": {},
     "output_type": "display_data"
    },
    {
     "name": "stdout",
     "output_type": "stream",
     "text": [
      "Low C is the Fundamental Note, everything after is are Numbered Overtones\n"
     ]
    },
    {
     "data": {
      "image/png": "[encoded data removed]",
      "text/plain": [
       "<IPython.core.display.Image object>"
      ]
     },
     "execution_count": 72,
     "metadata": {},
     "output_type": "execute_result"
    }
   ],
   "source": [
    "notes = \"^treble c 4/4^c2/1 c3/1 g3/1 c4/1 e4/1 g4/1 b-4/1 c5/1 d5/1 e5/1 f5/1 g5/1 a5/1 b-5/1 b5/1 c6/1\"\n",
    "music(notes, True)\n",
    "print(\"Low C is the Fundamental Note, everything after is are Numbered Overtones\")\n",
    "music(notes)"
   ]
  },
  {
   "cell_type": "code",
   "execution_count": 73,
   "metadata": {},
   "outputs": [
    {
     "data": {
      "text/html": [
       "\n",
       "        <div id=\"midiPlayerDiv8982\"></div>\n",
       "        <link rel=\"stylesheet\" href=\"https://cuthbertLab.github.io/music21j/css/m21.css\">\n",
       "        \n",
       "        <script\n",
       "        src=\"https://cdnjs.cloudflare.com/ajax/libs/require.js/2.3.6/require.min.js\"\n",
       "        ></script>\n",
       "    \n",
       "        <script>\n",
       "        function midiPlayerDiv8982_play() {\n",
       "            const rq = require.config({\n",
       "                paths: {\n",
       "                    'music21': 'https://cuthbertLab.github.io/music21j/releases/music21.debug',\n",
       "                }\n",
       "            });\n",
       "            rq(['music21'], function(music21) {\n",
       "                mp = new music21.miditools.MidiPlayer();\n",
       "                mp.addPlayer(\"#midiPlayerDiv8982\");\n",
       "                mp.base64Load(\"data:audio/midi;base64,TVRoZAAAAAYAAQACJ2BNVHJrAAAAGgD/UQMW42AA/1kCAAAA/1gEBAIYCM5g/y8ATVRyawAAAEAA/wMAAOAAQM5gkCRaAJAwWgCQN1oAkDxaAJBAWgCQQ1qCuwCAJAAAgDAAAIA3AACAPAAAgEAAAIBDAM5g/y8A\");\n",
       "            });\n",
       "        }\n",
       "        if (typeof require === 'undefined') {\n",
       "            setTimeout(midiPlayerDiv8982_play, 2000);\n",
       "        } else {\n",
       "            midiPlayerDiv8982_play();\n",
       "        }\n",
       "        </script>"
      ],
      "text/plain": [
       "<IPython.core.display.HTML object>"
      ]
     },
     "metadata": {},
     "output_type": "display_data"
    },
    {
     "name": "stdout",
     "output_type": "stream",
     "text": [
      "NATURE'S CHORD\n"
     ]
    },
    {
     "data": {
      "image/png": "[encoded data removed]",
      "text/plain": [
       "<IPython.core.display.Image object>"
      ]
     },
     "execution_count": 73,
     "metadata": {},
     "output_type": "execute_result"
    }
   ],
   "source": [
    "notes = \"^treble c 4/4^(c2$c3$g3$c4$e4$g4)/4\"\n",
    "music(notes, True)\n",
    "print(\"NATURE'S CHORD\")\n",
    "music(notes)"
   ]
  },
  {
   "cell_type": "markdown",
   "metadata": {},
   "source": [
    "A triad can be played on each note of a scale and each triad thus formed will have the same name and Roman numeral as the note on which it is based."
   ]
  },
  {
   "cell_type": "code",
   "execution_count": 74,
   "metadata": {},
   "outputs": [
    {
     "data": {
      "text/html": [
       "\n",
       "        <div id=\"midiPlayerDiv9121\"></div>\n",
       "        <link rel=\"stylesheet\" href=\"https://cuthbertLab.github.io/music21j/css/m21.css\">\n",
       "        \n",
       "        <script\n",
       "        src=\"https://cdnjs.cloudflare.com/ajax/libs/require.js/2.3.6/require.min.js\"\n",
       "        ></script>\n",
       "    \n",
       "        <script>\n",
       "        function midiPlayerDiv9121_play() {\n",
       "            const rq = require.config({\n",
       "                paths: {\n",
       "                    'music21': 'https://cuthbertLab.github.io/music21j/releases/music21.debug',\n",
       "                }\n",
       "            });\n",
       "            rq(['music21'], function(music21) {\n",
       "                mp = new music21.miditools.MidiPlayer();\n",
       "                mp.addPlayer(\"#midiPlayerDiv9121\");\n",
       "                mp.base64Load(\"data:audio/midi;base64,TVRoZAAAAAYAAQACJ2BNVHJrAAAAGgD/UQMW42AA/1kCAAAA/1gEBAIYCM5g/y8ATVRyawAAAN4A/wMAAOAAQM5gkDxaAJBAWgCQQ1qCuwCAPAAAgEAAAIBDAACQPloAkEFaAJBFWoK7AIA+AACAQQAAgEUAAJBAWgCQQ1oAkEdagrsAgEAAAIBDAACARwAAkEFaAJBFWgCQSFqCuwCAQQAAgEUAAIBIAACQQ1oAkEdaAJBKWoK7AIBDAACARwAAgEoAAJBFWgCQSFoAkExagrsAgEUAAIBIAACATAAAkEdaAJBKWgCQTVqCuwCARwAAgEoAAIBNAACQSFoAkExaAJBPWoK7AIBIAACATAAAgE8AzmD/LwA=\");\n",
       "            });\n",
       "        }\n",
       "        if (typeof require === 'undefined') {\n",
       "            setTimeout(midiPlayerDiv9121_play, 2000);\n",
       "        } else {\n",
       "            midiPlayerDiv9121_play();\n",
       "        }\n",
       "        </script>"
      ],
      "text/plain": [
       "<IPython.core.display.HTML object>"
      ]
     },
     "metadata": {},
     "output_type": "display_data"
    },
    {
     "name": "stdout",
     "output_type": "stream",
     "text": [
      "Tonic, Supertonic, Mediant, Subdominant, Dominant, Submediant, Leading Note, Tonic\n"
     ]
    },
    {
     "data": {
      "image/png": "[encoded data removed]",
      "text/plain": [
       "<IPython.core.display.Image object>"
      ]
     },
     "execution_count": 74,
     "metadata": {},
     "output_type": "execute_result"
    }
   ],
   "source": [
    "notes = \"^treble c 4/4^(c4$e4$g4)/4 (d4$f4$a4)/4 (e4$g4$b4)/4 (f4$a4$c5)/4 (g4$b4$d5)/4 (a4$c5$e5)/4 (b4$d5$f5)/4 (c5$e5$g5)/4\"\n",
    "music(notes, True)\n",
    "print(\"Tonic, Supertonic, Mediant, Subdominant, Dominant, Submediant, Leading Note, Tonic\")\n",
    "music(notes)"
   ]
  },
  {
   "cell_type": "markdown",
   "metadata": {},
   "source": [
    "Note that in the major scale, the triads on I, IV, and V are major. Those on II, III, and VI are minor and the triad on VII is diminished."
   ]
  },
  {
   "cell_type": "markdown",
   "metadata": {},
   "source": [
    "## 1.9 Inversions\n",
    "\n",
    "When a chord is played with the root as the lowest note it is said to be in *root position*. If the root is transposed to the top of the chord leaving the third as the lowest note, the chord is said to be in its *first inversion*. If the third is now transposed in the same way the fifth becomes the lowest note and the chord is in its *second inversion*.\n",
    "\n",
    "This principle can be extended to a four-note chord which has three inversions. It is illustrated in the following example:"
   ]
  },
  {
   "cell_type": "code",
   "execution_count": 75,
   "metadata": {},
   "outputs": [
    {
     "data": {
      "text/html": [
       "\n",
       "        <div id=\"midiPlayerDiv9351\"></div>\n",
       "        <link rel=\"stylesheet\" href=\"https://cuthbertLab.github.io/music21j/css/m21.css\">\n",
       "        \n",
       "        <script\n",
       "        src=\"https://cdnjs.cloudflare.com/ajax/libs/require.js/2.3.6/require.min.js\"\n",
       "        ></script>\n",
       "    \n",
       "        <script>\n",
       "        function midiPlayerDiv9351_play() {\n",
       "            const rq = require.config({\n",
       "                paths: {\n",
       "                    'music21': 'https://cuthbertLab.github.io/music21j/releases/music21.debug',\n",
       "                }\n",
       "            });\n",
       "            rq(['music21'], function(music21) {\n",
       "                mp = new music21.miditools.MidiPlayer();\n",
       "                mp.addPlayer(\"#midiPlayerDiv9351\");\n",
       "                mp.base64Load(\"data:audio/midi;base64,TVRoZAAAAAYAAQACJ2BNVHJrAAAAGgD/UQMW42AA/1kCAAAA/1gEBAIYCM5g/y8ATVRyawAAAHYA/wMAAOAAQM5gkDxaAJBAWgCQQ1qCuwCAPAAAgEAAAIBDAACQQFoAkENaAJBIWoK7AIBAAACAQwAAgEgAAJBDWgCQSFoAkExagrsAgEMAAIBIAACATAAAkEhaAJBMWgCQT1qCuwCASAAAgEwAAIBPAM5g/y8A\");\n",
       "            });\n",
       "        }\n",
       "        if (typeof require === 'undefined') {\n",
       "            setTimeout(midiPlayerDiv9351_play, 2000);\n",
       "        } else {\n",
       "            midiPlayerDiv9351_play();\n",
       "        }\n",
       "        </script>"
      ],
      "text/plain": [
       "<IPython.core.display.HTML object>"
      ]
     },
     "metadata": {},
     "output_type": "display_data"
    },
    {
     "name": "stdout",
     "output_type": "stream",
     "text": [
      "Root Position, 1st Inversion, 2nd Inversion, Root Position\n"
     ]
    },
    {
     "data": {
      "image/png": "[encoded data removed]",
      "text/plain": [
       "<IPython.core.display.Image object>"
      ]
     },
     "execution_count": 75,
     "metadata": {},
     "output_type": "execute_result"
    }
   ],
   "source": [
    "notes = \"^treble c 4/4^(c4$e4$g4)/4 (e4$g4$c5)/4 (g4$c5$e5)/4 (c5$e5$g5)/4\"\n",
    "music(notes, True)\n",
    "print(\"Root Position, 1st Inversion, 2nd Inversion, Root Position\")\n",
    "music(notes)"
   ]
  },
  {
   "cell_type": "code",
   "execution_count": 76,
   "metadata": {},
   "outputs": [
    {
     "data": {
      "text/html": [
       "\n",
       "        <div id=\"midiPlayerDiv9512\"></div>\n",
       "        <link rel=\"stylesheet\" href=\"https://cuthbertLab.github.io/music21j/css/m21.css\">\n",
       "        \n",
       "        <script\n",
       "        src=\"https://cdnjs.cloudflare.com/ajax/libs/require.js/2.3.6/require.min.js\"\n",
       "        ></script>\n",
       "    \n",
       "        <script>\n",
       "        function midiPlayerDiv9512_play() {\n",
       "            const rq = require.config({\n",
       "                paths: {\n",
       "                    'music21': 'https://cuthbertLab.github.io/music21j/releases/music21.debug',\n",
       "                }\n",
       "            });\n",
       "            rq(['music21'], function(music21) {\n",
       "                mp = new music21.miditools.MidiPlayer();\n",
       "                mp.addPlayer(\"#midiPlayerDiv9512\");\n",
       "                mp.base64Load(\"data:audio/midi;base64,TVRoZAAAAAYAAQACJ2BNVHJrAAAAGgD/UQMW42AA/1kCAAAA/1gEBAIYCM5g/y8ATVRyawAAAJYA/wMAAOAAQM5gkDxaAJBAWgCQQ1oAkEdagrsAgDwAAIBAAACAQwAAgEcAAJBAWgCQQ1oAkEdaAJBIWoK7AIBAAACAQwAAgEcAAIBIAACQQ1oAkEdaAJBIWgCQTFqCuwCAQwAAgEcAAIBIAACATAAAkEdaAJBIWgCQTFoAkE9agrsAgEcAAIBIAACATAAAgE8AzmD/LwA=\");\n",
       "            });\n",
       "        }\n",
       "        if (typeof require === 'undefined') {\n",
       "            setTimeout(midiPlayerDiv9512_play, 2000);\n",
       "        } else {\n",
       "            midiPlayerDiv9512_play();\n",
       "        }\n",
       "        </script>"
      ],
      "text/plain": [
       "<IPython.core.display.HTML object>"
      ]
     },
     "metadata": {},
     "output_type": "display_data"
    },
    {
     "name": "stdout",
     "output_type": "stream",
     "text": [
      "Root Position, 1st Inversion, 2nd Inversion, Root Position\n"
     ]
    },
    {
     "data": {
      "image/png": "[encoded data removed]",
      "text/plain": [
       "<IPython.core.display.Image object>"
      ]
     },
     "execution_count": 76,
     "metadata": {},
     "output_type": "execute_result"
    }
   ],
   "source": [
    "notes = \"^treble c 4/4^(c4$e4$g4$b4)/4 (e4$g4$b4$c5)/4 (g4$b4$c5$e5)/4 (b4$c5$e5$g5)/4\"\n",
    "music(notes, True)\n",
    "print(\"Root Position, 1st Inversion, 2nd Inversion, Root Position\")\n",
    "music(notes)"
   ]
  },
  {
   "cell_type": "markdown",
   "metadata": {},
   "source": [
    "## 1.10 Chord Progressions - Cadences\n",
    "\n",
    "Harmonic movement from one chord to another is known as a chord progression. For our purposes the study of such progressions can be simplified by understanding a few basic principles.\n",
    "\n",
    "In the section on scales it was pointed cut that I, IV and V were the most important notes. The same is also true of the triads and for this reason, I, IV and V are known as primary triads. The other triads are known as secondary.\n",
    "\n",
    "The primary triads are important because they establish tonality in music. After the tonic, the dominant is the most important chord in any key and this has a strong tendency to move to the tonic. This is the most important chord progression of all, ie dominant to tonic or V to I, and it is the key to an understanding of all jazz harmony. The progression V to Lis known as a Perfect Cadence and can be described as a musical full-stop. If this progression is preceded by another chord, the movement from that chord to V is known as an *Imperfect Cadence* or *Half-Close*. In traditional harmony, V is often preceded by the IV chord. We then have an extended progression IV to V to I.\n",
    "\n",
    "> *ie* subdominant - dominant - tonic<br>imperfect cadence → perfect cadence\n",
    "\n",
    "Each of the secondary chords, II, III, VI and VII also have a role to play in the harmonic system but for the time being we will only consider the use of the supertonic II chord.\n",
    "\n",
    "The II chord, like the subdominant (JV) often precedes V. In fact IT and IV are closely related for they have notes in common and the chords are interchangeable.\n",
    "\n",
    "If the substitution is made we now have a new progression II—V—I in which the supertonic is behaving like a subdominant. This alternative progression is important because the two chord changes II to Vand V to I each involve a downward movement of a fifth in the bass and this is particularly strong in jazz harmony. "
   ]
  },
  {
   "cell_type": "code",
   "execution_count": 77,
   "metadata": {},
   "outputs": [
    {
     "data": {
      "text/html": [
       "\n",
       "        <div id=\"midiPlayerDiv9702\"></div>\n",
       "        <link rel=\"stylesheet\" href=\"https://cuthbertLab.github.io/music21j/css/m21.css\">\n",
       "        \n",
       "        <script\n",
       "        src=\"https://cdnjs.cloudflare.com/ajax/libs/require.js/2.3.6/require.min.js\"\n",
       "        ></script>\n",
       "    \n",
       "        <script>\n",
       "        function midiPlayerDiv9702_play() {\n",
       "            const rq = require.config({\n",
       "                paths: {\n",
       "                    'music21': 'https://cuthbertLab.github.io/music21j/releases/music21.debug',\n",
       "                }\n",
       "            });\n",
       "            rq(['music21'], function(music21) {\n",
       "                mp = new music21.miditools.MidiPlayer();\n",
       "                mp.addPlayer(\"#midiPlayerDiv9702\");\n",
       "                mp.base64Load(\"data:audio/midi;base64,TVRoZAAAAAYAAQACJ2BNVHJrAAAAGgD/UQMW42AA/1kCAAAA/1gEBAIYCM5g/y8ATVRyawAAANoA/wMAAOAAQM5gkENaAJBHWgCQSlqBnUCAQwAAgEcAAIBKAACQPFoAkEBaAJBDWoGdQIA8AACAQAAAgEMAAJBBWgCQRVoAkEhazmCAQQAAgEUAAIBIAACQQ1oAkEdaAJBKWs5ggEMAAIBHAACASgAAkDxaAJBAWgCQQ1qBnUCAPAAAgEAAAIBDAACQPloAkEFaAJBFWs5ggD4AAIBBAACARQAAkENaAJBHWgCQSlrOYIBDAACARwAAgEoAAJA8WgCQQFoAkENagZ1AgDwAAIBAAACAQwDOYP8vAA==\");\n",
       "            });\n",
       "        }\n",
       "        if (typeof require === 'undefined') {\n",
       "            setTimeout(midiPlayerDiv9702_play, 2000);\n",
       "        } else {\n",
       "            midiPlayerDiv9702_play();\n",
       "        }\n",
       "        </script>"
      ],
      "text/plain": [
       "<IPython.core.display.HTML object>"
      ]
     },
     "metadata": {},
     "output_type": "display_data"
    },
    {
     "name": "stdout",
     "output_type": "stream",
     "text": [
      "V I | IV V I | II V I\n"
     ]
    },
    {
     "data": {
      "image/png": "[encoded data removed]",
      "text/plain": [
       "<IPython.core.display.Image object>"
      ]
     },
     "execution_count": 77,
     "metadata": {},
     "output_type": "execute_result"
    }
   ],
   "source": [
    "notes = \"^treble c 4/4^(g4$b4$d5)/2 (c4$e4$g4)/2 (f4$a4$c5)/1 (g4$b4$d5)/1 (c4$e4$g4)/2 (d4$f4$a4)/1 (g4$b4$d5)/1 (c4$e4$g4)/2\"\n",
    "music(notes, True)\n",
    "print(\"V I | IV V I | II V I\")\n",
    "music(notes)"
   ]
  },
  {
   "cell_type": "code",
   "execution_count": 78,
   "metadata": {},
   "outputs": [
    {
     "data": {
      "text/html": [
       "\n",
       "        <div id=\"midiPlayerDiv9924\"></div>\n",
       "        <link rel=\"stylesheet\" href=\"https://cuthbertLab.github.io/music21j/css/m21.css\">\n",
       "        \n",
       "        <script\n",
       "        src=\"https://cdnjs.cloudflare.com/ajax/libs/require.js/2.3.6/require.min.js\"\n",
       "        ></script>\n",
       "    \n",
       "        <script>\n",
       "        function midiPlayerDiv9924_play() {\n",
       "            const rq = require.config({\n",
       "                paths: {\n",
       "                    'music21': 'https://cuthbertLab.github.io/music21j/releases/music21.debug',\n",
       "                }\n",
       "            });\n",
       "            rq(['music21'], function(music21) {\n",
       "                mp = new music21.miditools.MidiPlayer();\n",
       "                mp.addPlayer(\"#midiPlayerDiv9924\");\n",
       "                mp.base64Load(\"data:audio/midi;base64,TVRoZAAAAAYAAQACJ2BNVHJrAAAAGgD/UQMW42AA/1kCAAAA/1gEBAIYCM5g/y8ATVRyawAAAI4A/wMAAOAAQM5gkEFaAJBFWgCQSFqBnUCAQQAAgEUAAIBIAACQPloAkEFaAJBFWoGdQIA+AACAQQAAgEUAAJBKWgCQTVoAkFFazmCASgAAgE0AAIBRAACQQ1oAkEdaAJBKWs5ggEMAAIBHAACASgAAkDxaAJBAWgCQQ1qBnUCAPAAAgEAAAIBDAM5g/y8A\");\n",
       "            });\n",
       "        }\n",
       "        if (typeof require === 'undefined') {\n",
       "            setTimeout(midiPlayerDiv9924_play, 2000);\n",
       "        } else {\n",
       "            midiPlayerDiv9924_play();\n",
       "        }\n",
       "        </script>"
      ],
      "text/plain": [
       "<IPython.core.display.HTML object>"
      ]
     },
     "metadata": {},
     "output_type": "display_data"
    },
    {
     "name": "stdout",
     "output_type": "stream",
     "text": [
      "Shared Notes:\n",
      "F A | p 5th Down p 5th Down\n"
     ]
    },
    {
     "data": {
      "image/png": "[encoded data removed]",
      "text/plain": [
       "<IPython.core.display.Image object>"
      ]
     },
     "execution_count": 78,
     "metadata": {},
     "output_type": "execute_result"
    }
   ],
   "source": [
    "notes = \"^treble c 4/4^(f4$a4$c5)/2 (d4$f4$a4)/2 (d5$f5$a5)/1 (g4$b4$d5)/1 (c4$e4$g4)/2\"\n",
    "music(notes, True)\n",
    "print(\"Shared Notes:\")\n",
    "print(\"F A | p 5th Down p 5th Down\")\n",
    "music(notes)"
   ]
  },
  {
   "cell_type": "markdown",
   "metadata": {},
   "source": [
    "## 1.11 The Dominant Seventh\n",
    "\n",
    "The progression V—I is made stronger by the addition of a seventh in the dominant chord. To achieve this, a fourth note is added to the basic triad a minor seventh from the root. When this note is added the resulting discord from the minor seventh interval between the root and the seventh makes the chord feel unresolved. In the progression V—I the seventh in the dominant chord resolves to the third of the tonic and the third of the caminant chord resolves to the root of the tonic. Note that the dominant seventh is written with an Arabic numeral."
   ]
  },
  {
   "cell_type": "code",
   "execution_count": 79,
   "metadata": {},
   "outputs": [
    {
     "data": {
      "text/html": [
       "\n",
       "        <div id=\"midiPlayerDiv10108\"></div>\n",
       "        <link rel=\"stylesheet\" href=\"https://cuthbertLab.github.io/music21j/css/m21.css\">\n",
       "        \n",
       "        <script\n",
       "        src=\"https://cdnjs.cloudflare.com/ajax/libs/require.js/2.3.6/require.min.js\"\n",
       "        ></script>\n",
       "    \n",
       "        <script>\n",
       "        function midiPlayerDiv10108_play() {\n",
       "            const rq = require.config({\n",
       "                paths: {\n",
       "                    'music21': 'https://cuthbertLab.github.io/music21j/releases/music21.debug',\n",
       "                }\n",
       "            });\n",
       "            rq(['music21'], function(music21) {\n",
       "                mp = new music21.miditools.MidiPlayer();\n",
       "                mp.addPlayer(\"#midiPlayerDiv10108\");\n",
       "                mp.base64Load(\"data:audio/midi;base64,TVRoZAAAAAYAAQACJ2BNVHJrAAAAGgD/UQMW42AA/1kCAAAA/1gEBAIYCM5g/y8ATVRyawAAAMIA/wMAAOAAQM5gkENaAJBHWgCQSloAkE1agZ1AgEMAAIBHAACASgAAgE0AAJA8WgCQQFoAkENagZ1AgDwAAIBAAACAQwAAkENaAJBHWgCQSloAkE1agZ1AgEMAAIBHAACASgAAgE0AAJBIWgCQTFoAkE9agZ1AgEgAAIBMAACATwAAkENaAJBHWgCQSloAkE1agZ1AgEMAAIBHAACASgAAgE0AAJBIWgCQTFoAkE9agZ1AgEgAAIBMAACATwDOYP8vAA==\");\n",
       "            });\n",
       "        }\n",
       "        if (typeof require === 'undefined') {\n",
       "            setTimeout(midiPlayerDiv10108_play, 2000);\n",
       "        } else {\n",
       "            midiPlayerDiv10108_play();\n",
       "        }\n",
       "        </script>"
      ],
      "text/plain": [
       "<IPython.core.display.HTML object>"
      ]
     },
     "metadata": {},
     "output_type": "display_data"
    },
    {
     "name": "stdout",
     "output_type": "stream",
     "text": [
      "V7 I | (G) third to root | (B) seventh to third\n"
     ]
    },
    {
     "data": {
      "image/png": "[encoded data removed]",
      "text/plain": [
       "<IPython.core.display.Image object>"
      ]
     },
     "execution_count": 79,
     "metadata": {},
     "output_type": "execute_result"
    }
   ],
   "source": [
    "notes = \"^treble c 4/4^(g4$b4$d5$f5)/2 (c4$e4$g4)/2 (g4$b4$d5$f5)/2 (c5$e5$g5)/2 (g4$b4$d5$f5)/2 (c5$e5$g5)/2\"\n",
    "music(notes, True)\n",
    "print(\"V7 I | (G) third to root | (B) seventh to third\")\n",
    "music(notes)"
   ]
  },
  {
   "cell_type": "markdown",
   "metadata": {},
   "source": [
    "Seventh chords can also be constructed on the other notes of a scale and are known as *secondary sevenths*. These are explained in Section Two."
   ]
  },
  {
   "cell_type": "markdown",
   "metadata": {},
   "source": [
    "## 1.12 Conclusion and Summary\n",
    "\n",
    "The section on fundamentals is now concluded. To summarise:\n",
    "- Aspire to learn or improve the reading of music\n",
    "- Scales are the building blocks of music and are a basis for improvisation.\n",
    "- The notes and chords which relate to scales have specific functions and are numbered I to VII.\n",
    "- The most important chord progression in jazz harmony is the sequence II→V→I."
   ]
  },
  {
   "cell_type": "markdown",
   "metadata": {},
   "source": [
    "# 2. The Chord System\n",
    "\n",
    "## 2.1 Seventh Chords (Major Scale)\n",
    "\n",
    "The simple chords or triads discussed in Section One can be expanded to include a fourth note a seventh from the root. Seventh chords can be played on each note of a scale. Like the single notes of the scale, the chords have names and Roman numerals indicating their function and position in the scale. The names used are the same as for the single notes and the seventh chords formed in a major scale are as follows:\n",
    "\n",
    "| Numeral | Degree | Name |\n",
    "| --- | --- | --- |\n",
    "| I | Tonic | Major Seventh |\n",
    "| II | Supertonic | Minor Seventh |\n",
    "| II | Mediant | Minor Seventh |\n",
    "| IV | Subdominant | Major Seventh |\n",
    "| V | Dominant | Dominant Seventh |\n",
    "| VI | Submediant | Minor Seventh |\n",
    "| VII | Leading Note | Half Diminished Seventh |"
   ]
  },
  {
   "cell_type": "code",
   "execution_count": 80,
   "metadata": {},
   "outputs": [
    {
     "data": {
      "text/html": [
       "\n",
       "        <div id=\"midiPlayerDiv10316\"></div>\n",
       "        <link rel=\"stylesheet\" href=\"https://cuthbertLab.github.io/music21j/css/m21.css\">\n",
       "        \n",
       "        <script\n",
       "        src=\"https://cdnjs.cloudflare.com/ajax/libs/require.js/2.3.6/require.min.js\"\n",
       "        ></script>\n",
       "    \n",
       "        <script>\n",
       "        function midiPlayerDiv10316_play() {\n",
       "            const rq = require.config({\n",
       "                paths: {\n",
       "                    'music21': 'https://cuthbertLab.github.io/music21j/releases/music21.debug',\n",
       "                }\n",
       "            });\n",
       "            rq(['music21'], function(music21) {\n",
       "                mp = new music21.miditools.MidiPlayer();\n",
       "                mp.addPlayer(\"#midiPlayerDiv10316\");\n",
       "                mp.base64Load(\"data:audio/midi;base64,TVRoZAAAAAYAAQACJ2BNVHJrAAAAGgD/UQMW42AA/1kCAAAA/1gEBAIYCM5g/y8ATVRyawAAAPQA/wMAAOAAQM5gkDxaAJBAWgCQR1qBnUCAPAAAgEAAAIBHAACQPloAkEFaAJBFWgCQSFqBnUCAPgAAgEEAAIBFAACASAAAkEBaAJBDWgCQR1oAkEpagZ1AgEAAAIBDAACARwAAgEoAAJBBWgCQRVoAkEhaAJBMWoGdQIBBAACARQAAgEgAAIBMAACQQ1oAkEdaAJBKWgCQTVqBnUCAQwAAgEcAAIBKAACATQAAkEVaAJBIWgCQTFoAkE9agZ1AgEUAAIBIAACATAAAgE8AAJBHWgCQSloAkE1aAJBRWoK7AIBHAACASgAAgE0AAIBRAM5g/y8A\");\n",
       "            });\n",
       "        }\n",
       "        if (typeof require === 'undefined') {\n",
       "            setTimeout(midiPlayerDiv10316_play, 2000);\n",
       "        } else {\n",
       "            midiPlayerDiv10316_play();\n",
       "        }\n",
       "        </script>"
      ],
      "text/plain": [
       "<IPython.core.display.HTML object>"
      ]
     },
     "metadata": {},
     "output_type": "display_data"
    },
    {
     "name": "stdout",
     "output_type": "stream",
     "text": [
      "I II | III IV | V VI | VII\n"
     ]
    },
    {
     "data": {
      "image/png": "[encoded data removed]",
      "text/plain": [
       "<IPython.core.display.Image object>"
      ]
     },
     "execution_count": 80,
     "metadata": {},
     "output_type": "execute_result"
    }
   ],
   "source": [
    "notes = \"^treble c 4/4^(c4$e4$b4)/2 (d4$f4$a4$c5)/2 (e4$g4$b4$d5)/2 (f4$a4$c5$e5)/2 (g4$b4$d5$f5)/2 (a4$c5$e5$g5)/2 (b4$d5$f5$a5)/4\"\n",
    "music(notes, True)\n",
    "print(\"I II | III IV | V VI | VII\")\n",
    "music(notes)"
   ]
  },
  {
   "cell_type": "markdown",
   "metadata": {},
   "source": [
    "The I, II and V chords from the major scale are major, minor and dominant sevenths respectively. The following table shows the way in which each of these three chords is constructed in terms of the intervals within them.\n",
    "\n",
    "| Chord Type | Root | Intervals from the root |\n",
    "| --- | --- | --- |\n",
    "| | | Third / Fifth / Seventh |\n",
    "| Major Seventh | R | **Major / Perfect / Major** |\n",
    "| Minor Seventh | R | Minor / Perfect / Minor |\n",
    "| Dominant | R | Major / Perfect / Minor |\n",
    "\n",
    "Note that the third and seventh are the only intervals which vary in this table and it is these intervals in their different combinations which determine the chord type. If each type of chord is played with the same root, the root and fifth would remain the same in each case and these are sometimes referred to as *stationary notes*. "
   ]
  },
  {
   "cell_type": "code",
   "execution_count": 81,
   "metadata": {},
   "outputs": [
    {
     "data": {
      "text/html": [
       "\n",
       "        <div id=\"midiPlayerDiv10555\"></div>\n",
       "        <link rel=\"stylesheet\" href=\"https://cuthbertLab.github.io/music21j/css/m21.css\">\n",
       "        \n",
       "        <script\n",
       "        src=\"https://cdnjs.cloudflare.com/ajax/libs/require.js/2.3.6/require.min.js\"\n",
       "        ></script>\n",
       "    \n",
       "        <script>\n",
       "        function midiPlayerDiv10555_play() {\n",
       "            const rq = require.config({\n",
       "                paths: {\n",
       "                    'music21': 'https://cuthbertLab.github.io/music21j/releases/music21.debug',\n",
       "                }\n",
       "            });\n",
       "            rq(['music21'], function(music21) {\n",
       "                mp = new music21.miditools.MidiPlayer();\n",
       "                mp.addPlayer(\"#midiPlayerDiv10555\");\n",
       "                mp.base64Load(\"data:audio/midi;base64,TVRoZAAAAAYAAQACJ2BNVHJrAAAAGgD/UQMW42AA/1kCAAAA/1gEBAIYCM5g/y8ATVRyawAAAOAA/wMAAOAAQM5gkDxaAJBAWgCQQ1oAkEdagrsAgDwAAIBAAACAQwAAgEcAAJA8WgCQQ1qBnUCAPAAAgEMAAJBAWgCQR1qBnUCAQAAAgEcAAJA8WgCQQFoAkENaAJBGWoK7AIA8AACAQAAAgEMAAIBGAACQPFoAkENagZ1AgDwAAIBDAACQQFoAkEZagZ1AgEAAAIBGAACQPFoAkD9aAJBDWgCQRlqCuwCAPAAAgD8AAIBDAACARgAAkDxaAJBDWoGdQIA8AACAQwAAkD9aAJBGWoGdQIA/AACARgDOYP8vAA==\");\n",
       "            });\n",
       "        }\n",
       "        if (typeof require === 'undefined') {\n",
       "            setTimeout(midiPlayerDiv10555_play, 2000);\n",
       "        } else {\n",
       "            midiPlayerDiv10555_play();\n",
       "        }\n",
       "        </script>"
      ],
      "text/plain": [
       "<IPython.core.display.HTML object>"
      ]
     },
     "metadata": {},
     "output_type": "display_data"
    },
    {
     "name": "stdout",
     "output_type": "stream",
     "text": [
      "Major Seventh | R/5 - 3/7 | Dominant Seventh | R/5 - 3/7 | Minor Seventh | R/5 - 3/7\n"
     ]
    },
    {
     "data": {
      "image/png": "[encoded data removed]",
      "text/plain": [
       "<IPython.core.display.Image object>"
      ]
     },
     "execution_count": 81,
     "metadata": {},
     "output_type": "execute_result"
    }
   ],
   "source": [
    "notes = \"^treble c 4/4^(c4$e4$g4$b4)/4 (c4$g4)/2 (e4$b4)/2 (c4$e4$g4$b-4)/4 (c4$g4)/2 (e4$b-4)/2 (c4$e-4$g4$b-4)/4 (c4$g4)/2 (e-4$b-4)/2\"\n",
    "music(notes, True)\n",
    "print(\"Major Seventh | R/5 - 3/7 | Dominant Seventh | R/5 - 3/7 | Minor Seventh | R/5 - 3/7\")\n",
    "music(notes)"
   ]
  },
  {
   "cell_type": "markdown",
   "metadata": {},
   "source": [
    "Using seventh chords the progression II → V → I becomes:\n",
    "> minor seventh → dominant seventh → major seventh"
   ]
  },
  {
   "cell_type": "code",
   "execution_count": 82,
   "metadata": {},
   "outputs": [
    {
     "data": {
      "text/html": [
       "\n",
       "        <div id=\"midiPlayerDiv10786\"></div>\n",
       "        <link rel=\"stylesheet\" href=\"https://cuthbertLab.github.io/music21j/css/m21.css\">\n",
       "        \n",
       "        <script\n",
       "        src=\"https://cdnjs.cloudflare.com/ajax/libs/require.js/2.3.6/require.min.js\"\n",
       "        ></script>\n",
       "    \n",
       "        <script>\n",
       "        function midiPlayerDiv10786_play() {\n",
       "            const rq = require.config({\n",
       "                paths: {\n",
       "                    'music21': 'https://cuthbertLab.github.io/music21j/releases/music21.debug',\n",
       "                }\n",
       "            });\n",
       "            rq(['music21'], function(music21) {\n",
       "                mp = new music21.miditools.MidiPlayer();\n",
       "                mp.addPlayer(\"#midiPlayerDiv10786\");\n",
       "                mp.base64Load(\"data:audio/midi;base64,TVRoZAAAAAYAAQACJ2BNVHJrAAAAGgD/UQMW42AA/1kCAAAA/1gEBAIYCM5g/y8ATVRyawAAAHQA/wMAAOAAQM5gkD5aAJBBWgCQRVoAkEhagrsAgD4AAIBBAACARQAAgEgAAJBDWgCQR1oAkEpaAJBNWoK7AIBDAACARwAAgEoAAIBNAACQPFoAkEBaAJBDWgCQR1qCuwCAPAAAgEAAAIBDAACARwDOYP8vAA==\");\n",
       "            });\n",
       "        }\n",
       "        if (typeof require === 'undefined') {\n",
       "            setTimeout(midiPlayerDiv10786_play, 2000);\n",
       "        } else {\n",
       "            midiPlayerDiv10786_play();\n",
       "        }\n",
       "        </script>"
      ],
      "text/plain": [
       "<IPython.core.display.HTML object>"
      ]
     },
     "metadata": {},
     "output_type": "display_data"
    },
    {
     "name": "stdout",
     "output_type": "stream",
     "text": [
      "D Minor Seventh | G Dominant Seventh | C Major Seventh\n"
     ]
    },
    {
     "data": {
      "image/png": "[encoded data removed]",
      "text/plain": [
       "<IPython.core.display.Image object>"
      ]
     },
     "execution_count": 82,
     "metadata": {},
     "output_type": "execute_result"
    }
   ],
   "source": [
    "notes = \"^treble c 4/4^(d4$f4$a4$c5)/4 (g4$b4$d5$f5)/4 (c4$e4$g4$b4)/4\"\n",
    "music(notes, True)\n",
    "print(\"D Minor Seventh | G Dominant Seventh | C Major Seventh\")\n",
    "music(notes)"
   ]
  },
  {
   "cell_type": "markdown",
   "metadata": {},
   "source": [
    "## 2.2 Seventh Chords (Minor Scale)\n",
    "The minor key and scales have been deliberately omitted thus far for the sake of simplicity. The theory hitherto applied to the major scale applies equally to the minor scale. The functional names and numbering of the chords in the minor scale are the same as for a major scale although the chord types are different. Once again, the progression II-V-I is of prime importance.\n",
    "\n",
    "The construction of the minor scale ts quite different to the major and there are two types of scale: *Harmonic Minor* and *Melodic Minor*. The melodic minor scale has two forms; ascending and descending. Although both the harmonic and melodic minor scales are used in improvisation, it is the harmonic minor scale which is best suited to a study of the minor scale chords."
   ]
  },
  {
   "cell_type": "code",
   "execution_count": 83,
   "metadata": {},
   "outputs": [
    {
     "data": {
      "text/html": [
       "\n",
       "        <div id=\"midiPlayerDiv10950\"></div>\n",
       "        <link rel=\"stylesheet\" href=\"https://cuthbertLab.github.io/music21j/css/m21.css\">\n",
       "        \n",
       "        <script\n",
       "        src=\"https://cdnjs.cloudflare.com/ajax/libs/require.js/2.3.6/require.min.js\"\n",
       "        ></script>\n",
       "    \n",
       "        <script>\n",
       "        function midiPlayerDiv10950_play() {\n",
       "            const rq = require.config({\n",
       "                paths: {\n",
       "                    'music21': 'https://cuthbertLab.github.io/music21j/releases/music21.debug',\n",
       "                }\n",
       "            });\n",
       "            rq(['music21'], function(music21) {\n",
       "                mp = new music21.miditools.MidiPlayer();\n",
       "                mp.addPlayer(\"#midiPlayerDiv10950\");\n",
       "                mp.base64Load(\"data:audio/midi;base64,TVRoZAAAAAYAAQACJ2BNVHJrAAAAGgD/UQMW42AA/1kCAAAA/1gEBAIYCM5g/y8ATVRyawAAAFYA/wMAAOAAQM5gkEVazmCARQAAkEdazmCARwAAkEhazmCASAAAkEpazmCASgAAkExazmCATAAAkE5azmCATgAAkFBazmCAUAAAkFFazmCAUQDOYP8vAA==\");\n",
       "            });\n",
       "        }\n",
       "        if (typeof require === 'undefined') {\n",
       "            setTimeout(midiPlayerDiv10950_play, 2000);\n",
       "        } else {\n",
       "            midiPlayerDiv10950_play();\n",
       "        }\n",
       "        </script>"
      ],
      "text/plain": [
       "<IPython.core.display.HTML object>"
      ]
     },
     "metadata": {},
     "output_type": "display_data"
    },
    {
     "name": "stdout",
     "output_type": "stream",
     "text": [
      "Ascending Melodic Minor (A)\n"
     ]
    },
    {
     "data": {
      "image/png": "[encoded data removed]",
      "text/plain": [
       "<IPython.core.display.Image object>"
      ]
     },
     "execution_count": 83,
     "metadata": {},
     "output_type": "execute_result"
    }
   ],
   "source": [
    "notes = \"^treble c 4/4^a4/1 b4/1 c5/1 d5/1 e5/1 f#5/1 g#5/1 a5/1\"\n",
    "music(notes, True)\n",
    "print(\"Ascending Melodic Minor (A)\")\n",
    "music(notes)"
   ]
  },
  {
   "cell_type": "code",
   "execution_count": 84,
   "metadata": {},
   "outputs": [
    {
     "data": {
      "text/html": [
       "\n",
       "        <div id=\"midiPlayerDiv11134\"></div>\n",
       "        <link rel=\"stylesheet\" href=\"https://cuthbertLab.github.io/music21j/css/m21.css\">\n",
       "        \n",
       "        <script\n",
       "        src=\"https://cdnjs.cloudflare.com/ajax/libs/require.js/2.3.6/require.min.js\"\n",
       "        ></script>\n",
       "    \n",
       "        <script>\n",
       "        function midiPlayerDiv11134_play() {\n",
       "            const rq = require.config({\n",
       "                paths: {\n",
       "                    'music21': 'https://cuthbertLab.github.io/music21j/releases/music21.debug',\n",
       "                }\n",
       "            });\n",
       "            rq(['music21'], function(music21) {\n",
       "                mp = new music21.miditools.MidiPlayer();\n",
       "                mp.addPlayer(\"#midiPlayerDiv11134\");\n",
       "                mp.base64Load(\"data:audio/midi;base64,TVRoZAAAAAYAAQACJ2BNVHJrAAAAGgD/UQMW42AA/1kCAAAA/1gEBAIYCM5g/y8ATVRyawAAAFYA/wMAAOAAQM5gkFFazmCAUQAAkFBazmCAUAAAkE5azmCATgAAkExazmCATAAAkEpazmCASgAAkEhazmCASAAAkEdazmCARwAAkEVazmCARQDOYP8vAA==\");\n",
       "            });\n",
       "        }\n",
       "        if (typeof require === 'undefined') {\n",
       "            setTimeout(midiPlayerDiv11134_play, 2000);\n",
       "        } else {\n",
       "            midiPlayerDiv11134_play();\n",
       "        }\n",
       "        </script>"
      ],
      "text/plain": [
       "<IPython.core.display.HTML object>"
      ]
     },
     "metadata": {},
     "output_type": "display_data"
    },
    {
     "name": "stdout",
     "output_type": "stream",
     "text": [
      "Descending Melodic Minor (A)\n"
     ]
    },
    {
     "data": {
      "image/png": "[encoded data removed]",
      "text/plain": [
       "<IPython.core.display.Image object>"
      ]
     },
     "execution_count": 84,
     "metadata": {},
     "output_type": "execute_result"
    }
   ],
   "source": [
    "notes = \"^treble c 4/4^a5/1 g#5/1 f#5/1 e5/1 d5/1 c5/1 b4/1 a4/1\"\n",
    "music(notes, True)\n",
    "print(\"Descending Melodic Minor (A)\")\n",
    "music(notes)"
   ]
  },
  {
   "cell_type": "code",
   "execution_count": 85,
   "metadata": {},
   "outputs": [
    {
     "data": {
      "text/html": [
       "\n",
       "        <div id=\"midiPlayerDiv11318\"></div>\n",
       "        <link rel=\"stylesheet\" href=\"https://cuthbertLab.github.io/music21j/css/m21.css\">\n",
       "        \n",
       "        <script\n",
       "        src=\"https://cdnjs.cloudflare.com/ajax/libs/require.js/2.3.6/require.min.js\"\n",
       "        ></script>\n",
       "    \n",
       "        <script>\n",
       "        function midiPlayerDiv11318_play() {\n",
       "            const rq = require.config({\n",
       "                paths: {\n",
       "                    'music21': 'https://cuthbertLab.github.io/music21j/releases/music21.debug',\n",
       "                }\n",
       "            });\n",
       "            rq(['music21'], function(music21) {\n",
       "                mp = new music21.miditools.MidiPlayer();\n",
       "                mp.addPlayer(\"#midiPlayerDiv11318\");\n",
       "                mp.base64Load(\"data:audio/midi;base64,TVRoZAAAAAYAAQACJ2BNVHJrAAAAGgD/UQMW42AA/1kCAAAA/1gEBAIYCM5g/y8ATVRyawAAAFYA/wMAAOAAQM5gkFFazmCAUQAAkFBazmCAUAAAkE5azmCATgAAkExazmCATAAAkEpazmCASgAAkEhazmCASAAAkEdazmCARwAAkEVazmCARQDOYP8vAA==\");\n",
       "            });\n",
       "        }\n",
       "        if (typeof require === 'undefined') {\n",
       "            setTimeout(midiPlayerDiv11318_play, 2000);\n",
       "        } else {\n",
       "            midiPlayerDiv11318_play();\n",
       "        }\n",
       "        </script>"
      ],
      "text/plain": [
       "<IPython.core.display.HTML object>"
      ]
     },
     "metadata": {},
     "output_type": "display_data"
    },
    {
     "name": "stdout",
     "output_type": "stream",
     "text": [
      "Harmonic Minor (A)\n"
     ]
    },
    {
     "data": {
      "image/png": "[encoded data removed]",
      "text/plain": [
       "<IPython.core.display.Image object>"
      ]
     },
     "execution_count": 85,
     "metadata": {},
     "output_type": "execute_result"
    }
   ],
   "source": [
    "notes = \"^treble c 4/4^a5/1 g#5/1 f#5/1 e5/1 d5/1 c5/1 b4/1 a4/1\"\n",
    "music(notes, True)\n",
    "print(\"Harmonic Minor (A)\")\n",
    "music(notes)"
   ]
  },
  {
   "cell_type": "markdown",
   "metadata": {},
   "source": [
    "The interval construction of the harmonic minor is:\n",
    "\n",
    "> T S T T S m3 S\n",
    "\n",
    "and the chords derived from the scale are shown in the following table:\n",
    "\n",
    "|Numeral | Interval | Triad | Seventh |\n",
    "| --- | --- | --- | --- |\n",
    "| I | Tonic | Minor | Minor/Major Seventh |\n",
    "| II | Supertonic | Diminished | Half Diminished Seventh |\n",
    "| III | Mediant | Augmented | Augmented Major Seventh |\n",
    "| IV | Subdominant | Minor | Minor Seventh |\n",
    "| V | Dominant | Major | Dominant Seventh |\n",
    "| VI | Submediant | Major | Major Seventh |\n",
    "| VII | Leading Note | Diminished | Diminished Seventh |\n",
    "\n",
    "Using the seventh chords from the minor key, the progression II → V → I becomes:\n",
    "\n",
    " > half-diminished seventh → dominant seventh → minor/major seventh"
   ]
  },
  {
   "cell_type": "code",
   "execution_count": 86,
   "metadata": {},
   "outputs": [
    {
     "data": {
      "text/html": [
       "\n",
       "        <div id=\"midiPlayerDiv11509\"></div>\n",
       "        <link rel=\"stylesheet\" href=\"https://cuthbertLab.github.io/music21j/css/m21.css\">\n",
       "        \n",
       "        <script\n",
       "        src=\"https://cdnjs.cloudflare.com/ajax/libs/require.js/2.3.6/require.min.js\"\n",
       "        ></script>\n",
       "    \n",
       "        <script>\n",
       "        function midiPlayerDiv11509_play() {\n",
       "            const rq = require.config({\n",
       "                paths: {\n",
       "                    'music21': 'https://cuthbertLab.github.io/music21j/releases/music21.debug',\n",
       "                }\n",
       "            });\n",
       "            rq(['music21'], function(music21) {\n",
       "                mp = new music21.miditools.MidiPlayer();\n",
       "                mp.addPlayer(\"#midiPlayerDiv11509\");\n",
       "                mp.base64Load(\"data:audio/midi;base64,TVRoZAAAAAYAAQACJ2BNVHJrAAAAGgD/UQMW42AA/1kCAAAA/1gEBAIYCM5g/y8ATVRyawAAAGgA/wMAAOAAQM5gkDxazmCAPAAAkD5azmCAPgAAkD9azmCAPwAAkEFazmCAQQAAkENazmCAQwAAkERazmCARAAAkEdazmCARwAAkEhazmCASAAAkDxaAJBEWoK7AIA8AACARADOYP8vAA==\");\n",
       "            });\n",
       "        }\n",
       "        if (typeof require === 'undefined') {\n",
       "            setTimeout(midiPlayerDiv11509_play, 2000);\n",
       "        } else {\n",
       "            midiPlayerDiv11509_play();\n",
       "        }\n",
       "        </script>"
      ],
      "text/plain": [
       "<IPython.core.display.HTML object>"
      ]
     },
     "metadata": {},
     "output_type": "display_data"
    },
    {
     "name": "stdout",
     "output_type": "stream",
     "text": [
      "C Harmonic Minor\n"
     ]
    },
    {
     "data": {
      "image/png": "[encoded data removed]",
      "text/plain": [
       "<IPython.core.display.Image object>"
      ]
     },
     "execution_count": 86,
     "metadata": {},
     "output_type": "execute_result"
    }
   ],
   "source": [
    "notes = \"^treble c 4/4^c4/1 d4/1 e-4/1 f4/1 g4/1 a-4/1 b4/1 c5/1 (c4$a-4)/4\"\n",
    "music(notes, True)\n",
    "print(\"C Harmonic Minor\")\n",
    "music(notes)"
   ]
  },
  {
   "cell_type": "code",
   "execution_count": 87,
   "metadata": {},
   "outputs": [
    {
     "data": {
      "text/html": [
       "\n",
       "        <div id=\"midiPlayerDiv11708\"></div>\n",
       "        <link rel=\"stylesheet\" href=\"https://cuthbertLab.github.io/music21j/css/m21.css\">\n",
       "        \n",
       "        <script\n",
       "        src=\"https://cdnjs.cloudflare.com/ajax/libs/require.js/2.3.6/require.min.js\"\n",
       "        ></script>\n",
       "    \n",
       "        <script>\n",
       "        function midiPlayerDiv11708_play() {\n",
       "            const rq = require.config({\n",
       "                paths: {\n",
       "                    'music21': 'https://cuthbertLab.github.io/music21j/releases/music21.debug',\n",
       "                }\n",
       "            });\n",
       "            rq(['music21'], function(music21) {\n",
       "                mp = new music21.miditools.MidiPlayer();\n",
       "                mp.addPlayer(\"#midiPlayerDiv11708\");\n",
       "                mp.base64Load(\"data:audio/midi;base64,TVRoZAAAAAYAAQACJ2BNVHJrAAAAGgD/UQMW42AA/1kCAAAA/1gEBAIYCM5g/y8ATVRyawAAAOYA/wMAAOAAQM5ggDIAAIA1AACAOAAAgDwAAJAyWgCQNVoAkDhaAJA8WgCQPloAkEFaAJBEWgCQSFqCuwCAPgAAgEEAAIBEAACASAAAgCsAAIAvAACAMgAAgDUAAJArWgCQL1oAkDJaAJA1WgCQQ1oAkEdaAJBKWgCQTVqCuwCAQwAAgEcAAIBKAACATQAAgDAAAIAzAACANwAAgDsAAJAwWgCQM1oAkDdaAJA7WgCQPFoAkD9aAJBDWgCQR1qCuwCAPAAAgD8AAIBDAACARwAAkDxaAJBEWoK7AIA8AACARADOYP8vAA==\");\n",
       "            });\n",
       "        }\n",
       "        if (typeof require === 'undefined') {\n",
       "            setTimeout(midiPlayerDiv11708_play, 2000);\n",
       "        } else {\n",
       "            midiPlayerDiv11708_play();\n",
       "        }\n",
       "        </script>"
      ],
      "text/plain": [
       "<IPython.core.display.HTML object>"
      ]
     },
     "metadata": {},
     "output_type": "display_data"
    },
    {
     "name": "stdout",
     "output_type": "stream",
     "text": [
      "\n"
     ]
    },
    {
     "data": {
      "image/png": "[encoded data removed]",
      "text/plain": [
       "<IPython.core.display.Image object>"
      ]
     },
     "execution_count": 87,
     "metadata": {},
     "output_type": "execute_result"
    }
   ],
   "source": [
    "notes = \"^treble c 4/4^!dm7b5 (d4$f4$a-4$c5)/4 !g7 (g4$b4$d5$f5)/4 !CmM7 (c4$e-4$g4$b4)/4 (c4$a-4)/4\"\n",
    "music(notes, True)\n",
    "print(\"\")\n",
    "music(notes)"
   ]
  },
  {
   "cell_type": "markdown",
   "metadata": {},
   "source": [
    "Note that the supertonic (II) in the minor key is a half-diminished chord. This is because the fifth note of the scale and the fifth of the chord form a diminished fifth interval with the root and not a perfect fifth as in the minor seventh. Because this is the only difference from the minor seventh chord, the half-diminished is also referred to as a *minor seventh flattened fifth* chord or *minor seven flat five*."
   ]
  },
  {
   "cell_type": "markdown",
   "metadata": {},
   "source": [
    "## 2.3 Sixth Chords\n",
    "\n",
    "The tonic chords, *ie* the major seventh and minor/major seventh both contain a major seventh from the root. The major seventh can, at the player's discretion, be replaced by a major sixth as shown in the following examples:"
   ]
  },
  {
   "cell_type": "code",
   "execution_count": 91,
   "metadata": {},
   "outputs": [
    {
     "data": {
      "text/html": [
       "\n",
       "        <div id=\"midiPlayerDiv12115\"></div>\n",
       "        <link rel=\"stylesheet\" href=\"https://cuthbertLab.github.io/music21j/css/m21.css\">\n",
       "        \n",
       "        <script\n",
       "        src=\"https://cdnjs.cloudflare.com/ajax/libs/require.js/2.3.6/require.min.js\"\n",
       "        ></script>\n",
       "    \n",
       "        <script>\n",
       "        function midiPlayerDiv12115_play() {\n",
       "            const rq = require.config({\n",
       "                paths: {\n",
       "                    'music21': 'https://cuthbertLab.github.io/music21j/releases/music21.debug',\n",
       "                }\n",
       "            });\n",
       "            rq(['music21'], function(music21) {\n",
       "                mp = new music21.miditools.MidiPlayer();\n",
       "                mp.addPlayer(\"#midiPlayerDiv12115\");\n",
       "                mp.base64Load(\"data:audio/midi;base64,TVRoZAAAAAYAAQACJ2BNVHJrAAAAGgD/UQMW42AA/1kCAAAA/1gEBAIYCM5g/y8ATVRyawAAARYA/wMAAOAAQM5ggDUAAIA5AACAPAAAgD4AAJA1WgCQOVoAkDxaAJA+WgCQQVoAkEVaAJBIWgCQSlqCuwCAQQAAgEUAAIBIAACASgAAgC4AAIAyAACANQAAgDcAAJAuWgCQMloAkDVaAJA3WgCQRloAkEpaAJBNWgCQT1qCuwCARgAAgEoAAIBNAACATwAAgDMAAIA3AACAOgAAgDwAAJAzWgCQN1oAkDpaAJA8WgCQP1oAkENaAJBGWgCQSFqCuwCAPwAAgEMAAIBGAACASAAAgCsAAIAvAACAMgAAgDQAAJArWgCQL1oAkDJaAJA0WgCQQ1oAkEdaAJBKWgCQTFqCuwCAQwAAgEcAAIBKAACATADOYP8vAA==\");\n",
       "            });\n",
       "        }\n",
       "        if (typeof require === 'undefined') {\n",
       "            setTimeout(midiPlayerDiv12115_play, 2000);\n",
       "        } else {\n",
       "            midiPlayerDiv12115_play();\n",
       "        }\n",
       "        </script>"
      ],
      "text/plain": [
       "<IPython.core.display.HTML object>"
      ]
     },
     "metadata": {},
     "output_type": "display_data"
    },
    {
     "data": {
      "image/png": "[encoded data removed]",
      "text/plain": [
       "<IPython.core.display.Image object>"
      ]
     },
     "execution_count": 91,
     "metadata": {},
     "output_type": "execute_result"
    }
   ],
   "source": [
    "notes = \"^treble c 4/4^!f6 (f4$a4$c5$d5)/4 !b-6 (b-4$d5$f5$g5)/4 !e-6 (e-4$g4$b-4$c5)/4 !g6 (g4$b4$d5$e5)/4\"\n",
    "music(notes, True)\n",
    "music(notes)"
   ]
  },
  {
   "cell_type": "code",
   "execution_count": 94,
   "metadata": {},
   "outputs": [
    {
     "data": {
      "text/html": [
       "\n",
       "        <div id=\"midiPlayerDiv12342\"></div>\n",
       "        <link rel=\"stylesheet\" href=\"https://cuthbertLab.github.io/music21j/css/m21.css\">\n",
       "        \n",
       "        <script\n",
       "        src=\"https://cdnjs.cloudflare.com/ajax/libs/require.js/2.3.6/require.min.js\"\n",
       "        ></script>\n",
       "    \n",
       "        <script>\n",
       "        function midiPlayerDiv12342_play() {\n",
       "            const rq = require.config({\n",
       "                paths: {\n",
       "                    'music21': 'https://cuthbertLab.github.io/music21j/releases/music21.debug',\n",
       "                }\n",
       "            });\n",
       "            rq(['music21'], function(music21) {\n",
       "                mp = new music21.miditools.MidiPlayer();\n",
       "                mp.addPlayer(\"#midiPlayerDiv12342\");\n",
       "                mp.base64Load(\"data:audio/midi;base64,TVRoZAAAAAYAAQACJ2BNVHJrAAAAGgD/UQMW42AA/1kCAAAA/1gEBAIYCM5g/y8ATVRyawAAARYA/wMAAOAAQM5ggDAAAIAzAACANwAAgDkAAJAwWgCQM1oAkDdaAJA5WgCQPFoAkD9aAJBDWgCQRVqCuwCAPAAAgD8AAIBDAACARQAAgDMAAIA2AACAOgAAgDwAAJAzWgCQNloAkDpaAJA8WgCQP1oAkEJaAJBGWgCQSFqCuwCAPwAAgEIAAIBGAACASAAAgC0AAIAwAACANAAAgDYAAJAtWgCQMFoAkDRaAJA2WgCQRVoAkEhaAJBMWgCQTlqCuwCARQAAgEgAAIBMAACATgAAgDIAAIA1AACAOQAAgDsAAJAyWgCQNVoAkDlaAJA7WgCQPloAkEFaAJBFWgCQR1qCuwCAPgAAgEEAAIBFAACARwDOYP8vAA==\");\n",
       "            });\n",
       "        }\n",
       "        if (typeof require === 'undefined') {\n",
       "            setTimeout(midiPlayerDiv12342_play, 2000);\n",
       "        } else {\n",
       "            midiPlayerDiv12342_play();\n",
       "        }\n",
       "        </script>"
      ],
      "text/plain": [
       "<IPython.core.display.HTML object>"
      ]
     },
     "metadata": {},
     "output_type": "display_data"
    },
    {
     "data": {
      "image/png": "[encoded data removed]",
      "text/plain": [
       "<IPython.core.display.Image object>"
      ]
     },
     "execution_count": 94,
     "metadata": {},
     "output_type": "execute_result"
    }
   ],
   "source": [
    "notes = \"^treble c 4/4^!cm6 (c4$e-4$g4$a4)/4 !e-m6 (e-4$g-4$b-4$c5)/4 !am6 (a4$c5$e5$f#5)/4 !dm6 (d4$f4$a4$b4)/4\"\n",
    "music(notes, True)\n",
    "music(notes)"
   ]
  },
  {
   "cell_type": "markdown",
   "metadata": {},
   "source": [
    "In these examples the sixth is a constituent of the basic chord. It can only be used in this way on a tonic chord. If a 'sixth' is added to a dominant chord it is more correctly a 'thirteenth', being an embellishment rather than a basic constituent."
   ]
  },
  {
   "cell_type": "markdown",
   "metadata": {},
   "source": [
    "## 2.4 Altered Dominant Sevenths\n",
    "\n",
    "The basic dominant seventh can be altered in two ways:\n",
    "- by raising the fifth (sharp).\n",
    "- by lowering the fifth (flat).\n",
    "The dominant seventh with a raised fifth is also known as an *augmented seventh* chord.\n",
    "\n",
    "These altered fifths are integral parts of the chords. Unlike the normal dominant seventh, the chords do not contain a perfect fifth. "
   ]
  },
  {
   "cell_type": "code",
   "execution_count": 99,
   "metadata": {},
   "outputs": [
    {
     "data": {
      "text/html": [
       "\n",
       "        <div id=\"midiPlayerDiv12945\"></div>\n",
       "        <link rel=\"stylesheet\" href=\"https://cuthbertLab.github.io/music21j/css/m21.css\">\n",
       "        \n",
       "        <script\n",
       "        src=\"https://cdnjs.cloudflare.com/ajax/libs/require.js/2.3.6/require.min.js\"\n",
       "        ></script>\n",
       "    \n",
       "        <script>\n",
       "        function midiPlayerDiv12945_play() {\n",
       "            const rq = require.config({\n",
       "                paths: {\n",
       "                    'music21': 'https://cuthbertLab.github.io/music21j/releases/music21.debug',\n",
       "                }\n",
       "            });\n",
       "            rq(['music21'], function(music21) {\n",
       "                mp = new music21.miditools.MidiPlayer();\n",
       "                mp.addPlayer(\"#midiPlayerDiv12945\");\n",
       "                mp.base64Load(\"data:audio/midi;base64,TVRoZAAAAAYAAQACJ2BNVHJrAAAAGgD/UQMW42AA/1kCAAAA/1gEBAIYCM5g/y8ATVRyawAAAVgA/wMAAOAAQM5ggDAAAIA0AACAOAAAgDoAAJAwWgCQNFoAkDhaAJA6WgCQPFoAkEBaAJBEWgCQRlqCuwCAPAAAgEAAAIBEAACARgAAgCkAAIAtAACAMQAAgDMAAJApWgCQLVoAkDFaAJAzWgCQQVoAkEVaAJBJWgCQS1qCuwCAQQAAgEUAAIBJAACASwAAgC4AAIAyAACANgAAgDgAAJAuWgCQMloAkDZaAJA4WgCQOloAkD5aAJBCWgCQRFqCuwCAOgAAgD4AAIBCAACARAAAgDMAAIA3AACAOwAAgD0AAJAzWgCQN1oAkDtaAJA9WgCQP1oAkENaAJBHWgCQSlqCuwCAPwAAgEMAAIBHAACASgAAgCwAAIAwAACANAAAgDYAAJAsWgCQMFoAkDRaAJA2WgCQRFoAkEhaAJBMWgCQTlqCuwCARAAAgEgAAIBMAACATgDOYP8vAA==\");\n",
       "            });\n",
       "        }\n",
       "        if (typeof require === 'undefined') {\n",
       "            setTimeout(midiPlayerDiv12945_play, 2000);\n",
       "        } else {\n",
       "            midiPlayerDiv12945_play();\n",
       "        }\n",
       "        </script>"
      ],
      "text/plain": [
       "<IPython.core.display.HTML object>"
      ]
     },
     "metadata": {},
     "output_type": "display_data"
    },
    {
     "data": {
      "image/png": "[encoded data removed]",
      "text/plain": [
       "<IPython.core.display.Image object>"
      ]
     },
     "execution_count": 99,
     "metadata": {},
     "output_type": "execute_result"
    }
   ],
   "source": [
    "notes = \"^treble c 4/4^!c7#5 (c4$e4$g#4$b-4)/4 !f7#5 (f4$a4$c#5$e-5)/4 !b-7#5 (b-3$d4$f#4$a-4)/4 !e-7#5 (e-4$g4$b4$d5)/4 !a-7#5 (a-4$c5$e5$g-5)/4\"\n",
    "music(notes, True)\n",
    "music(notes)"
   ]
  },
  {
   "cell_type": "code",
   "execution_count": 100,
   "metadata": {},
   "outputs": [
    {
     "data": {
      "text/html": [
       "\n",
       "        <div id=\"midiPlayerDiv13201\"></div>\n",
       "        <link rel=\"stylesheet\" href=\"https://cuthbertLab.github.io/music21j/css/m21.css\">\n",
       "        \n",
       "        <script\n",
       "        src=\"https://cdnjs.cloudflare.com/ajax/libs/require.js/2.3.6/require.min.js\"\n",
       "        ></script>\n",
       "    \n",
       "        <script>\n",
       "        function midiPlayerDiv13201_play() {\n",
       "            const rq = require.config({\n",
       "                paths: {\n",
       "                    'music21': 'https://cuthbertLab.github.io/music21j/releases/music21.debug',\n",
       "                }\n",
       "            });\n",
       "            rq(['music21'], function(music21) {\n",
       "                mp = new music21.miditools.MidiPlayer();\n",
       "                mp.addPlayer(\"#midiPlayerDiv13201\");\n",
       "                mp.base64Load(\"data:audio/midi;base64,TVRoZAAAAAYAAQACJ2BNVHJrAAAAGgD/UQMW42AA/1kCAAAA/1gEBAIYCM5g/y8ATVRyawAAAVgA/wMAAOAAQM5ggDAAAIA0AACANgAAgDoAAJAwWgCQNFoAkDZaAJA6WgCQPFoAkEBaAJBCWgCQRlqCuwCAPAAAgEAAAIBCAACARgAAgCkAAIAtAACALwAAgDMAAJApWgCQLVoAkC9aAJAzWgCQQVoAkEVaAJBHWgCQS1qCuwCAQQAAgEUAAIBHAACASwAAgC4AAIAyAACANAAAgDgAAJAuWgCQMloAkDRaAJA4WgCQOloAkD5aAJBAWgCQRFqCuwCAOgAAgD4AAIBAAACARAAAgDMAAIA3AACAOQAAgD0AAJAzWgCQN1oAkDlaAJA9WgCQP1oAkENaAJBFWgCQSVqCuwCAPwAAgEMAAIBFAACASQAAgCwAAIAwAACAMgAAgDYAAJAsWgCQMFoAkDJaAJA2WgCQRFoAkEhaAJBKWgCQTlqCuwCARAAAgEgAAIBKAACATgDOYP8vAA==\");\n",
       "            });\n",
       "        }\n",
       "        if (typeof require === 'undefined') {\n",
       "            setTimeout(midiPlayerDiv13201_play, 2000);\n",
       "        } else {\n",
       "            midiPlayerDiv13201_play();\n",
       "        }\n",
       "        </script>"
      ],
      "text/plain": [
       "<IPython.core.display.HTML object>"
      ]
     },
     "metadata": {},
     "output_type": "display_data"
    },
    {
     "data": {
      "image/png": "[encoded data removed]",
      "text/plain": [
       "<IPython.core.display.Image object>"
      ]
     },
     "execution_count": 100,
     "metadata": {},
     "output_type": "execute_result"
    }
   ],
   "source": [
    "notes = \"^treble c 4/4^!c7b5 (c4$e4$g-4$b-4)/4 !f7b5 (f4$a4$c-5$e-5)/4 !b-7b5 (b-3$d4$f-4$a-4)/4 !e-7b5 (e-4$g4$b--4$d-5)/4 !a-7b5 (a-4$c5$e--5$g-5)/4\"\n",
    "music(notes, True)\n",
    "music(notes)"
   ]
  },
  {
   "cell_type": "markdown",
   "metadata": {},
   "source": [
    "Note:\n",
    "> C7#5 = C7(aug)"
   ]
  },
  {
   "cell_type": "markdown",
   "metadata": {},
   "source": [
    "## 2.5 Reading and Writing Chord Symbols\n",
    "\n",
    "By studying the chords within the major and minor scales we have encountered every basic chord type. Writing an example of each of these chords on the same root enables them to be easily compared at the piano. A chord symbol is added with each example. "
   ]
  },
  {
   "cell_type": "code",
   "execution_count": null,
   "metadata": {},
   "outputs": [],
   "source": [
    "notes = \"^treble c 4/4^\"\n",
    "music(notes, True)\n",
    "print(\"\")\n",
    "music(notes)"
   ]
  },
  {
   "cell_type": "code",
   "execution_count": null,
   "metadata": {},
   "outputs": [],
   "source": [
    "notes = \"^treble c 4/4^\"\n",
    "music(notes, True)\n",
    "print(\"\")\n",
    "music(notes)"
   ]
  }
 ],
 "metadata": {
  "kernelspec": {
   "display_name": ".venv",
   "language": "python",
   "name": "python3"
  },
  "language_info": {
   "codemirror_mode": {
    "name": "ipython",
    "version": 3
   },
   "file_extension": ".py",
   "mimetype": "text/x-python",
   "name": "python",
   "nbconvert_exporter": "python",
   "pygments_lexer": "ipython3",
   "version": "3.11.4"
  }
 },
 "nbformat": 4,
 "nbformat_minor": 2
}
